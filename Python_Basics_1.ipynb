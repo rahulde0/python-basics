{
  "nbformat": 4,
  "nbformat_minor": 0,
  "metadata": {
    "colab": {
      "provenance": [],
      "authorship_tag": "ABX9TyNQyxyJGAiJoUe+DDP43wUY",
      "include_colab_link": true
    },
    "kernelspec": {
      "name": "python3",
      "display_name": "Python 3"
    },
    "language_info": {
      "name": "python"
    }
  },
  "cells": [
    {
      "cell_type": "markdown",
      "metadata": {
        "id": "view-in-github",
        "colab_type": "text"
      },
      "source": [
        "<a href=\"https://colab.research.google.com/github/rahulde0/python-basics/blob/main/PY_Basics_1.ipynb\" target=\"_parent\"><img src=\"https://colab.research.google.com/assets/colab-badge.svg\" alt=\"Open In Colab\"/></a>"
      ]
    },
    {
      "cell_type": "code",
      "execution_count": 5,
      "metadata": {
        "colab": {
          "base_uri": "https://localhost:8080/"
        },
        "id": "iY5c4AXKdm-8",
        "outputId": "adf1b85c-42c7-4fbc-cffd-bad327b90228"
      },
      "outputs": [
        {
          "output_type": "stream",
          "name": "stdout",
          "text": [
            "20\n"
          ]
        }
      ],
      "source": [
        "var = 10+10\n",
        "print (var)"
      ]
    },
    {
      "cell_type": "code",
      "source": [
        "'''\n",
        "This is multi-line comment.\n",
        "comment line 1\n",
        "comment line 2\n",
        "'''\n",
        "firstVar=10\n",
        "secondVar=20\n",
        "print(firstVar+secondVar)"
      ],
      "metadata": {
        "colab": {
          "base_uri": "https://localhost:8080/"
        },
        "id": "S06xbVBenl34",
        "outputId": "6a86399f-70b9-47fa-e2a4-762d1ce1ce2c"
      },
      "execution_count": 8,
      "outputs": [
        {
          "output_type": "stream",
          "name": "stdout",
          "text": [
            "30\n"
          ]
        }
      ]
    },
    {
      "cell_type": "code",
      "source": [
        "# Single line comment\n",
        "# Single line comment\n",
        "print(\"Hello World\")"
      ],
      "metadata": {
        "colab": {
          "base_uri": "https://localhost:8080/"
        },
        "id": "CHaK3JaLhngA",
        "outputId": "05299d73-153c-4cef-f179-0dd594e2f6ae"
      },
      "execution_count": 10,
      "outputs": [
        {
          "output_type": "stream",
          "name": "stdout",
          "text": [
            "Hello World\n"
          ]
        }
      ]
    },
    {
      "cell_type": "code",
      "source": [
        "def add(a,b):\n",
        "    '''\n",
        "    This function takes 2 values as input and returns the sum of the values.\n",
        "    '''\n",
        "    sum = a+b\n",
        "    return sum\n"
      ],
      "metadata": {
        "id": "Uij0bYtJoQMT"
      },
      "execution_count": 11,
      "outputs": []
    },
    {
      "cell_type": "code",
      "source": [
        "var_sum=add(10,20)\n",
        "print(var_sum)"
      ],
      "metadata": {
        "colab": {
          "base_uri": "https://localhost:8080/"
        },
        "id": "WKQol9Rooxxa",
        "outputId": "dc1bd754-21fd-4cde-a0c0-ac4bc6f9aa20"
      },
      "execution_count": 12,
      "outputs": [
        {
          "output_type": "stream",
          "name": "stdout",
          "text": [
            "30\n"
          ]
        }
      ]
    },
    {
      "cell_type": "code",
      "source": [
        "#Indentation: It is a good way to keep the code readable\n",
        "variable1=10; variable2=20;\n",
        "for i in range(1,4): print(i); print('-----'); print(variable1+variable2) # Not Readable code"
      ],
      "metadata": {
        "colab": {
          "base_uri": "https://localhost:8080/"
        },
        "id": "N8XPGXb6o8xe",
        "outputId": "741f65a6-249a-46b6-cdfe-b52bc54422e6"
      },
      "execution_count": 14,
      "outputs": [
        {
          "output_type": "stream",
          "name": "stdout",
          "text": [
            "1\n",
            "-----\n",
            "30\n",
            "2\n",
            "-----\n",
            "30\n",
            "3\n",
            "-----\n",
            "30\n"
          ]
        }
      ]
    },
    {
      "cell_type": "code",
      "source": [
        "# Reader Friendly code\n",
        "variable1=10;\n",
        "variable2=20;\n",
        "for i in range(1,4):\n",
        "  print(i);\n",
        "  print('-----');\n",
        "  print(variable1+variable2)"
      ],
      "metadata": {
        "colab": {
          "base_uri": "https://localhost:8080/"
        },
        "id": "GwOie4g2qi6X",
        "outputId": "293186f1-4892-45f1-81cb-4b0bb97ab2eb"
      },
      "execution_count": 15,
      "outputs": [
        {
          "output_type": "stream",
          "name": "stdout",
          "text": [
            "1\n",
            "-----\n",
            "30\n",
            "2\n",
            "-----\n",
            "30\n",
            "3\n",
            "-----\n",
            "30\n"
          ]
        }
      ]
    },
    {
      "cell_type": "code",
      "metadata": {
        "colab": {
          "base_uri": "https://localhost:8080/"
        },
        "id": "c70b2d6a",
        "outputId": "d7781681-169e-4b07-9a79-01339e90fea9"
      },
      "source": [
        "import keyword\n",
        "print(keyword.kwlist)"
      ],
      "execution_count": 6,
      "outputs": [
        {
          "output_type": "stream",
          "name": "stdout",
          "text": [
            "['False', 'None', 'True', 'and', 'as', 'assert', 'async', 'await', 'break', 'class', 'continue', 'def', 'del', 'elif', 'else', 'except', 'finally', 'for', 'from', 'global', 'if', 'import', 'in', 'is', 'lambda', 'nonlocal', 'not', 'or', 'pass', 'raise', 'return', 'try', 'while', 'with', 'yield']\n"
          ]
        }
      ]
    },
    {
      "cell_type": "code",
      "source": [
        "# Variable Assignments: rules for writing a variable name is same as rules for writing identifiers in python.\n",
        "# '=' operator is used to assign variables\n",
        "integerNumber=4\n",
        "decimalNumber=22.2\n",
        "stringVariable=\"StringValue\"\n",
        "print (integerNumber, decimalNumber, stringVariable)"
      ],
      "metadata": {
        "colab": {
          "base_uri": "https://localhost:8080/"
        },
        "id": "NBd_UgVXyBvQ",
        "outputId": "fc9d3835-cbba-4766-d082-89b9bc9fb300"
      },
      "execution_count": 16,
      "outputs": [
        {
          "output_type": "stream",
          "name": "stdout",
          "text": [
            "4 22.2 StringValue\n"
          ]
        }
      ]
    },
    {
      "cell_type": "code",
      "source": [
        "#Multiple Assignments\n",
        "integerNumber, decimalNumber, stringVariable = 4, 22.2, \"This is text data\"\n",
        "print (integerNumber, decimalNumber, stringVariable)"
      ],
      "metadata": {
        "colab": {
          "base_uri": "https://localhost:8080/"
        },
        "id": "WJ18HobOysUa",
        "outputId": "161346dc-3c71-4838-e8d9-fc4f25988b7b"
      },
      "execution_count": 17,
      "outputs": [
        {
          "output_type": "stream",
          "name": "stdout",
          "text": [
            "4 22.2 This is text data\n"
          ]
        }
      ]
    },
    {
      "cell_type": "code",
      "source": [
        "#Assign same value to multiple variables\n",
        "var1=var2=var3=\"My Name is Rahul\""
      ],
      "metadata": {
        "id": "zijr38sAy8Po"
      },
      "execution_count": 19,
      "outputs": []
    },
    {
      "cell_type": "code",
      "source": [
        "# Address of the variables\n",
        "print('Id of var1 is : ', id(var1))\n",
        "print('Id of var2 is : ', id(var2))\n",
        "print('Id of var3 is : ', id(var3))"
      ],
      "metadata": {
        "colab": {
          "base_uri": "https://localhost:8080/"
        },
        "id": "6zLqqSAyzre9",
        "outputId": "ff81363e-0e4b-410b-cde9-06b4c9ad0658"
      },
      "execution_count": 20,
      "outputs": [
        {
          "output_type": "stream",
          "name": "stdout",
          "text": [
            "Id of var1 is :  136464042824832\n",
            "Id of var2 is :  136464042824832\n",
            "Id of var3 is :  136464042824832\n"
          ]
        }
      ]
    },
    {
      "cell_type": "code",
      "source": [
        "var3=\"changed\""
      ],
      "metadata": {
        "id": "YlLwF-aMzuWe"
      },
      "execution_count": 21,
      "outputs": []
    },
    {
      "cell_type": "code",
      "source": [
        "print('Id of var1 is : ', id(var1))\n",
        "print('Id of var2 is : ', id(var2))\n",
        "print('Id of var3 is : ', id(var3))"
      ],
      "metadata": {
        "colab": {
          "base_uri": "https://localhost:8080/"
        },
        "id": "22waXVvf0XTn",
        "outputId": "9b58fd23-770e-43b2-f36f-098d645bb762"
      },
      "execution_count": 22,
      "outputs": [
        {
          "output_type": "stream",
          "name": "stdout",
          "text": [
            "Id of var1 is :  136464042824832\n",
            "Id of var2 is :  136464042824832\n",
            "Id of var3 is :  136465025430384\n"
          ]
        }
      ]
    },
    {
      "cell_type": "markdown",
      "source": [
        "DataTypes in Python"
      ],
      "metadata": {
        "id": "eglc-X6Q0tEz"
      }
    },
    {
      "cell_type": "code",
      "source": [
        "# type() --> know the data type of the variable\n",
        "# instance() ---> to know the class of the variable\n",
        "data1=12\n",
        "print(data1, ' is of type : ' , type(data1))\n",
        "print(isinstance(data1, int))"
      ],
      "metadata": {
        "colab": {
          "base_uri": "https://localhost:8080/"
        },
        "id": "ep9-JsE80zKR",
        "outputId": "acbc8006-99e6-4d6f-fee1-4f66374f74fd"
      },
      "execution_count": 23,
      "outputs": [
        {
          "output_type": "stream",
          "name": "stdout",
          "text": [
            "12  is of type :  <class 'int'>\n",
            "True\n"
          ]
        }
      ]
    },
    {
      "cell_type": "code",
      "source": [
        "data2=12.5 # Floating point integer\n",
        "print(data2, ' is of type : ' , type(data2))\n",
        "print(isinstance(data2, float))"
      ],
      "metadata": {
        "colab": {
          "base_uri": "https://localhost:8080/"
        },
        "id": "rj_EH-Sd1miT",
        "outputId": "5a92ee80-7612-4792-9e8f-610598cb67ee"
      },
      "execution_count": 24,
      "outputs": [
        {
          "output_type": "stream",
          "name": "stdout",
          "text": [
            "12.5  is of type :  <class 'float'>\n",
            "True\n"
          ]
        }
      ]
    },
    {
      "cell_type": "code",
      "source": [
        "data3=100+20j # data type is changed to complex number\n",
        "print(data3, ' is of type : ', type(data3))\n",
        "print(isinstance(data3, complex))"
      ],
      "metadata": {
        "colab": {
          "base_uri": "https://localhost:8080/"
        },
        "id": "u1y2EehB1yds",
        "outputId": "c8e8c8c3-75df-41c1-983d-4b959c2cf33a"
      },
      "execution_count": 25,
      "outputs": [
        {
          "output_type": "stream",
          "name": "stdout",
          "text": [
            "(100+20j)  is of type :  <class 'complex'>\n",
            "True\n"
          ]
        }
      ]
    },
    {
      "cell_type": "code",
      "source": [
        "list1 = [1,2,3,4,5]\n",
        "list2 = [5,6,7,8,9,'Append Anything']\n",
        "list1.append(list2)"
      ],
      "metadata": {
        "id": "Hu-xCuWT5_o0"
      },
      "execution_count": 26,
      "outputs": []
    },
    {
      "cell_type": "code",
      "source": [
        "print(list1)"
      ],
      "metadata": {
        "colab": {
          "base_uri": "https://localhost:8080/"
        },
        "id": "6dB2JQ0C6PQM",
        "outputId": "cb235591-ebe3-414a-a58c-eb6e9ccae58e"
      },
      "execution_count": 27,
      "outputs": [
        {
          "output_type": "stream",
          "name": "stdout",
          "text": [
            "[1, 2, 3, 4, 5, [5, 6, 7, 8, 9, 'Append Anything']]\n"
          ]
        }
      ]
    },
    {
      "cell_type": "code",
      "source": [
        "type(list1)\n",
        "isinstance(list1, list)"
      ],
      "metadata": {
        "colab": {
          "base_uri": "https://localhost:8080/"
        },
        "id": "aaWpCbkX6U73",
        "outputId": "5c5d2dc5-ae7d-4b48-cf0e-dbd45e66d88f"
      },
      "execution_count": 28,
      "outputs": [
        {
          "output_type": "execute_result",
          "data": {
            "text/plain": [
              "True"
            ]
          },
          "metadata": {},
          "execution_count": 28
        }
      ]
    },
    {
      "cell_type": "code",
      "source": [
        "list1.extend(list2)\n",
        "print(list1)"
      ],
      "metadata": {
        "colab": {
          "base_uri": "https://localhost:8080/"
        },
        "id": "zdbb4nmV6t-J",
        "outputId": "32a2ed5e-634b-4b41-bad4-f3dfb48e5b37"
      },
      "execution_count": 30,
      "outputs": [
        {
          "output_type": "stream",
          "name": "stdout",
          "text": [
            "[1, 2, 3, 4, 5, [5, 6, 7, 8, 9, 'Append Anything'], 5, 6, 7, 8, 9, 'Append Anything', 5, 6, 7, 8, 9, 'Append Anything']\n"
          ]
        }
      ]
    },
    {
      "cell_type": "code",
      "source": [
        "list3=[1,2,3]\n",
        "list4=[4,5,6]\n",
        "list3.extend(list4) # all individual values of list4 will be added into list3\n",
        "print(list3)"
      ],
      "metadata": {
        "colab": {
          "base_uri": "https://localhost:8080/"
        },
        "id": "LPjXyNt47XET",
        "outputId": "b17bb923-6232-4a35-f4ad-b2e953fe1cdb"
      },
      "execution_count": 31,
      "outputs": [
        {
          "output_type": "stream",
          "name": "stdout",
          "text": [
            "[1, 2, 3, 4, 5, 6]\n"
          ]
        }
      ]
    },
    {
      "cell_type": "code",
      "source": [
        "list5=[1,2,3]\n",
        "list6=[4,5,6]\n",
        "list5.append(list6) # list6 will be added as an element into list5\n",
        "print(list5)"
      ],
      "metadata": {
        "colab": {
          "base_uri": "https://localhost:8080/"
        },
        "id": "zbGBNT1W7gim",
        "outputId": "d09814ce-8179-4d3e-aa74-2542a3be759e"
      },
      "execution_count": 32,
      "outputs": [
        {
          "output_type": "stream",
          "name": "stdout",
          "text": [
            "[1, 2, 3, [4, 5, 6]]\n"
          ]
        }
      ]
    }
  ]
}
