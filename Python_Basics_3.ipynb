{
  "nbformat": 4,
  "nbformat_minor": 0,
  "metadata": {
    "colab": {
      "provenance": [],
      "authorship_tag": "ABX9TyMWzA0PljZ/jyos62FphMim",
      "include_colab_link": true
    },
    "kernelspec": {
      "name": "python3",
      "display_name": "Python 3"
    },
    "language_info": {
      "name": "python"
    }
  },
  "cells": [
    {
      "cell_type": "markdown",
      "metadata": {
        "id": "view-in-github",
        "colab_type": "text"
      },
      "source": [
        "<a href=\"https://colab.research.google.com/github/rahulde0/python-basics/blob/main/Python_Basics_3.ipynb\" target=\"_parent\"><img src=\"https://colab.research.google.com/assets/colab-badge.svg\" alt=\"Open In Colab\"/></a>"
      ]
    },
    {
      "cell_type": "markdown",
      "source": [
        "## Assignment Operators\n",
        "=, +=, -=, *=, /=, %=, //=, &=, |=, ^=, >>=, <<="
      ],
      "metadata": {
        "id": "irRwkx2hLoMF"
      }
    },
    {
      "cell_type": "code",
      "source": [
        "age =40  # '=' used to assign the value to variable"
      ],
      "metadata": {
        "id": "z_TYsYDRMxCB"
      },
      "execution_count": 5,
      "outputs": []
    },
    {
      "cell_type": "code",
      "source": [
        "age +=4  # age=age+4\n",
        "print(age)\n",
        "\n",
        "age -=4\n",
        "print(age)\n",
        "\n",
        "age *=4\n",
        "print(age)\n",
        "\n",
        "age /=4\n",
        "print(age)"
      ],
      "metadata": {
        "colab": {
          "base_uri": "https://localhost:8080/"
        },
        "id": "zRIKRffqMb0s",
        "outputId": "f38ca251-6acd-4bbe-ec7b-ceaacec14f91"
      },
      "execution_count": 7,
      "outputs": [
        {
          "output_type": "stream",
          "name": "stdout",
          "text": [
            "48\n",
            "44\n",
            "176\n",
            "44.0\n"
          ]
        }
      ]
    },
    {
      "cell_type": "markdown",
      "source": [
        "## Special Characters"
      ],
      "metadata": {
        "id": "ArMdZme_Of7f"
      }
    },
    {
      "cell_type": "code",
      "source": [
        "# Identity Operators\n",
        "# 'is' and 'is not' are identity operators in python\n",
        "var1=20\n",
        "var2=20\n",
        "print(var1 is var2) # in Python small integer values between -5 to 256 is stored in cache memory."
      ],
      "metadata": {
        "colab": {
          "base_uri": "https://localhost:8080/"
        },
        "id": "qH3iRhaQMi66",
        "outputId": "efd2e94f-9056-44bb-81b1-8b520d02b7af"
      },
      "execution_count": 8,
      "outputs": [
        {
          "output_type": "stream",
          "name": "stdout",
          "text": [
            "True\n"
          ]
        }
      ]
    },
    {
      "cell_type": "code",
      "source": [
        "var3=2000\n",
        "var4=2000\n",
        "print(var3 is var4) # is operator checks if they are from same memory location or not."
      ],
      "metadata": {
        "colab": {
          "base_uri": "https://localhost:8080/"
        },
        "id": "kXsTWTN5PmlB",
        "outputId": "870bd4e8-06b5-4c84-eea8-9b7f4819f858"
      },
      "execution_count": 9,
      "outputs": [
        {
          "output_type": "stream",
          "name": "stdout",
          "text": [
            "False\n"
          ]
        }
      ]
    },
    {
      "cell_type": "code",
      "source": [
        "var5=-4\n",
        "var6=-4\n",
        "print(var5 is var6)"
      ],
      "metadata": {
        "colab": {
          "base_uri": "https://localhost:8080/"
        },
        "id": "svCKPPMtQGD7",
        "outputId": "6771a93f-1183-44e0-c447-278175dc130a"
      },
      "execution_count": 10,
      "outputs": [
        {
          "output_type": "stream",
          "name": "stdout",
          "text": [
            "True\n"
          ]
        }
      ]
    },
    {
      "cell_type": "code",
      "source": [
        "var7=-6\n",
        "var8=-6\n",
        "print(var7 is var8)"
      ],
      "metadata": {
        "colab": {
          "base_uri": "https://localhost:8080/"
        },
        "id": "htYtje7uQhLg",
        "outputId": "8e7bc239-b791-4b3c-d0be-e2c059a505d0"
      },
      "execution_count": 11,
      "outputs": [
        {
          "output_type": "stream",
          "name": "stdout",
          "text": [
            "False\n"
          ]
        }
      ]
    },
    {
      "cell_type": "code",
      "source": [
        "'aasssasa' is 'aasssasa'"
      ],
      "metadata": {
        "colab": {
          "base_uri": "https://localhost:8080/"
        },
        "id": "zGieDoLWQxlH",
        "outputId": "ae1879cf-f49a-4729-fd5d-94404876dc03"
      },
      "execution_count": 14,
      "outputs": [
        {
          "output_type": "stream",
          "name": "stderr",
          "text": [
            "<>:1: SyntaxWarning: \"is\" with 'str' literal. Did you mean \"==\"?\n",
            "<>:1: SyntaxWarning: \"is\" with 'str' literal. Did you mean \"==\"?\n",
            "/tmp/ipython-input-4263127639.py:1: SyntaxWarning: \"is\" with 'str' literal. Did you mean \"==\"?\n",
            "  'aasssasa' is 'aasssasa'\n"
          ]
        },
        {
          "output_type": "execute_result",
          "data": {
            "text/plain": [
              "True"
            ]
          },
          "metadata": {},
          "execution_count": 14
        }
      ]
    },
    {
      "cell_type": "code",
      "source": [
        "firstVar=2000\n",
        "secondVar=firstVar # It does  not assign new memory to secondVar\n",
        "print(firstVar is secondVar)\n",
        "print(id(firstVar))\n",
        "print(id(secondVar))"
      ],
      "metadata": {
        "colab": {
          "base_uri": "https://localhost:8080/"
        },
        "id": "Ym89Z3S3Q_Vf",
        "outputId": "8a913b37-7701-47a1-88b6-26977ae6e433"
      },
      "execution_count": 16,
      "outputs": [
        {
          "output_type": "stream",
          "name": "stdout",
          "text": [
            "True\n",
            "140199976597712\n",
            "140199976597712\n"
          ]
        }
      ]
    },
    {
      "cell_type": "code",
      "source": [
        "firstVar=2000\n",
        "print(firstVar is secondVar)\n",
        "print(id(firstVar))\n",
        "print(id(secondVar))"
      ],
      "metadata": {
        "colab": {
          "base_uri": "https://localhost:8080/"
        },
        "id": "kmzbwbUSTdq8",
        "outputId": "eb566d6a-7f77-4fc3-b968-72d6de91bb4e"
      },
      "execution_count": 17,
      "outputs": [
        {
          "output_type": "stream",
          "name": "stdout",
          "text": [
            "False\n",
            "140199976598736\n",
            "140199976597712\n"
          ]
        }
      ]
    },
    {
      "cell_type": "code",
      "source": [
        "x=None\n",
        "print(x)\n",
        "print(type(x))\n",
        "y=None\n",
        "print(x is y)"
      ],
      "metadata": {
        "colab": {
          "base_uri": "https://localhost:8080/"
        },
        "id": "YUoMmwaUVdc1",
        "outputId": "6cf38734-b395-4810-d365-43759b0331d5"
      },
      "execution_count": 18,
      "outputs": [
        {
          "output_type": "stream",
          "name": "stdout",
          "text": [
            "None\n",
            "<class 'NoneType'>\n",
            "True\n"
          ]
        }
      ]
    },
    {
      "cell_type": "code",
      "source": [
        "from typing import Final\n",
        "PI: Final=3.14\n",
        "print(PI)\n",
        "PI=3.16  # It is not enforcing, but it gives us warning\n",
        "print(PI)"
      ],
      "metadata": {
        "colab": {
          "base_uri": "https://localhost:8080/"
        },
        "id": "egy9Y9AVWQ_l",
        "outputId": "1434142d-5445-4531-89fb-cd2c20a0928c"
      },
      "execution_count": 20,
      "outputs": [
        {
          "output_type": "stream",
          "name": "stdout",
          "text": [
            "3.14\n",
            "3.16\n"
          ]
        }
      ]
    },
    {
      "cell_type": "code",
      "source": [
        "var1=1000\n",
        "var2=1000\n",
        "print(var1 is not var2)"
      ],
      "metadata": {
        "colab": {
          "base_uri": "https://localhost:8080/"
        },
        "id": "gaPQJpb6WQhY",
        "outputId": "fc0b2cf8-b973-4302-8a58-93347dd92eae"
      },
      "execution_count": 21,
      "outputs": [
        {
          "output_type": "stream",
          "name": "stdout",
          "text": [
            "True\n"
          ]
        }
      ]
    },
    {
      "cell_type": "markdown",
      "source": [
        "## Membership Operators\n",
        "'in' and 'not in' are membership operators.\n",
        "\n",
        "They are used to test whether a values is variable is found in a sequence (string, list, tuple, set, dictionary)"
      ],
      "metadata": {
        "id": "4ROJtb38W4mi"
      }
    },
    {
      "cell_type": "code",
      "source": [
        "myList = ['a','asd',1.0,3.0,{2:2}]\n",
        "print(3 in myList)\n",
        "print(2 in myList) # 2 is not in myList, it is part of dictionary"
      ],
      "metadata": {
        "colab": {
          "base_uri": "https://localhost:8080/"
        },
        "id": "2g4hsvOZXP37",
        "outputId": "d3b4c50e-45d7-4c70-b28a-25d4602bd53e"
      },
      "execution_count": 22,
      "outputs": [
        {
          "output_type": "stream",
          "name": "stdout",
          "text": [
            "True\n",
            "False\n"
          ]
        }
      ]
    },
    {
      "cell_type": "code",
      "source": [
        "print(2 not in myList)"
      ],
      "metadata": {
        "colab": {
          "base_uri": "https://localhost:8080/"
        },
        "id": "a6t_D3coXuGZ",
        "outputId": "2d647338-ea6f-4f5d-ad29-143e6f5d46f1"
      },
      "execution_count": 23,
      "outputs": [
        {
          "output_type": "stream",
          "name": "stdout",
          "text": [
            "True\n"
          ]
        }
      ]
    },
    {
      "cell_type": "markdown",
      "source": [
        "## Conditional Statements\n",
        "if, if-else, if-elif-else\n",
        "## Loops\n",
        "while, for, while -else, for-else"
      ],
      "metadata": {
        "id": "CClE3DxsYKBJ"
      }
    },
    {
      "cell_type": "code",
      "source": [
        "number = 20\n",
        "if (number>10):\n",
        "  print('Inside If - Line 1')\n",
        "  print('Inside If - Line 2')\n",
        "print('Outside If')"
      ],
      "metadata": {
        "colab": {
          "base_uri": "https://localhost:8080/"
        },
        "id": "N2DO5jc5ZUdV",
        "outputId": "643283e1-e515-4c9d-8f07-c4a7e12d0069"
      },
      "execution_count": 24,
      "outputs": [
        {
          "output_type": "stream",
          "name": "stdout",
          "text": [
            "Inside If - Line 1\n",
            "Inside If - Line 2\n",
            "Outside If\n"
          ]
        }
      ]
    },
    {
      "cell_type": "code",
      "source": [
        "if 0:\n",
        "  print('Inside If')\n",
        "print('Outside If')\n",
        "\n",
        "# In Python boolena value of 0 is False. All Other numerical values hold true"
      ],
      "metadata": {
        "colab": {
          "base_uri": "https://localhost:8080/"
        },
        "id": "_07P3sNEZcCR",
        "outputId": "3ce6de7c-24ad-43e1-dbc7-518e1f0c912f"
      },
      "execution_count": 25,
      "outputs": [
        {
          "output_type": "stream",
          "name": "stdout",
          "text": [
            "Outside If\n"
          ]
        }
      ]
    },
    {
      "cell_type": "code",
      "source": [
        "if -1:\n",
        "  print('Inside If')\n",
        "print('Outside If')"
      ],
      "metadata": {
        "colab": {
          "base_uri": "https://localhost:8080/"
        },
        "id": "t1ebhFcfaTBV",
        "outputId": "d863b0fc-5e19-4fe6-c093-c6c05a49efa2"
      },
      "execution_count": 26,
      "outputs": [
        {
          "output_type": "stream",
          "name": "stdout",
          "text": [
            "Inside If\n",
            "Outside If\n"
          ]
        }
      ]
    },
    {
      "cell_type": "code",
      "source": [
        "if None:\n",
        "  print('Inside If')\n",
        "print('Outside If')"
      ],
      "metadata": {
        "colab": {
          "base_uri": "https://localhost:8080/"
        },
        "id": "C2pJs16Fad32",
        "outputId": "afbd4082-ba05-4265-ace8-345ceb7993dc"
      },
      "execution_count": 27,
      "outputs": [
        {
          "output_type": "stream",
          "name": "stdout",
          "text": [
            "Outside If\n"
          ]
        }
      ]
    },
    {
      "cell_type": "code",
      "source": [
        "print(bool(None))\n",
        "print(bool(''))\n",
        "print(bool(0))\n",
        "print(bool(0.0))\n",
        "print(bool([]))\n",
        "print(bool({}))\n",
        "print(bool(set()))"
      ],
      "metadata": {
        "colab": {
          "base_uri": "https://localhost:8080/"
        },
        "id": "pUfme5J1anfP",
        "outputId": "68005e5e-b69f-4bac-b395-87d71b1d1a5a"
      },
      "execution_count": 31,
      "outputs": [
        {
          "output_type": "stream",
          "name": "stdout",
          "text": [
            "False\n",
            "False\n",
            "False\n",
            "False\n",
            "False\n",
            "False\n",
            "False\n"
          ]
        }
      ]
    },
    {
      "cell_type": "code",
      "source": [
        "print(bool(' '))"
      ],
      "metadata": {
        "colab": {
          "base_uri": "https://localhost:8080/"
        },
        "id": "Y0RC6Un8bDYC",
        "outputId": "f13c1125-9fe0-4813-8488-f34016f8c9f1"
      },
      "execution_count": 32,
      "outputs": [
        {
          "output_type": "stream",
          "name": "stdout",
          "text": [
            "True\n"
          ]
        }
      ]
    },
    {
      "cell_type": "code",
      "source": [
        "#If-Else\n",
        "age=21\n",
        "if age>18:\n",
        "  print('You are eligible to vote')\n",
        "else:\n",
        "  print('You are not eligible to vote')"
      ],
      "metadata": {
        "colab": {
          "base_uri": "https://localhost:8080/"
        },
        "id": "NFQZXJ_RbF1t",
        "outputId": "8aa675dc-057f-45ac-ba1e-cf17bad1a09c"
      },
      "execution_count": 33,
      "outputs": [
        {
          "output_type": "stream",
          "name": "stdout",
          "text": [
            "You are eligible to vote\n"
          ]
        }
      ]
    },
    {
      "cell_type": "code",
      "source": [
        "# Nested If / if-else\n",
        "age=24\n",
        "isIndianCitizen=False\n",
        "if age>=18:\n",
        "  if isIndianCitizen:\n",
        "    print('You are eligible to vote')\n",
        "  else:\n",
        "    print('You are not eligible to vote because of citizenship')\n",
        "else:\n",
        "  print('You are not eligible to vote becuase of age')\n",
        "\n",
        "print('Check Completed!')\n"
      ],
      "metadata": {
        "colab": {
          "base_uri": "https://localhost:8080/"
        },
        "id": "63HM99S0bVb6",
        "outputId": "98a14b0d-f50a-4a86-e641-3a9dd613580e"
      },
      "execution_count": 36,
      "outputs": [
        {
          "output_type": "stream",
          "name": "stdout",
          "text": [
            "You are not eligible to vote because of citizenship\n",
            "Check Completed!\n"
          ]
        }
      ]
    },
    {
      "cell_type": "code",
      "source": [
        "age=1\n",
        "person_type='not sure'\n",
        "if age>=13 and age <=19:\n",
        "  person_type='Teen'\n",
        "elif age>=0 and age<=12:\n",
        "  person_type='Child'\n",
        "else:\n",
        "  person_type='Adult'\n",
        "print(person_type)\n"
      ],
      "metadata": {
        "colab": {
          "base_uri": "https://localhost:8080/"
        },
        "id": "v56rjsFpcE0-",
        "outputId": "2b450a7b-4f7f-4ddd-f99c-ca2e233eef71"
      },
      "execution_count": 38,
      "outputs": [
        {
          "output_type": "stream",
          "name": "stdout",
          "text": [
            "Child\n"
          ]
        }
      ]
    },
    {
      "cell_type": "markdown",
      "source": [
        "## Loops in Python"
      ],
      "metadata": {
        "id": "S7GGpJCddfxi"
      }
    },
    {
      "cell_type": "code",
      "source": [
        "# while loop\n",
        "# Find the sum of first 100 numbers\n",
        "index=1\n",
        "sum=0\n",
        "while index<=100:\n",
        "  sum+=index\n",
        "  index+=1\n",
        "print('Sum of First 100 numbers is: ',sum)"
      ],
      "metadata": {
        "colab": {
          "base_uri": "https://localhost:8080/"
        },
        "id": "4Pfgv3_5igLo",
        "outputId": "5c23e2f8-98ab-4363-e811-f6fef7c0069c"
      },
      "execution_count": 39,
      "outputs": [
        {
          "output_type": "stream",
          "name": "stdout",
          "text": [
            "Sum of First 100 numbers is:  5050\n"
          ]
        }
      ]
    },
    {
      "cell_type": "code",
      "source": [
        "#Infinite Loop\n",
        "#while True:\n",
        "#  print('While Loop')"
      ],
      "metadata": {
        "id": "Ce7YI_iIjQuq"
      },
      "execution_count": 40,
      "outputs": []
    },
    {
      "cell_type": "code",
      "source": [
        "# Break with While\n",
        "myList = [1,2,3,4,5,6,7,8,9,10]\n",
        "index=0\n",
        "while index <len(myList):\n",
        "  print(myList[index])\n",
        "  if myList[index]==5 :\n",
        "    break\n",
        "  index+=1\n",
        "print('Loop exited at index {}'.format(index))"
      ],
      "metadata": {
        "colab": {
          "base_uri": "https://localhost:8080/"
        },
        "id": "rHPw3W3OkG0A",
        "outputId": "f8cb5991-644b-4cbe-f106-949ee0d5aee9"
      },
      "execution_count": 43,
      "outputs": [
        {
          "output_type": "stream",
          "name": "stdout",
          "text": [
            "1\n",
            "2\n",
            "3\n",
            "4\n",
            "5\n",
            "Loop exited at index 4\n"
          ]
        }
      ]
    },
    {
      "cell_type": "code",
      "source": [
        "# Break with While\n",
        "myList = [1,2,3,4,5,6,7,8,9,10]\n",
        "index=0\n",
        "while index <len(myList):\n",
        "  print(myList[index])\n",
        "  if myList[index]==5 :\n",
        "    break\n",
        "  index+=1\n",
        "else:\n",
        "  print('Else block executed')\n",
        "\n",
        "print('Loop exited at index {}'.format(index))"
      ],
      "metadata": {
        "colab": {
          "base_uri": "https://localhost:8080/"
        },
        "id": "_Vv7dpmrle18",
        "outputId": "dc90a341-9932-40f7-fe23-659fac3bbd9c"
      },
      "execution_count": 42,
      "outputs": [
        {
          "output_type": "stream",
          "name": "stdout",
          "text": [
            "1\n",
            "2\n",
            "3\n",
            "4\n",
            "5\n",
            "Loop exited at index 4\n"
          ]
        }
      ]
    },
    {
      "cell_type": "code",
      "source": [
        "#Calculate the factorial of a number\n",
        "#Use while, break and else as needed\n",
        "userInput = int(input('Enter a number: '))\n",
        "factorial = 1\n",
        "index = 1\n",
        "\n",
        "if userInput < 0:\n",
        "  print(\"Factorial is not defined for negative numbers\")\n",
        "elif userInput == 0:\n",
        "  print(\"Factorial of 0 is 1\")\n",
        "else:\n",
        "  while index <= userInput:\n",
        "    factorial *= index\n",
        "    index += 1\n",
        "  else:\n",
        "    print(f\"The factorial of {userInput} is {factorial}\")"
      ],
      "metadata": {
        "colab": {
          "base_uri": "https://localhost:8080/"
        },
        "id": "xSHAx6nNmhkI",
        "outputId": "1129c080-f134-4cb0-db4f-7732e9e322c0"
      },
      "execution_count": 49,
      "outputs": [
        {
          "output_type": "stream",
          "name": "stdout",
          "text": [
            "Enter a number: -9\n",
            "Factorial is not defined for negative numbers\n"
          ]
        }
      ]
    },
    {
      "cell_type": "code",
      "source": [
        "# for loop and for else loop\n",
        "for i in range(1,10):\n",
        "  print(i)\n",
        "else:\n",
        "  print('In Else Block')\n",
        "print('Out of For Else loop')"
      ],
      "metadata": {
        "colab": {
          "base_uri": "https://localhost:8080/"
        },
        "id": "M7lP4Jxto0E6",
        "outputId": "6ff53ac6-ca98-4b73-feec-6780e8190a9c"
      },
      "execution_count": 50,
      "outputs": [
        {
          "output_type": "stream",
          "name": "stdout",
          "text": [
            "1\n",
            "2\n",
            "3\n",
            "4\n",
            "5\n",
            "6\n",
            "7\n",
            "8\n",
            "9\n",
            "In Else Block\n",
            "Out of For Else loop\n"
          ]
        }
      ]
    },
    {
      "cell_type": "code",
      "source": [
        "for i in myList:\n",
        "  print(i)\n",
        "  if i==5:\n",
        "    break\n",
        "else:\n",
        "  print('In Else Block')\n",
        "print('Out of For Else loop')"
      ],
      "metadata": {
        "colab": {
          "base_uri": "https://localhost:8080/"
        },
        "id": "eHEaAQu1q8Jg",
        "outputId": "e3aa0cb2-c144-486a-8364-800c5f0a723e"
      },
      "execution_count": 51,
      "outputs": [
        {
          "output_type": "stream",
          "name": "stdout",
          "text": [
            "1\n",
            "2\n",
            "3\n",
            "4\n",
            "5\n",
            "Out of For Else loop\n"
          ]
        }
      ]
    },
    {
      "cell_type": "code",
      "source": [
        "for i in myList:\n",
        "  if i==5:\n",
        "    continue\n",
        "  print(i)\n",
        "else:\n",
        "  print('In Else Block')\n",
        "print('Out of For Else loop')"
      ],
      "metadata": {
        "colab": {
          "base_uri": "https://localhost:8080/"
        },
        "id": "eg1uIUXurbAE",
        "outputId": "95e77bf6-643e-4c4b-d31c-27aa292fb0e5"
      },
      "execution_count": 52,
      "outputs": [
        {
          "output_type": "stream",
          "name": "stdout",
          "text": [
            "1\n",
            "2\n",
            "3\n",
            "4\n",
            "6\n",
            "7\n",
            "8\n",
            "9\n",
            "10\n",
            "In Else Block\n",
            "Out of For Else loop\n"
          ]
        }
      ]
    },
    {
      "cell_type": "code",
      "source": [],
      "metadata": {
        "id": "lOvEWQqhra45"
      },
      "execution_count": null,
      "outputs": []
    }
  ]
}