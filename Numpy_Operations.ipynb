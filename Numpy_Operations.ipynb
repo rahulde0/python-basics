{
  "nbformat": 4,
  "nbformat_minor": 0,
  "metadata": {
    "colab": {
      "provenance": [],
      "include_colab_link": true
    },
    "kernelspec": {
      "name": "python3",
      "display_name": "Python 3"
    },
    "language_info": {
      "name": "python"
    }
  },
  "cells": [
    {
      "cell_type": "markdown",
      "metadata": {
        "id": "view-in-github",
        "colab_type": "text"
      },
      "source": [
        "<a href=\"https://colab.research.google.com/github/rahulde0/python-basics/blob/main/Numpy_Operations.ipynb\" target=\"_parent\"><img src=\"https://colab.research.google.com/assets/colab-badge.svg\" alt=\"Open In Colab\"/></a>"
      ]
    },
    {
      "cell_type": "markdown",
      "source": [
        "# Introduction to Numpy"
      ],
      "metadata": {
        "id": "uQM47Kn7YcTF"
      }
    },
    {
      "cell_type": "markdown",
      "source": [
        "## Agenda\n",
        "In this lesson, we will cover the following concepts:\n",
        "* FUndamentals of Numpy\n",
        " * Array Object-> Creating Numpy Arrays"
      ],
      "metadata": {
        "id": "s9JFr_p-Yj20"
      }
    },
    {
      "cell_type": "markdown",
      "source": [
        "In Python nd-Array can go up to how many dimentions??\n",
        "Ans: 32 Dimensions. Numpy is written in C language, and the no. of dimensions hardcoded at 32."
      ],
      "metadata": {
        "id": "S0eJTtGaO8Jo"
      }
    },
    {
      "cell_type": "code",
      "source": [
        "import numpy as np\n"
      ],
      "metadata": {
        "id": "lSgVq73DaKXu"
      },
      "execution_count": null,
      "outputs": []
    },
    {
      "cell_type": "code",
      "source": [
        "arr =  np.array(9)\n",
        "arr.ndim"
      ],
      "metadata": {
        "colab": {
          "base_uri": "https://localhost:8080/"
        },
        "id": "eJvu_MyDaQRA",
        "outputId": "d3c3738a-0a92-4af6-b7cc-1034de54e980"
      },
      "execution_count": null,
      "outputs": [
        {
          "output_type": "execute_result",
          "data": {
            "text/plain": [
              "0"
            ]
          },
          "metadata": {},
          "execution_count": 2
        }
      ]
    },
    {
      "cell_type": "markdown",
      "source": [],
      "metadata": {
        "id": "nH6pdM6ncMJu"
      }
    },
    {
      "cell_type": "code",
      "source": [
        "arr3d= np.array([[[9,0,1,2,3], [9,2,5,2,6]], [[9,0,1,2,3], [9,2,5,2,6]]])\n",
        "arr3d.ndim"
      ],
      "metadata": {
        "colab": {
          "base_uri": "https://localhost:8080/"
        },
        "id": "6ByBxQoobcth",
        "outputId": "dd5acd56-6178-4e2e-f73c-7a43ae1756ac"
      },
      "execution_count": null,
      "outputs": [
        {
          "output_type": "execute_result",
          "data": {
            "text/plain": [
              "3"
            ]
          },
          "metadata": {},
          "execution_count": 28
        }
      ]
    },
    {
      "cell_type": "code",
      "source": [
        "arr4d = np.array([[[[9]]]])\n",
        "arr4d.ndim"
      ],
      "metadata": {
        "colab": {
          "base_uri": "https://localhost:8080/"
        },
        "id": "pOHR3s7Kagqr",
        "outputId": "0fc2e890-2d46-4757-f5e3-ce72c0ad9d41"
      },
      "execution_count": null,
      "outputs": [
        {
          "output_type": "execute_result",
          "data": {
            "text/plain": [
              "4"
            ]
          },
          "metadata": {},
          "execution_count": 25
        }
      ]
    },
    {
      "cell_type": "code",
      "source": [
        "arr3d.shape"
      ],
      "metadata": {
        "colab": {
          "base_uri": "https://localhost:8080/"
        },
        "id": "2HZZdN08bGnh",
        "outputId": "19a022af-ac4c-4a6f-d30d-e076b9430a6d"
      },
      "execution_count": null,
      "outputs": [
        {
          "output_type": "execute_result",
          "data": {
            "text/plain": [
              "(2, 2, 5)"
            ]
          },
          "metadata": {},
          "execution_count": 29
        }
      ]
    },
    {
      "cell_type": "code",
      "source": [
        "# This library is used for working with Arrays\n",
        "# Consists of multidimensional array of objects and a collecition of funcations for manipulating them\n",
        "# Conducts mathematical and logical operations."
      ],
      "metadata": {
        "id": "L--wyWqrYiaK"
      },
      "execution_count": null,
      "outputs": []
    },
    {
      "cell_type": "markdown",
      "source": [
        "Adv. of Numpy\n",
        "\n",
        "* Provides an array object that is faster then traditional Python Lists.\n",
        "* Numpy are stored in one continouous place in memory unlike lists."
      ],
      "metadata": {
        "id": "VKc6cblcZAzx"
      }
    },
    {
      "cell_type": "code",
      "source": [
        "# Install nunmpy --> pip install numpy"
      ],
      "metadata": {
        "id": "2oG52scDY_Ru"
      },
      "execution_count": null,
      "outputs": []
    },
    {
      "cell_type": "code",
      "source": [
        "import numpy as np\n",
        "arr=np.array([1,2,3,4,5])\n",
        "print(arr)\n",
        "print(type(arr))\n"
      ],
      "metadata": {
        "colab": {
          "base_uri": "https://localhost:8080/"
        },
        "id": "5X4rbppiZorT",
        "outputId": "3f5c9822-2309-41d5-a3f6-e909b5170009"
      },
      "execution_count": null,
      "outputs": [
        {
          "output_type": "stream",
          "name": "stdout",
          "text": [
            "[1 2 3 4 5]\n",
            "<class 'numpy.ndarray'>\n"
          ]
        }
      ]
    },
    {
      "cell_type": "code",
      "source": [
        "list1 = [5,6,7,8,9]\n",
        "arr1 = np.array(list1)\n",
        "\n",
        "print(arr1)\n",
        "print(type(arr1))"
      ],
      "metadata": {
        "colab": {
          "base_uri": "https://localhost:8080/"
        },
        "id": "Emw_jWSXa5qr",
        "outputId": "5cee81b5-0849-4b43-b596-ba23d4de07e6"
      },
      "execution_count": null,
      "outputs": [
        {
          "output_type": "stream",
          "name": "stdout",
          "text": [
            "[5 6 7 8 9]\n",
            "<class 'numpy.ndarray'>\n"
          ]
        }
      ]
    },
    {
      "cell_type": "code",
      "source": [
        "list1 = [5,6,7,8,9]\n",
        "print(type(list1))\n",
        "print(list1)\n",
        "\n",
        "arr1 = np.array(list1)\n",
        "\n",
        "print(arr1)\n",
        "print(type(arr1))"
      ],
      "metadata": {
        "colab": {
          "base_uri": "https://localhost:8080/"
        },
        "id": "oiAcZJSSbMbd",
        "outputId": "ebda70ef-f639-431c-f1ea-93c3e3153648"
      },
      "execution_count": null,
      "outputs": [
        {
          "output_type": "stream",
          "name": "stdout",
          "text": [
            "<class 'list'>\n",
            "[5, 6, 7, 8, 9]\n",
            "[5 6 7 8 9]\n",
            "<class 'numpy.ndarray'>\n"
          ]
        }
      ]
    },
    {
      "cell_type": "code",
      "source": [
        "# For accessing numpy array elements, it is same as that we followed in Lists."
      ],
      "metadata": {
        "id": "_h0O4n4QbgzE"
      },
      "execution_count": null,
      "outputs": []
    },
    {
      "cell_type": "markdown",
      "source": [
        "Create Numpy Arrays of various dimensions"
      ],
      "metadata": {
        "id": "SObrjjS4Zd-U"
      }
    },
    {
      "cell_type": "code",
      "source": [
        "#Create 0D, 1D, 2D, 3D\n",
        "#Create a 0D array:\n",
        "import numpy as np\n",
        "print('---------0D array--------------')\n",
        "arr = np.array(42) # Single numerical value when converted to a numpy array, gives 0D array.\n",
        "print(arr)\n",
        "\n",
        "#Create 1D array\n",
        "print('---------1D array--------------')\n",
        "arr1 = np.array([1, 2, 3, 4, 5])\n",
        "print(arr1)\n",
        "\n",
        "# Create 2D array\n",
        "print('---------2D array--------------')\n",
        "arr2 = np.array([[1, 2, 3], [4, 5, 6], [4, 5, 6], [4, 5, 6], [4, 5, 6], [4, 5, 6], [4, 5, 6]]) # Combination of multiple 1D array gives 2D array\n",
        "print(arr2)\n",
        "\n",
        "#Create a 3D array\n",
        "print('---------3D array--------------')\n",
        "arr3 = np.array([[[1, 2, 3], [4, 5, 6]], [[1, 2, 3], [4, 5, 6]],[[1, 2, 3], [4, 5, 6]],[[1, 2, 3], [4, 5, 6]],[[1, 2, 3], [4, 5, 6]],[[1, 2, 3], [4, 5, 6]]])\n",
        "print(arr3)"
      ],
      "metadata": {
        "colab": {
          "base_uri": "https://localhost:8080/"
        },
        "id": "Ddme82yYbvCv",
        "outputId": "7498d3fc-12f4-400a-9120-bc0cd9d0dea4"
      },
      "execution_count": null,
      "outputs": [
        {
          "output_type": "stream",
          "name": "stdout",
          "text": [
            "---------0D array--------------\n",
            "42\n",
            "---------1D array--------------\n",
            "[1 2 3 4 5]\n",
            "---------2D array--------------\n",
            "[[1 2 3]\n",
            " [4 5 6]\n",
            " [4 5 6]\n",
            " [4 5 6]\n",
            " [4 5 6]\n",
            " [4 5 6]\n",
            " [4 5 6]]\n",
            "---------3D array--------------\n",
            "[[[1 2 3]\n",
            "  [4 5 6]]\n",
            "\n",
            " [[1 2 3]\n",
            "  [4 5 6]]\n",
            "\n",
            " [[1 2 3]\n",
            "  [4 5 6]]\n",
            "\n",
            " [[1 2 3]\n",
            "  [4 5 6]]\n",
            "\n",
            " [[1 2 3]\n",
            "  [4 5 6]]\n",
            "\n",
            " [[1 2 3]\n",
            "  [4 5 6]]]\n"
          ]
        }
      ]
    },
    {
      "cell_type": "code",
      "source": [
        "list1 = [[1,2,3,\"4\",6], [1,2,3,4,5]]\n",
        "arr1 = np.array(list1)\n",
        "print(arr1)\n",
        "print(type(arr1))"
      ],
      "metadata": {
        "colab": {
          "base_uri": "https://localhost:8080/"
        },
        "id": "XF0PEkLLdf9U",
        "outputId": "755ba756-6c54-4593-ab6d-7f4cb9ce3752"
      },
      "execution_count": null,
      "outputs": [
        {
          "output_type": "stream",
          "name": "stdout",
          "text": [
            "[['1' '2' '3' '4' '6']\n",
            " ['1' '2' '3' '4' '5']]\n",
            "<class 'numpy.ndarray'>\n"
          ]
        }
      ]
    },
    {
      "cell_type": "markdown",
      "source": [
        "## Observations:\n",
        "* 1D arrays are unidimensional and have 0D elements as its elements.\n",
        "* 2D arrays have 1D arrays as its elements\n",
        "* 3D arrays have 2D arrays as its elements"
      ],
      "metadata": {
        "id": "hDqtnOgTYhn4"
      }
    },
    {
      "cell_type": "code",
      "execution_count": null,
      "metadata": {
        "colab": {
          "base_uri": "https://localhost:8080/"
        },
        "id": "yTiu0nW-YQE-",
        "outputId": "50829339-02eb-4fd5-82fb-e59a77d6146c"
      },
      "outputs": [
        {
          "output_type": "stream",
          "name": "stdout",
          "text": [
            "3\n"
          ]
        }
      ],
      "source": [
        "arr = np.array([[[1,2,3,4,5],[1,2,3,4,5],[1,2,3,4,5],[1,2,3,4,5]], [[1,2,3,4,5],[1,2,3,4,5],[1,2,3,4,5],[1,2,3,4,5]]])\n",
        "print(arr.ndim)"
      ]
    },
    {
      "cell_type": "code",
      "source": [
        "np.array([[[1,2,3,4,4]]]).ndim"
      ],
      "metadata": {
        "colab": {
          "base_uri": "https://localhost:8080/"
        },
        "id": "Frrvs0eje4u9",
        "outputId": "b72849f6-7ff2-4774-8ad0-334a3c4b9583"
      },
      "execution_count": null,
      "outputs": [
        {
          "output_type": "execute_result",
          "data": {
            "text/plain": [
              "3"
            ]
          },
          "metadata": {},
          "execution_count": 44
        }
      ]
    },
    {
      "cell_type": "markdown",
      "source": [
        "String Functions in Numpy"
      ],
      "metadata": {
        "id": "fyupG6NgjSHE"
      }
    },
    {
      "cell_type": "code",
      "source": [
        "# Perform element wise string concatenation for two araays if string\n",
        "x= np.array(['Hello', 'Hello'])\n",
        "y= np.array(['WelcomeHello', 'Learners'])\n",
        "result = np.char.add(x,y)\n",
        "result"
      ],
      "metadata": {
        "colab": {
          "base_uri": "https://localhost:8080/"
        },
        "id": "rXRr9bvujXVX",
        "outputId": "292ec2da-616f-41ae-c6ca-a7d3f1de9bd0"
      },
      "execution_count": null,
      "outputs": [
        {
          "output_type": "execute_result",
          "data": {
            "text/plain": [
              "array(['HelloWelcomeHello', 'HelloLearners'], dtype='<U17')"
            ]
          },
          "metadata": {},
          "execution_count": 36
        }
      ]
    },
    {
      "cell_type": "code",
      "source": [
        "result_str = x+y\n",
        "result_str"
      ],
      "metadata": {
        "colab": {
          "base_uri": "https://localhost:8080/"
        },
        "id": "HQJxBK0ed_2m",
        "outputId": "6d6f59df-649b-4268-83e8-a54475a3d80e"
      },
      "execution_count": null,
      "outputs": [
        {
          "output_type": "execute_result",
          "data": {
            "text/plain": [
              "array(['HelloWelcomeHello', 'HelloLearners'], dtype='<U17')"
            ]
          },
          "metadata": {},
          "execution_count": 35
        }
      ]
    },
    {
      "cell_type": "code",
      "source": [
        "result_str1  = np.add(x,y)\n",
        "result_str1"
      ],
      "metadata": {
        "colab": {
          "base_uri": "https://localhost:8080/"
        },
        "id": "ik2PrCS7eR0p",
        "outputId": "f8a25bc1-9535-41b9-fddc-215496b3943c"
      },
      "execution_count": null,
      "outputs": [
        {
          "output_type": "execute_result",
          "data": {
            "text/plain": [
              "array(['HelloWelcomeHello', 'HelloLearners'], dtype='<U17')"
            ]
          },
          "metadata": {},
          "execution_count": 37
        }
      ]
    },
    {
      "cell_type": "code",
      "source": [
        "replaced_result = np.char.replace(result, 'Hello', 'Hi' )\n",
        "print(replaced_result)"
      ],
      "metadata": {
        "colab": {
          "base_uri": "https://localhost:8080/"
        },
        "id": "bBnYTU1Ojzff",
        "outputId": "03f61a97-4cd9-47b4-aa8c-d4e150072627"
      },
      "execution_count": null,
      "outputs": [
        {
          "output_type": "stream",
          "name": "stdout",
          "text": [
            "['HiWelcomeHi' 'HiLearners']\n"
          ]
        }
      ]
    },
    {
      "cell_type": "code",
      "source": [
        "replaced_result = np.char.replace(result, 'Hello', 'Hi' )\n",
        "print(replaced_result)"
      ],
      "metadata": {
        "colab": {
          "base_uri": "https://localhost:8080/"
        },
        "id": "GAuOwm2BfDiy",
        "outputId": "f5c249af-e2b7-40b4-8693-f564cdb032fb"
      },
      "execution_count": null,
      "outputs": [
        {
          "output_type": "stream",
          "name": "stdout",
          "text": [
            "['HiWelcomeHi' 'HiLearners']\n"
          ]
        }
      ]
    },
    {
      "cell_type": "code",
      "source": [],
      "metadata": {
        "id": "-tSysId_f0uo"
      },
      "execution_count": null,
      "outputs": []
    },
    {
      "cell_type": "code",
      "source": [
        "# append function is not available in npmpy array\n",
        "#np.char.append(replaced_result, \"oooo\")"
      ],
      "metadata": {
        "id": "aA5aSV0HkauG"
      },
      "execution_count": null,
      "outputs": []
    },
    {
      "cell_type": "code",
      "source": [
        "#upper case and lower case using numpy.char\n",
        "string1 = 'Hello How Are You'\n",
        "print(string1)\n",
        "\n",
        "upper_case = np.char.upper(string1)\n",
        "print(upper_case)\n",
        "\n",
        "lower_case = np.char.lower(string1)\n",
        "print(lower_case)"
      ],
      "metadata": {
        "colab": {
          "base_uri": "https://localhost:8080/"
        },
        "id": "ZXkWXjKSkr0N",
        "outputId": "05a2df15-0cf3-496b-e242-d60387a0fd81"
      },
      "execution_count": null,
      "outputs": [
        {
          "output_type": "stream",
          "name": "stdout",
          "text": [
            "Hello How Are You\n",
            "HELLO HOW ARE YOU\n",
            "hello how are you\n"
          ]
        }
      ]
    },
    {
      "cell_type": "markdown",
      "source": [
        "Indexing and Slicing in Numpy Array\n"
      ],
      "metadata": {
        "id": "cSRTxwbRlGlm"
      }
    },
    {
      "cell_type": "code",
      "source": [
        "#Create a 1d, 2d and 3d array\n",
        "arr1D = np.array([1,2,3,4,5,6])\n",
        "arr2D = np.array([[1,2,3,4,5,6],[6,7,5,4,5,0]])\n",
        "arr3D = np.array([[[1,2,3,4,5,6],[6,7,5,4,5,0]], [[1,2,4,4,5,6],[6,7,5,4,5,9]]])\n",
        "print('----------1D array------------')\n",
        "print(arr1D)\n",
        "print('----------2D array------------')\n",
        "print(arr2D)\n",
        "print('----------3D array------------')\n",
        "print(arr3D)"
      ],
      "metadata": {
        "colab": {
          "base_uri": "https://localhost:8080/"
        },
        "id": "drVqUCT3lJ5k",
        "outputId": "6b9f50c7-35d2-4059-f8ed-e14d7ad75ea1"
      },
      "execution_count": null,
      "outputs": [
        {
          "output_type": "stream",
          "name": "stdout",
          "text": [
            "----------1D array------------\n",
            "[1 2 3 4 5 6]\n",
            "----------2D array------------\n",
            "[[1 2 3 4 5 6]\n",
            " [6 7 5 4 5 0]]\n",
            "----------3D array------------\n",
            "[[[1 2 3 4 5 6]\n",
            "  [6 7 5 4 5 0]]\n",
            "\n",
            " [[1 2 4 4 5 6]\n",
            "  [6 7 5 4 5 9]]]\n"
          ]
        }
      ]
    },
    {
      "cell_type": "code",
      "source": [
        "# Access the 2nd Element in each array\n",
        "arr1D[1]"
      ],
      "metadata": {
        "colab": {
          "base_uri": "https://localhost:8080/"
        },
        "id": "qaNgx2xflrLH",
        "outputId": "2be893dc-46e9-40a0-8fc5-6ed0b121403d"
      },
      "execution_count": null,
      "outputs": [
        {
          "output_type": "execute_result",
          "data": {
            "text/plain": [
              "np.int64(2)"
            ]
          },
          "metadata": {},
          "execution_count": 50
        }
      ]
    },
    {
      "cell_type": "code",
      "source": [
        "# 2nd element of the 2D array --- > 5th Element of the 1D array\n",
        "(arr2D[1][4])"
      ],
      "metadata": {
        "colab": {
          "base_uri": "https://localhost:8080/"
        },
        "id": "aMEiTGf8l2-S",
        "outputId": "cbade76d-2aa7-498f-d053-25a4371f74b0"
      },
      "execution_count": null,
      "outputs": [
        {
          "output_type": "execute_result",
          "data": {
            "text/plain": [
              "np.int64(5)"
            ]
          },
          "metadata": {},
          "execution_count": 51
        }
      ]
    },
    {
      "cell_type": "code",
      "source": [
        "arr3D[0][1][4]"
      ],
      "metadata": {
        "colab": {
          "base_uri": "https://localhost:8080/"
        },
        "id": "OHTAVZpwmsfm",
        "outputId": "388260fb-8dd8-4c0a-e204-69acc817dcae"
      },
      "execution_count": null,
      "outputs": [
        {
          "output_type": "execute_result",
          "data": {
            "text/plain": [
              "np.int64(5)"
            ]
          },
          "metadata": {},
          "execution_count": 52
        }
      ]
    },
    {
      "cell_type": "code",
      "source": [
        "#Print a 1 D array in reverse\n",
        "arr1D[::-1]"
      ],
      "metadata": {
        "colab": {
          "base_uri": "https://localhost:8080/"
        },
        "id": "TFtN9TtsnC5u",
        "outputId": "7e3cf1b6-7726-4ea2-f681-65d5c7bdac29"
      },
      "execution_count": null,
      "outputs": [
        {
          "output_type": "execute_result",
          "data": {
            "text/plain": [
              "array([6, 5, 4, 3, 2, 1])"
            ]
          },
          "metadata": {},
          "execution_count": 53
        }
      ]
    },
    {
      "cell_type": "code",
      "source": [
        "#Print a 2D array in reverse using indexing and slicing:: assignment-- Leaving this incomplete.\n",
        "print('Normal seq: ', arr2D)\n",
        "##print('Rev seq: ', arr2D[::][::-1])"
      ],
      "metadata": {
        "colab": {
          "base_uri": "https://localhost:8080/"
        },
        "id": "CjFHEiUUnJcA",
        "outputId": "27f6e1c9-9e70-4d7f-901b-39adf7fcfca7"
      },
      "execution_count": null,
      "outputs": [
        {
          "output_type": "stream",
          "name": "stdout",
          "text": [
            "Normal seq:  [[1 2 3 4 5 6]\n",
            " [6 7 5 4 5 0]]\n"
          ]
        }
      ]
    },
    {
      "cell_type": "code",
      "source": [
        "arr3D = np.array([[[1,2,3,4,5,6],[6,7,5,4,5,0]], [[1,2,4,4,5,6],[6,7,5,4,5,9]],  [[9,2,4,6,5,6],[1,7,5,5,5,0]]])\n",
        "print(arr3D[2][0][-1])"
      ],
      "metadata": {
        "colab": {
          "base_uri": "https://localhost:8080/"
        },
        "id": "qv-nGbPvoUFZ",
        "outputId": "080a27eb-f951-4f9c-98b8-efae9074bb49"
      },
      "execution_count": null,
      "outputs": [
        {
          "output_type": "stream",
          "name": "stdout",
          "text": [
            "6\n"
          ]
        }
      ]
    },
    {
      "cell_type": "code",
      "source": [
        "arr3D\n",
        "# Print this array as 1D array:\n"
      ],
      "metadata": {
        "colab": {
          "base_uri": "https://localhost:8080/"
        },
        "id": "M-9MZ-Tugji3",
        "outputId": "094e7590-8ff2-41ea-e43f-d4039d54737e"
      },
      "execution_count": null,
      "outputs": [
        {
          "output_type": "execute_result",
          "data": {
            "text/plain": [
              "array([[[1, 2, 3, 4, 5, 6],\n",
              "        [6, 7, 5, 4, 5, 0]],\n",
              "\n",
              "       [[1, 2, 4, 4, 5, 6],\n",
              "        [6, 7, 5, 4, 5, 9]],\n",
              "\n",
              "       [[9, 2, 4, 6, 5, 6],\n",
              "        [1, 7, 5, 5, 5, 0]]])"
            ]
          },
          "metadata": {},
          "execution_count": 42
        }
      ]
    },
    {
      "cell_type": "code",
      "source": [
        "arr3D.reshape(36,)"
      ],
      "metadata": {
        "colab": {
          "base_uri": "https://localhost:8080/"
        },
        "id": "GQIJWRYDgypI",
        "outputId": "49ebbbe8-c407-419a-d3e0-dfa90aefe49b"
      },
      "execution_count": null,
      "outputs": [
        {
          "output_type": "execute_result",
          "data": {
            "text/plain": [
              "array([1, 2, 3, 4, 5, 6, 6, 7, 5, 4, 5, 0, 1, 2, 4, 4, 5, 6, 6, 7, 5, 4,\n",
              "       5, 9, 9, 2, 4, 6, 5, 6, 1, 7, 5, 5, 5, 0])"
            ]
          },
          "metadata": {},
          "execution_count": 47
        }
      ]
    },
    {
      "cell_type": "code",
      "source": [
        "arr3D.flatten() # Converts a n-d array to 1D array."
      ],
      "metadata": {
        "colab": {
          "base_uri": "https://localhost:8080/"
        },
        "id": "OIq6x_9Ahc_S",
        "outputId": "5c20ec2d-4e74-4134-d250-82327990c0c8"
      },
      "execution_count": null,
      "outputs": [
        {
          "output_type": "execute_result",
          "data": {
            "text/plain": [
              "array([1, 2, 3, 4, 5, 6, 6, 7, 5, 4, 5, 0, 1, 2, 4, 4, 5, 6, 6, 7, 5, 4,\n",
              "       5, 9, 9, 2, 4, 6, 5, 6, 1, 7, 5, 5, 5, 0])"
            ]
          },
          "metadata": {},
          "execution_count": 48
        }
      ]
    },
    {
      "cell_type": "code",
      "source": [
        "arr3D.shape"
      ],
      "metadata": {
        "colab": {
          "base_uri": "https://localhost:8080/"
        },
        "id": "gSkiTq-8hu1T",
        "outputId": "8f019886-5ca6-477f-d916-182742f03136"
      },
      "execution_count": null,
      "outputs": [
        {
          "output_type": "execute_result",
          "data": {
            "text/plain": [
              "(3, 2, 6)"
            ]
          },
          "metadata": {},
          "execution_count": 49
        }
      ]
    },
    {
      "cell_type": "code",
      "source": [
        "arr1D = np.reshape(arr3D, -1) # -1 == 36 as part of indexing\n",
        "arr1D"
      ],
      "metadata": {
        "colab": {
          "base_uri": "https://localhost:8080/"
        },
        "id": "K4-PKj4Sh-Tm",
        "outputId": "bb8fc940-238d-4851-b516-05373d990183"
      },
      "execution_count": null,
      "outputs": [
        {
          "output_type": "execute_result",
          "data": {
            "text/plain": [
              "array([1, 2, 3, 4, 5, 6, 6, 7, 5, 4, 5, 0, 1, 2, 4, 4, 5, 6, 6, 7, 5, 4,\n",
              "       5, 9, 9, 2, 4, 6, 5, 6, 1, 7, 5, 5, 5, 0])"
            ]
          },
          "metadata": {},
          "execution_count": 54
        }
      ]
    },
    {
      "cell_type": "markdown",
      "source": [
        "Assignment: Problem Statement:\n",
        "\n",
        "Create a 1D NumPy array with at least 10 elements\n",
        "\n",
        "Create a 2D NumPy array with a minimum of 3 rows and 4 columns\n",
        "\n",
        "Create a 3D NumPy array with at least 2 matrices, each containing 2 rows and 3 columns\n",
        "\n",
        "Accessing Elements in Arrays:\n",
        "Access and print various elements from 1D, 2D, and, 3D using positive indexing\n",
        "\n",
        "Perform and print some basic arithmetic operations (like addition, subtraction) using elements accessed from 1D, 2D, and, 3D arrays\n",
        "\n",
        "Access and print elements using negative indices in all three arrays"
      ],
      "metadata": {
        "id": "WPT44zNgpLlw"
      }
    },
    {
      "cell_type": "code",
      "source": [],
      "metadata": {
        "id": "C38PyFLQr1Iy"
      },
      "execution_count": null,
      "outputs": []
    },
    {
      "cell_type": "markdown",
      "source": [],
      "metadata": {
        "id": "o_0i2nPXpWQd"
      }
    },
    {
      "cell_type": "code",
      "source": [
        "list1= [1,2,3,4,5,6,7]\n",
        "print(id(list1)) # -- > x\n",
        "list1=[3,4,5,6,7,8] #-->y\n",
        "print(id(list1))"
      ],
      "metadata": {
        "colab": {
          "base_uri": "https://localhost:8080/"
        },
        "id": "z94j9b_wpfTH",
        "outputId": "baa90071-d1b3-44ff-c4b8-2bb1779defca"
      },
      "execution_count": null,
      "outputs": [
        {
          "output_type": "stream",
          "name": "stdout",
          "text": [
            "137594730203840\n",
            "137594730275072\n"
          ]
        }
      ]
    },
    {
      "cell_type": "code",
      "source": [
        "x= np.array([[1,2,3,4,5],[3,4,5,56,6]])\n",
        "y = np.array([1,2,3,4,5,])\n",
        "print(id(x))\n",
        "print(id(y))\n",
        "z = x\n",
        "print(id(z))\n"
      ],
      "metadata": {
        "colab": {
          "base_uri": "https://localhost:8080/"
        },
        "id": "i-ayG4edpvFn",
        "outputId": "e3ee5616-5043-446d-ce3b-ab9d741926af"
      },
      "execution_count": null,
      "outputs": [
        {
          "output_type": "stream",
          "name": "stdout",
          "text": [
            "137594730362896\n",
            "137594731825072\n",
            "137594730362896\n"
          ]
        }
      ]
    },
    {
      "cell_type": "code",
      "source": [
        "list2 = [1,2,True, 1.0, 'string']\n",
        "print(list2)\n",
        "print(id(list2))"
      ],
      "metadata": {
        "colab": {
          "base_uri": "https://localhost:8080/"
        },
        "id": "jmOxZLyeqyem",
        "outputId": "f8b21608-7b98-41db-b84e-0964d797d732"
      },
      "execution_count": null,
      "outputs": [
        {
          "output_type": "stream",
          "name": "stdout",
          "text": [
            "[1, 2, True, 1.0, 'string']\n",
            "137594729996352\n"
          ]
        }
      ]
    },
    {
      "cell_type": "code",
      "source": [
        "print(id(list2[0]))\n",
        "print(id(list2[1]))"
      ],
      "metadata": {
        "colab": {
          "base_uri": "https://localhost:8080/"
        },
        "id": "1OWaJNtZq9Ny",
        "outputId": "bb47fdd8-4caa-40dc-9dee-8d38d18c4294"
      },
      "execution_count": null,
      "outputs": [
        {
          "output_type": "stream",
          "name": "stdout",
          "text": [
            "11642088\n",
            "11642120\n"
          ]
        }
      ]
    },
    {
      "cell_type": "code",
      "source": [
        "print(id(x))"
      ],
      "metadata": {
        "colab": {
          "base_uri": "https://localhost:8080/"
        },
        "id": "m4K0eMHFrP1v",
        "outputId": "5299070a-5b3c-40bf-863e-c0a989b96ac6"
      },
      "execution_count": null,
      "outputs": [
        {
          "output_type": "stream",
          "name": "stdout",
          "text": [
            "137594730362896\n"
          ]
        }
      ]
    },
    {
      "cell_type": "code",
      "source": [
        "print(id(x[0]))\n",
        "print(id(x[1]))"
      ],
      "metadata": {
        "colab": {
          "base_uri": "https://localhost:8080/"
        },
        "id": "EAHEMf0orR8h",
        "outputId": "789f73de-6514-4c26-ba67-a596670043e8"
      },
      "execution_count": null,
      "outputs": [
        {
          "output_type": "stream",
          "name": "stdout",
          "text": [
            "137594731824688\n",
            "137594731824688\n"
          ]
        }
      ]
    },
    {
      "cell_type": "markdown",
      "source": [
        "Arithmetic operations Using Numpy"
      ],
      "metadata": {
        "id": "FHzjyd7ut4Jx"
      }
    },
    {
      "cell_type": "code",
      "source": [
        "#Addition\n",
        "# Any mathematical operations, numpy will try to do element wise operations\n",
        "x =np.array([1,2,3,4,5])\n",
        "y=np.array([1])\n",
        "x+y"
      ],
      "metadata": {
        "colab": {
          "base_uri": "https://localhost:8080/"
        },
        "id": "v0Szyc0er5SH",
        "outputId": "a510a92f-2239-434b-e04b-7e52c5296bbf"
      },
      "execution_count": null,
      "outputs": [
        {
          "output_type": "execute_result",
          "data": {
            "text/plain": [
              "array([2, 3, 4, 5, 6])"
            ]
          },
          "metadata": {},
          "execution_count": 62
        }
      ]
    },
    {
      "cell_type": "code",
      "source": [
        "#x =np.array([1,2,3,4,5])\n",
        "#y=np.array([1,2])\n",
        "#x+y"
      ],
      "metadata": {
        "id": "SUAl8NoMuN9S"
      },
      "execution_count": null,
      "outputs": []
    },
    {
      "cell_type": "code",
      "source": [
        "x =np.array([1,2,3,4,5])\n",
        "y=np.array([1,2,3,4,5])\n",
        "z = x+y # Element wise addition\n",
        "type(z)\n",
        "z"
      ],
      "metadata": {
        "colab": {
          "base_uri": "https://localhost:8080/"
        },
        "id": "opg6R65muWut",
        "outputId": "3b1cb8bf-a415-4370-b798-d6abe83ac3b3"
      },
      "execution_count": null,
      "outputs": [
        {
          "output_type": "execute_result",
          "data": {
            "text/plain": [
              "array([ 2,  4,  6,  8, 10])"
            ]
          },
          "metadata": {},
          "execution_count": 32
        }
      ]
    },
    {
      "cell_type": "code",
      "source": [
        "np.add(x,y)"
      ],
      "metadata": {
        "colab": {
          "base_uri": "https://localhost:8080/"
        },
        "id": "XMz0qL6UudmM",
        "outputId": "79f1893b-57fe-4fe5-9d5c-06bd8ac6fce0"
      },
      "execution_count": null,
      "outputs": [
        {
          "output_type": "execute_result",
          "data": {
            "text/plain": [
              "array([ 2,  4,  6,  8, 10])"
            ]
          },
          "metadata": {},
          "execution_count": 65
        }
      ]
    },
    {
      "cell_type": "code",
      "source": [
        "a= np.array([1,2,3,4,5])\n",
        "b= np.array([1]) # Broadcasting in Numpy. [1,1,1,1,1]\n",
        "np.add(a,b)"
      ],
      "metadata": {
        "colab": {
          "base_uri": "https://localhost:8080/"
        },
        "id": "yQ3P6umlny91",
        "outputId": "b0d5fa7e-5d6c-4f74-bc25-c25434b7e73a"
      },
      "execution_count": null,
      "outputs": [
        {
          "output_type": "execute_result",
          "data": {
            "text/plain": [
              "array([2, 3, 4, 5, 6])"
            ]
          },
          "metadata": {},
          "execution_count": 73
        }
      ]
    },
    {
      "cell_type": "code",
      "source": [
        "# Substraction, Division, Multiplication, Floor Division, Modulo Division, Power --> Assignment."
      ],
      "metadata": {
        "id": "a6UV3GZZuiL9"
      },
      "execution_count": null,
      "outputs": []
    },
    {
      "cell_type": "markdown",
      "source": [
        "Statistical Operations in Numpy\n",
        "* Mean, Median, Mode, Standard Deviation, Variance in an Array."
      ],
      "metadata": {
        "id": "BGSaCHrQvYbG"
      }
    },
    {
      "cell_type": "code",
      "source": [
        "array = np.array([1,2,3,4,5,6,7,8,9,10,11])\n",
        "np.median(array)"
      ],
      "metadata": {
        "colab": {
          "base_uri": "https://localhost:8080/"
        },
        "id": "4ZIRkWHGr15s",
        "outputId": "d3879c85-33db-4654-85da-ceb886ab3613"
      },
      "execution_count": null,
      "outputs": [
        {
          "output_type": "execute_result",
          "data": {
            "text/plain": [
              "np.float64(6.0)"
            ]
          },
          "metadata": {},
          "execution_count": 67
        }
      ]
    },
    {
      "cell_type": "code",
      "source": [
        "np.mean(array)"
      ],
      "metadata": {
        "colab": {
          "base_uri": "https://localhost:8080/"
        },
        "id": "EpbahvFTwhO2",
        "outputId": "568dbbfc-92ab-43ed-cf90-a1b833a3befb"
      },
      "execution_count": null,
      "outputs": [
        {
          "output_type": "execute_result",
          "data": {
            "text/plain": [
              "np.float64(6.0)"
            ]
          },
          "metadata": {},
          "execution_count": 68
        }
      ]
    },
    {
      "cell_type": "code",
      "source": [
        "array1 = np.array([1,2,3,4,5,6,7,8,9,10,100])\n",
        "np.median(array1)"
      ],
      "metadata": {
        "colab": {
          "base_uri": "https://localhost:8080/"
        },
        "id": "4lW8hsuGwqeG",
        "outputId": "aca8b9c1-f5f0-4c42-85ac-d051f8c05c85"
      },
      "execution_count": null,
      "outputs": [
        {
          "output_type": "execute_result",
          "data": {
            "text/plain": [
              "np.float64(6.0)"
            ]
          },
          "metadata": {},
          "execution_count": 69
        }
      ]
    },
    {
      "cell_type": "code",
      "source": [
        "np.mean(array1)"
      ],
      "metadata": {
        "colab": {
          "base_uri": "https://localhost:8080/"
        },
        "id": "XPBd70MMwsx7",
        "outputId": "64290b93-5ce2-4c35-9baf-268a82c19cce"
      },
      "execution_count": null,
      "outputs": [
        {
          "output_type": "execute_result",
          "data": {
            "text/plain": [
              "np.float64(14.090909090909092)"
            ]
          },
          "metadata": {},
          "execution_count": 70
        }
      ]
    },
    {
      "cell_type": "code",
      "source": [
        "np.std(array1)"
      ],
      "metadata": {
        "colab": {
          "base_uri": "https://localhost:8080/"
        },
        "id": "p2TT64UAxTo6",
        "outputId": "0ac8f733-080f-4193-9485-51cbc4418ddc"
      },
      "execution_count": null,
      "outputs": [
        {
          "output_type": "execute_result",
          "data": {
            "text/plain": [
              "np.float64(27.304526915561905)"
            ]
          },
          "metadata": {},
          "execution_count": 71
        }
      ]
    },
    {
      "cell_type": "code",
      "source": [
        "np.var(array1)"
      ],
      "metadata": {
        "colab": {
          "base_uri": "https://localhost:8080/"
        },
        "id": "2wWZrV4HxvBd",
        "outputId": "c93ab4a8-6249-45d4-91c0-763e7b6d3f96"
      },
      "execution_count": null,
      "outputs": [
        {
          "output_type": "execute_result",
          "data": {
            "text/plain": [
              "np.float64(745.5371900826445)"
            ]
          },
          "metadata": {},
          "execution_count": 72
        }
      ]
    },
    {
      "cell_type": "code",
      "source": [
        "x= range(1,300)\n",
        "print(x)\n",
        "list1=list(x)\n",
        "print(list1)\n",
        "np.percentile(list1, 100)"
      ],
      "metadata": {
        "colab": {
          "base_uri": "https://localhost:8080/"
        },
        "id": "xSPA1fX4zT4u",
        "outputId": "18ed037c-17bd-401b-ebfe-0e6042d17fd7"
      },
      "execution_count": null,
      "outputs": [
        {
          "output_type": "stream",
          "name": "stdout",
          "text": [
            "range(1, 300)\n",
            "[1, 2, 3, 4, 5, 6, 7, 8, 9, 10, 11, 12, 13, 14, 15, 16, 17, 18, 19, 20, 21, 22, 23, 24, 25, 26, 27, 28, 29, 30, 31, 32, 33, 34, 35, 36, 37, 38, 39, 40, 41, 42, 43, 44, 45, 46, 47, 48, 49, 50, 51, 52, 53, 54, 55, 56, 57, 58, 59, 60, 61, 62, 63, 64, 65, 66, 67, 68, 69, 70, 71, 72, 73, 74, 75, 76, 77, 78, 79, 80, 81, 82, 83, 84, 85, 86, 87, 88, 89, 90, 91, 92, 93, 94, 95, 96, 97, 98, 99, 100, 101, 102, 103, 104, 105, 106, 107, 108, 109, 110, 111, 112, 113, 114, 115, 116, 117, 118, 119, 120, 121, 122, 123, 124, 125, 126, 127, 128, 129, 130, 131, 132, 133, 134, 135, 136, 137, 138, 139, 140, 141, 142, 143, 144, 145, 146, 147, 148, 149, 150, 151, 152, 153, 154, 155, 156, 157, 158, 159, 160, 161, 162, 163, 164, 165, 166, 167, 168, 169, 170, 171, 172, 173, 174, 175, 176, 177, 178, 179, 180, 181, 182, 183, 184, 185, 186, 187, 188, 189, 190, 191, 192, 193, 194, 195, 196, 197, 198, 199, 200, 201, 202, 203, 204, 205, 206, 207, 208, 209, 210, 211, 212, 213, 214, 215, 216, 217, 218, 219, 220, 221, 222, 223, 224, 225, 226, 227, 228, 229, 230, 231, 232, 233, 234, 235, 236, 237, 238, 239, 240, 241, 242, 243, 244, 245, 246, 247, 248, 249, 250, 251, 252, 253, 254, 255, 256, 257, 258, 259, 260, 261, 262, 263, 264, 265, 266, 267, 268, 269, 270, 271, 272, 273, 274, 275, 276, 277, 278, 279, 280, 281, 282, 283, 284, 285, 286, 287, 288, 289, 290, 291, 292, 293, 294, 295, 296, 297, 298, 299]\n"
          ]
        },
        {
          "output_type": "execute_result",
          "data": {
            "text/plain": [
              "np.float64(299.0)"
            ]
          },
          "metadata": {},
          "execution_count": 74
        }
      ]
    },
    {
      "cell_type": "code",
      "source": [
        "np.percentile(list1, 50)"
      ],
      "metadata": {
        "colab": {
          "base_uri": "https://localhost:8080/"
        },
        "id": "3OVN5NQ1zmTP",
        "outputId": "0ca6309f-fcc3-4fe0-867a-0844ff924971"
      },
      "execution_count": null,
      "outputs": [
        {
          "output_type": "execute_result",
          "data": {
            "text/plain": [
              "np.float64(150.0)"
            ]
          },
          "metadata": {},
          "execution_count": 75
        }
      ]
    },
    {
      "cell_type": "code",
      "source": [
        "np.median(list1)"
      ],
      "metadata": {
        "colab": {
          "base_uri": "https://localhost:8080/"
        },
        "id": "Pt2ggUwSzt_P",
        "outputId": "a75a87bf-ff24-43c3-9d44-a6853c79781b"
      },
      "execution_count": null,
      "outputs": [
        {
          "output_type": "execute_result",
          "data": {
            "text/plain": [
              "np.float64(150.0)"
            ]
          },
          "metadata": {},
          "execution_count": 75
        }
      ]
    },
    {
      "cell_type": "code",
      "source": [
        "np.percentile(list1, 25)"
      ],
      "metadata": {
        "colab": {
          "base_uri": "https://localhost:8080/"
        },
        "id": "b5RbmgeKzxr8",
        "outputId": "904d9ea3-f213-4cf9-f29a-06b0492603f9"
      },
      "execution_count": null,
      "outputs": [
        {
          "output_type": "execute_result",
          "data": {
            "text/plain": [
              "np.float64(75.5)"
            ]
          },
          "metadata": {},
          "execution_count": 76
        }
      ]
    },
    {
      "cell_type": "code",
      "source": [
        "np.percentile(list1, 75)"
      ],
      "metadata": {
        "colab": {
          "base_uri": "https://localhost:8080/"
        },
        "id": "Ubl5ZJFUz4Bm",
        "outputId": "377fefe0-f48c-4181-fe8c-7bf8c80e78f9"
      },
      "execution_count": null,
      "outputs": [
        {
          "output_type": "execute_result",
          "data": {
            "text/plain": [
              "np.float64(224.5)"
            ]
          },
          "metadata": {},
          "execution_count": 77
        }
      ]
    },
    {
      "cell_type": "code",
      "source": [],
      "metadata": {
        "id": "g5liL74d13kp"
      },
      "execution_count": null,
      "outputs": []
    },
    {
      "cell_type": "markdown",
      "source": [
        "Problem Statement:\n",
        "Consider the following arrays:\n",
        "Arrays for Arithmetic Operations:\n",
        "\n",
        "Array A: [15, 25, 35, 45, 55]\n",
        "\n",
        "Array B: [5, 10, 15, 20, 25]\n",
        "\n",
        "Array for Statistical Operations:\n",
        "Array C: [12, 22, 32, 42, 52, 62, 72, 82, 92, 102]\n",
        "\n",
        "Arrays for String Functions:\n",
        "String Array X: ['Hello', 'Data', 'Science', 'Class', 'Learners']\n",
        "String Array Y: ['World', 'Analysis', 'is', 'Fun', '2023']\n",
        "\n",
        "Steps to Perform:\n",
        "Perform element-wise addition, subtraction, multiplication, division, and power operations on Arrays A and B\n",
        "\n",
        "Calculate the median, mean, standard deviation, and variance for Array C\n",
        "\n",
        "Concatenate corresponding elements of String Arrays X and Y\n",
        "\n",
        "Convert all elements in String Array X to uppercase\n",
        "\n",
        "Replace a specific substring in String Array Y with another substring"
      ],
      "metadata": {
        "id": "clNJSqfQ14Rv"
      }
    },
    {
      "cell_type": "code",
      "source": [
        "np.random.randint(1,100,10)"
      ],
      "metadata": {
        "colab": {
          "base_uri": "https://localhost:8080/"
        },
        "id": "HxNC18CR3sg5",
        "outputId": "09bb92f7-6356-4eb3-ef59-91b2befafba4"
      },
      "execution_count": null,
      "outputs": [
        {
          "output_type": "execute_result",
          "data": {
            "text/plain": [
              "array([33, 55, 57, 98, 18, 10, 42, 46, 17, 44])"
            ]
          },
          "metadata": {},
          "execution_count": 78
        }
      ]
    },
    {
      "cell_type": "code",
      "source": [
        "np.random.randint(1,100,22)"
      ],
      "metadata": {
        "colab": {
          "base_uri": "https://localhost:8080/"
        },
        "id": "wTgYce3e4I-s",
        "outputId": "7ee83ddd-c86f-4ee3-e159-6f9618bfe1f1"
      },
      "execution_count": null,
      "outputs": [
        {
          "output_type": "execute_result",
          "data": {
            "text/plain": [
              "array([21, 49, 34, 77, 48, 64, 76, 73, 84,  9, 82, 76, 48, 59, 13, 38, 35,\n",
              "       80, 16, 52, 42, 13])"
            ]
          },
          "metadata": {},
          "execution_count": 79
        }
      ]
    },
    {
      "cell_type": "code",
      "source": [
        "np.random.randint(1,3, (5,5))"
      ],
      "metadata": {
        "colab": {
          "base_uri": "https://localhost:8080/"
        },
        "id": "LSTyuiFYxHSC",
        "outputId": "9636ebc0-ee75-4030-c415-2093223530f1"
      },
      "execution_count": null,
      "outputs": [
        {
          "output_type": "execute_result",
          "data": {
            "text/plain": [
              "array([[2, 1, 1, 2, 1],\n",
              "       [2, 1, 1, 2, 1],\n",
              "       [1, 1, 1, 2, 1],\n",
              "       [2, 1, 1, 2, 2],\n",
              "       [1, 1, 1, 1, 2]])"
            ]
          },
          "metadata": {},
          "execution_count": 80
        }
      ]
    },
    {
      "cell_type": "code",
      "source": [
        "#Examples of built-in ufuncs:\n",
        "#* Vectorized function in numpy, which operates elelemnt-eise on arrays\n",
        "#Arithmetic: np.add, np.subtract, np.multiply, np.np.divide\n",
        "#Trigonometric-> np.sin, np.cos, np.tan\n",
        "#Exponential --> np.exp, np.log,\n",
        "#np.greater, np.equal\n"
      ],
      "metadata": {
        "id": "BPyX_2Qi2yz7"
      },
      "execution_count": null,
      "outputs": []
    },
    {
      "cell_type": "code",
      "source": [
        "arr1_1 = np.array([1,2,3,4,5])\n",
        "np.sin(arr1_1)"
      ],
      "metadata": {
        "colab": {
          "base_uri": "https://localhost:8080/"
        },
        "id": "_L7DJr_6x3zs",
        "outputId": "06f4af9f-7922-40f2-e14f-5bfcd001875a"
      },
      "execution_count": null,
      "outputs": [
        {
          "output_type": "execute_result",
          "data": {
            "text/plain": [
              "array([ 0.84147098,  0.90929743,  0.14112001, -0.7568025 , -0.95892427])"
            ]
          },
          "metadata": {},
          "execution_count": 81
        }
      ]
    },
    {
      "cell_type": "code",
      "source": [
        "x=np.array([1,2,3,4,5])\n",
        "y=np.array([3,4,5,6,7])\n",
        "np.greater(x,y)"
      ],
      "metadata": {
        "colab": {
          "base_uri": "https://localhost:8080/"
        },
        "id": "Da96qx4j5rAs",
        "outputId": "9209a731-bc4b-406a-b59b-4cbdec690e10"
      },
      "execution_count": null,
      "outputs": [
        {
          "output_type": "execute_result",
          "data": {
            "text/plain": [
              "array([False, False, False, False, False])"
            ]
          },
          "metadata": {},
          "execution_count": 81
        }
      ]
    },
    {
      "cell_type": "code",
      "source": [
        "x=np.array([1,2,3,4,5])\n",
        "y=np.array([1,3,3,4,7])\n",
        "np.equal(x,y)"
      ],
      "metadata": {
        "colab": {
          "base_uri": "https://localhost:8080/"
        },
        "id": "TFMh755i53sL",
        "outputId": "15311d28-b5ad-4327-fb5a-c9e0f899b24c"
      },
      "execution_count": null,
      "outputs": [
        {
          "output_type": "execute_result",
          "data": {
            "text/plain": [
              "array([ True, False,  True,  True, False])"
            ]
          },
          "metadata": {},
          "execution_count": 82
        }
      ]
    },
    {
      "cell_type": "code",
      "source": [
        "arr2d = np.array(np.random.randint(1,10, (2,5)))\n",
        "arr2d\n"
      ],
      "metadata": {
        "colab": {
          "base_uri": "https://localhost:8080/"
        },
        "id": "2LVs5Ti5yp01",
        "outputId": "e70547c9-4d02-469c-c4d3-0913210fda57"
      },
      "execution_count": null,
      "outputs": [
        {
          "output_type": "execute_result",
          "data": {
            "text/plain": [
              "array([[6, 4, 6, 8, 9],\n",
              "       [2, 8, 8, 5, 3]])"
            ]
          },
          "metadata": {},
          "execution_count": 84
        }
      ]
    },
    {
      "cell_type": "code",
      "source": [
        "arr2d\n"
      ],
      "metadata": {
        "colab": {
          "base_uri": "https://localhost:8080/"
        },
        "id": "-77v5qg_zIBI",
        "outputId": "eee8b7c6-c692-4258-884c-4768e4904c64"
      },
      "execution_count": null,
      "outputs": [
        {
          "output_type": "execute_result",
          "data": {
            "text/plain": [
              "array([[6, 4, 6, 8, 9],\n",
              "       [2, 8, 8, 5, 3]])"
            ]
          },
          "metadata": {},
          "execution_count": 95
        }
      ]
    },
    {
      "cell_type": "code",
      "source": [
        "ar =arr2d[::-1][::-1]"
      ],
      "metadata": {
        "id": "sgiOVGRgznzY"
      },
      "execution_count": null,
      "outputs": []
    },
    {
      "cell_type": "code",
      "source": [
        "ar[::-1]"
      ],
      "metadata": {
        "colab": {
          "base_uri": "https://localhost:8080/"
        },
        "id": "gbmaHdS303vH",
        "outputId": "81cb79bf-075c-4fd9-e736-06d0cce2bb83"
      },
      "execution_count": null,
      "outputs": [
        {
          "output_type": "execute_result",
          "data": {
            "text/plain": [
              "array([[6, 4, 6, 8, 9],\n",
              "       [2, 8, 8, 5, 3]])"
            ]
          },
          "metadata": {},
          "execution_count": 111
        }
      ]
    },
    {
      "cell_type": "code",
      "source": [
        "arr3d = np.array(np.random.randint(1,10,(2,3,4)))\n",
        "arr3d\n"
      ],
      "metadata": {
        "colab": {
          "base_uri": "https://localhost:8080/"
        },
        "id": "DYHk0_DQ1Y7R",
        "outputId": "cbd3af6c-4a91-4acb-e560-8081f69e19bf"
      },
      "execution_count": null,
      "outputs": [
        {
          "output_type": "execute_result",
          "data": {
            "text/plain": [
              "array([[[9, 7, 6, 4],\n",
              "        [6, 8, 9, 9],\n",
              "        [8, 1, 9, 1]],\n",
              "\n",
              "       [[6, 7, 3, 9],\n",
              "        [7, 8, 9, 2],\n",
              "        [9, 8, 3, 5]]])"
            ]
          },
          "metadata": {},
          "execution_count": 112
        }
      ]
    },
    {
      "cell_type": "code",
      "source": [
        "arr3d[::-1][::-1][::-1]"
      ],
      "metadata": {
        "colab": {
          "base_uri": "https://localhost:8080/"
        },
        "id": "ERP2ofmW1kRr",
        "outputId": "08e8229d-5bc7-4c99-f696-59e0862a1de1"
      },
      "execution_count": null,
      "outputs": [
        {
          "output_type": "execute_result",
          "data": {
            "text/plain": [
              "array([[[6, 7, 3, 9],\n",
              "        [7, 8, 9, 2],\n",
              "        [9, 8, 3, 5]],\n",
              "\n",
              "       [[9, 7, 6, 4],\n",
              "        [6, 8, 9, 9],\n",
              "        [8, 1, 9, 1]]])"
            ]
          },
          "metadata": {},
          "execution_count": 113
        }
      ]
    },
    {
      "cell_type": "code",
      "source": [
        "arr3d[::-1]"
      ],
      "metadata": {
        "colab": {
          "base_uri": "https://localhost:8080/"
        },
        "id": "2zP6vve-1wY2",
        "outputId": "4327d8cc-be0f-48df-f69b-a3a6d610105c"
      },
      "execution_count": null,
      "outputs": [
        {
          "output_type": "execute_result",
          "data": {
            "text/plain": [
              "array([[[6, 7, 3, 9],\n",
              "        [7, 8, 9, 2],\n",
              "        [9, 8, 3, 5]],\n",
              "\n",
              "       [[9, 7, 6, 4],\n",
              "        [6, 8, 9, 9],\n",
              "        [8, 1, 9, 1]]])"
            ]
          },
          "metadata": {},
          "execution_count": 114
        }
      ]
    },
    {
      "cell_type": "markdown",
      "source": [],
      "metadata": {
        "id": "54PPpe0tP1ZD"
      }
    },
    {
      "cell_type": "code",
      "source": [
        "print(arr2d)\n",
        "print('-------------')\n",
        "print(arr2d[::-1, ::-1])"
      ],
      "metadata": {
        "colab": {
          "base_uri": "https://localhost:8080/"
        },
        "id": "68pAEJeJ83-6",
        "outputId": "f77bc821-19dc-40f3-8876-9bda170347a7"
      },
      "execution_count": null,
      "outputs": [
        {
          "output_type": "stream",
          "name": "stdout",
          "text": [
            "[[6 4 6 8 9]\n",
            " [2 8 8 5 3]]\n",
            "-------------\n",
            "[[3 5 8 8 2]\n",
            " [9 8 6 4 6]]\n"
          ]
        }
      ]
    },
    {
      "cell_type": "markdown",
      "source": [
        "Shape of an nd array\n"
      ],
      "metadata": {
        "id": "wiYXJdmLP1_G"
      }
    },
    {
      "cell_type": "markdown",
      "source": [],
      "metadata": {
        "id": "7qYGeR9HP5wU"
      }
    },
    {
      "cell_type": "code",
      "source": [
        "arr0D= np.array(1) # 0 dimentional array has void shape.\n",
        "print(arr0D)\n",
        "print(arr0D.shape)"
      ],
      "metadata": {
        "colab": {
          "base_uri": "https://localhost:8080/"
        },
        "id": "yTDqp16iP6NY",
        "outputId": "f9a03f94-2068-408d-f827-75d1b198bbbb"
      },
      "execution_count": null,
      "outputs": [
        {
          "output_type": "stream",
          "name": "stdout",
          "text": [
            "1\n",
            "()\n"
          ]
        }
      ]
    },
    {
      "cell_type": "code",
      "source": [
        "arr1D= np.array([1,2,3,4,5,6,7,8,9,10]) # By default the 1D array is 10,1 shape not 1,10.\n",
        "print(arr1D)\n",
        "print(arr1D.shape)\n",
        "arr1D.reshape(1,10)\n",
        "print(arr1D.reshape(1,10).shape) # Becomes a 2d array.\n"
      ],
      "metadata": {
        "colab": {
          "base_uri": "https://localhost:8080/"
        },
        "id": "i3ksRjfbQkm2",
        "outputId": "47076eee-0633-45d4-c84d-b5a7b646dae5"
      },
      "execution_count": null,
      "outputs": [
        {
          "output_type": "stream",
          "name": "stdout",
          "text": [
            "[ 1  2  3  4  5  6  7  8  9 10]\n",
            "(10,)\n",
            "(1, 10)\n"
          ]
        }
      ]
    },
    {
      "cell_type": "markdown",
      "source": [
        "10,1 --> can be reshaped it to 1,10 >> 2,5 --> 5,2\n",
        "24,1 --> can be reshaped to --> 2,12 --> 12,2 --> 2,3,4-->\n",
        "It can be reshaped to any format, just ensure the total no of elements in the array is same.\n"
      ],
      "metadata": {
        "id": "U-knaQ-jRIJK"
      }
    },
    {
      "cell_type": "code",
      "source": [
        "arr = np.array([range(1,25)])\n",
        "print(\"1 D array:\", arr)\n",
        "print(\"---------------\")\n",
        "print(\"2 D array:\", arr.reshape(2,12))\n",
        "print(\"---------------\")\n",
        "print(\"3 D array:\", arr.reshape(2,3,4))"
      ],
      "metadata": {
        "colab": {
          "base_uri": "https://localhost:8080/"
        },
        "id": "MyBPxetVRwWf",
        "outputId": "c6c6571e-63d4-4627-a61f-d547b6a90868"
      },
      "execution_count": null,
      "outputs": [
        {
          "output_type": "stream",
          "name": "stdout",
          "text": [
            "1 D array: [[ 1  2  3  4  5  6  7  8  9 10 11 12 13 14 15 16 17 18 19 20 21 22 23 24]]\n",
            "---------------\n",
            "2 D array: [[ 1  2  3  4  5  6  7  8  9 10 11 12]\n",
            " [13 14 15 16 17 18 19 20 21 22 23 24]]\n",
            "---------------\n",
            "3 D array: [[[ 1  2  3  4]\n",
            "  [ 5  6  7  8]\n",
            "  [ 9 10 11 12]]\n",
            "\n",
            " [[13 14 15 16]\n",
            "  [17 18 19 20]\n",
            "  [21 22 23 24]]]\n"
          ]
        }
      ]
    },
    {
      "cell_type": "code",
      "source": [
        "print('3D array:', arr.reshape(4,3,2))"
      ],
      "metadata": {
        "colab": {
          "base_uri": "https://localhost:8080/"
        },
        "id": "xytSz3MCSyyS",
        "outputId": "c27bfc22-f9fe-48bb-a860-b5afff768d6a"
      },
      "execution_count": null,
      "outputs": [
        {
          "output_type": "stream",
          "name": "stdout",
          "text": [
            "3D array: [[[ 1  2]\n",
            "  [ 3  4]\n",
            "  [ 5  6]]\n",
            "\n",
            " [[ 7  8]\n",
            "  [ 9 10]\n",
            "  [11 12]]\n",
            "\n",
            " [[13 14]\n",
            "  [15 16]\n",
            "  [17 18]]\n",
            "\n",
            " [[19 20]\n",
            "  [21 22]\n",
            "  [23 24]]]\n"
          ]
        }
      ]
    },
    {
      "cell_type": "code",
      "source": [
        "\n"
      ],
      "metadata": {
        "id": "YmkOJ6_bTNKZ"
      },
      "execution_count": null,
      "outputs": []
    },
    {
      "cell_type": "code",
      "source": [
        "arr3d = np.array([ [[1,2,3,4,5,6,7],[8,9,10,11,12,13,14]], [[11,12,13,14,15,16,17],[18,19,110,111,112,113,114]]])\n",
        "arr3d"
      ],
      "metadata": {
        "colab": {
          "base_uri": "https://localhost:8080/"
        },
        "id": "I9OKG6TaTFbp",
        "outputId": "c4c21a3e-4fdf-4586-aefc-8d2fb0b16afb"
      },
      "execution_count": null,
      "outputs": [
        {
          "output_type": "execute_result",
          "data": {
            "text/plain": [
              "array([[[  1,   2,   3,   4,   5,   6,   7],\n",
              "        [  8,   9,  10,  11,  12,  13,  14]],\n",
              "\n",
              "       [[ 11,  12,  13,  14,  15,  16,  17],\n",
              "        [ 18,  19, 110, 111, 112, 113, 114]]])"
            ]
          },
          "metadata": {},
          "execution_count": 100
        }
      ]
    },
    {
      "cell_type": "code",
      "source": [
        "arr3d.shape # 28 elements.\n",
        "arr3d.reshape(1,28)\n"
      ],
      "metadata": {
        "colab": {
          "base_uri": "https://localhost:8080/"
        },
        "id": "jXATo_ZfToLh",
        "outputId": "ac79b49c-c0ad-4902-83a9-b43cb686c5b3"
      },
      "execution_count": null,
      "outputs": [
        {
          "output_type": "execute_result",
          "data": {
            "text/plain": [
              "array([[  1,   2,   3,   4,   5,   6,   7,   8,   9,  10,  11,  12,  13,\n",
              "         14,  11,  12,  13,  14,  15,  16,  17,  18,  19, 110, 111, 112,\n",
              "        113, 114]])"
            ]
          },
          "metadata": {},
          "execution_count": 107
        }
      ]
    },
    {
      "cell_type": "code",
      "source": [
        "arr3d.flatten()  # Instructing to give me a 1D array."
      ],
      "metadata": {
        "colab": {
          "base_uri": "https://localhost:8080/"
        },
        "id": "r6IHseImUB_x",
        "outputId": "79b36439-e02f-4c3a-e0e0-9759d1562270"
      },
      "execution_count": null,
      "outputs": [
        {
          "output_type": "execute_result",
          "data": {
            "text/plain": [
              "array([  1,   2,   3,   4,   5,   6,   7,   8,   9,  10,  11,  12,  13,\n",
              "        14,  11,  12,  13,  14,  15,  16,  17,  18,  19, 110, 111, 112,\n",
              "       113, 114])"
            ]
          },
          "metadata": {},
          "execution_count": 103
        }
      ]
    },
    {
      "cell_type": "code",
      "source": [
        "arr1D = np.array(range(1,24))\n",
        "arr1D.reshape(1,1,23)\n",
        "#print(arr1D.reshape(1,1,1,1,1,1,1,1,1,1,1,1,1,1,1,1,1,1,1,1,1,1,1,1,1,1,1,1,1,1,1,1,1,1,1,1,1,1,1,1,1,1,1,1,1,1,1,1,1,1,1,1,1,1,1,1,1,1,1,1,1,1,1,1,1,1,1,1,1,5,5))"
      ],
      "metadata": {
        "colab": {
          "base_uri": "https://localhost:8080/"
        },
        "id": "yUKoWBoLUuIj",
        "outputId": "d791af67-b60a-40b2-9914-fc8841c5204e"
      },
      "execution_count": null,
      "outputs": [
        {
          "output_type": "execute_result",
          "data": {
            "text/plain": [
              "array([[[ 1,  2,  3,  4,  5,  6,  7,  8,  9, 10, 11, 12, 13, 14, 15, 16,\n",
              "         17, 18, 19, 20, 21, 22, 23]]])"
            ]
          },
          "metadata": {},
          "execution_count": 116
        }
      ]
    },
    {
      "cell_type": "code",
      "source": [
        "#Checking the data type\n",
        "arr= np.array([1,2,3,4,5,6,7])\n",
        "arr.dtype"
      ],
      "metadata": {
        "colab": {
          "base_uri": "https://localhost:8080/"
        },
        "id": "Np9-o_mEVa5e",
        "outputId": "6a173f04-4983-4401-cc98-282acd69ef81"
      },
      "execution_count": null,
      "outputs": [
        {
          "output_type": "execute_result",
          "data": {
            "text/plain": [
              "dtype('int64')"
            ]
          },
          "metadata": {},
          "execution_count": 117
        }
      ]
    },
    {
      "cell_type": "code",
      "source": [
        "arr= np.array(['1',2,3,4,5,6,7])\n",
        "arr.dtype"
      ],
      "metadata": {
        "colab": {
          "base_uri": "https://localhost:8080/"
        },
        "id": "SR-PpKhBVpAF",
        "outputId": "99c9bc11-9cba-4ced-e41d-a6a49f29ddf4"
      },
      "execution_count": null,
      "outputs": [
        {
          "output_type": "execute_result",
          "data": {
            "text/plain": [
              "dtype('<U21')"
            ]
          },
          "metadata": {},
          "execution_count": 118
        }
      ]
    },
    {
      "cell_type": "code",
      "source": [
        "arr= np.array(['1',2,3,4,5,6,7,True])\n",
        "arr.dtype"
      ],
      "metadata": {
        "colab": {
          "base_uri": "https://localhost:8080/"
        },
        "id": "ulk3N6L6Vxj8",
        "outputId": "add9caa8-c620-4745-914c-edecc01bd397"
      },
      "execution_count": null,
      "outputs": [
        {
          "output_type": "execute_result",
          "data": {
            "text/plain": [
              "dtype('<U21')"
            ]
          },
          "metadata": {},
          "execution_count": 119
        }
      ]
    },
    {
      "cell_type": "code",
      "source": [
        "arr"
      ],
      "metadata": {
        "colab": {
          "base_uri": "https://localhost:8080/"
        },
        "id": "gBbU9yvMV4CA",
        "outputId": "fbc4be1e-7f67-4fdb-e903-0bf86ed8d598"
      },
      "execution_count": null,
      "outputs": [
        {
          "output_type": "execute_result",
          "data": {
            "text/plain": [
              "array(['1', '2', '3', '4', '5', '6', '7', 'True'], dtype='<U21')"
            ]
          },
          "metadata": {},
          "execution_count": 120
        }
      ]
    },
    {
      "cell_type": "code",
      "source": [
        "arr= np.array([2,3,4,5,6,7,True])\n",
        "arr.dtype"
      ],
      "metadata": {
        "colab": {
          "base_uri": "https://localhost:8080/"
        },
        "id": "GreBGNDoV-Ld",
        "outputId": "0b965fa6-6201-4666-b562-93458cef0d0a"
      },
      "execution_count": null,
      "outputs": [
        {
          "output_type": "execute_result",
          "data": {
            "text/plain": [
              "dtype('int64')"
            ]
          },
          "metadata": {},
          "execution_count": 121
        }
      ]
    },
    {
      "cell_type": "code",
      "source": [
        "arr"
      ],
      "metadata": {
        "colab": {
          "base_uri": "https://localhost:8080/"
        },
        "id": "pkNalbwqWBr0",
        "outputId": "741f7615-9440-49f7-d703-529ad154b5dd"
      },
      "execution_count": null,
      "outputs": [
        {
          "output_type": "execute_result",
          "data": {
            "text/plain": [
              "array([2, 3, 4, 5, 6, 7, 1])"
            ]
          },
          "metadata": {},
          "execution_count": 122
        }
      ]
    },
    {
      "cell_type": "code",
      "source": [
        "# Array Initialization : Generate arrays with varying step size.\n",
        "list(range(1,10,2))"
      ],
      "metadata": {
        "colab": {
          "base_uri": "https://localhost:8080/"
        },
        "id": "-KxcQB0fWJrL",
        "outputId": "e023c6c8-9938-4727-d40d-35858e241902"
      },
      "execution_count": null,
      "outputs": [
        {
          "output_type": "execute_result",
          "data": {
            "text/plain": [
              "[1, 3, 5, 7, 9]"
            ]
          },
          "metadata": {},
          "execution_count": 123
        }
      ]
    },
    {
      "cell_type": "code",
      "source": [
        "np.arange(0,10,2)"
      ],
      "metadata": {
        "colab": {
          "base_uri": "https://localhost:8080/"
        },
        "id": "g67c57-LWkdq",
        "outputId": "fe32a22b-e86a-47a0-f4b4-959d91ed1919"
      },
      "execution_count": null,
      "outputs": [
        {
          "output_type": "execute_result",
          "data": {
            "text/plain": [
              "array([0, 2, 4, 6, 8])"
            ]
          },
          "metadata": {},
          "execution_count": 126
        }
      ]
    },
    {
      "cell_type": "code",
      "source": [
        "np.zeros(27).reshape(3,3,3)"
      ],
      "metadata": {
        "colab": {
          "base_uri": "https://localhost:8080/"
        },
        "id": "bd2IdMbQWuma",
        "outputId": "e5116c0a-bab7-4ec9-d9d1-d9413a0af6e6"
      },
      "execution_count": null,
      "outputs": [
        {
          "output_type": "execute_result",
          "data": {
            "text/plain": [
              "array([[[0., 0., 0.],\n",
              "        [0., 0., 0.],\n",
              "        [0., 0., 0.]],\n",
              "\n",
              "       [[0., 0., 0.],\n",
              "        [0., 0., 0.],\n",
              "        [0., 0., 0.]],\n",
              "\n",
              "       [[0., 0., 0.],\n",
              "        [0., 0., 0.],\n",
              "        [0., 0., 0.]]])"
            ]
          },
          "metadata": {},
          "execution_count": 119
        }
      ]
    },
    {
      "cell_type": "code",
      "source": [
        "np.zeros(27).reshape(3,3,3)"
      ],
      "metadata": {
        "colab": {
          "base_uri": "https://localhost:8080/"
        },
        "id": "jITDJAX73e7P",
        "outputId": "8e432ea8-d397-462a-a9ee-81f498ddf4d5"
      },
      "execution_count": null,
      "outputs": [
        {
          "output_type": "execute_result",
          "data": {
            "text/plain": [
              "array([[[0., 0., 0.],\n",
              "        [0., 0., 0.],\n",
              "        [0., 0., 0.]],\n",
              "\n",
              "       [[0., 0., 0.],\n",
              "        [0., 0., 0.],\n",
              "        [0., 0., 0.]],\n",
              "\n",
              "       [[0., 0., 0.],\n",
              "        [0., 0., 0.],\n",
              "        [0., 0., 0.]]])"
            ]
          },
          "metadata": {},
          "execution_count": 121
        }
      ]
    },
    {
      "cell_type": "code",
      "source": [
        "arr_1s = np.ones(100).reshape(10,10)\n",
        "arr_1s.dtype"
      ],
      "metadata": {
        "colab": {
          "base_uri": "https://localhost:8080/"
        },
        "id": "Iiewyp9xXEMe",
        "outputId": "89a6ef16-fdfe-48a1-bdaa-a33ee18f11b3"
      },
      "execution_count": null,
      "outputs": [
        {
          "output_type": "execute_result",
          "data": {
            "text/plain": [
              "dtype('float64')"
            ]
          },
          "metadata": {},
          "execution_count": 134
        }
      ]
    },
    {
      "cell_type": "code",
      "source": [
        "np.linspace(0,5,11) # Generate 10 numbers, equally spaced betweeen 0 to 5 # starting_num, ending_num, no_of_elements , ending_num is considered.\n"
      ],
      "metadata": {
        "colab": {
          "base_uri": "https://localhost:8080/"
        },
        "id": "5d2VftxFXKbp",
        "outputId": "d8aa92c6-b51d-4591-b3b7-ac1510ed80e6"
      },
      "execution_count": null,
      "outputs": [
        {
          "output_type": "execute_result",
          "data": {
            "text/plain": [
              "array([0. , 0.5, 1. , 1.5, 2. , 2.5, 3. , 3.5, 4. , 4.5, 5. ])"
            ]
          },
          "metadata": {},
          "execution_count": 122
        }
      ]
    },
    {
      "cell_type": "code",
      "source": [
        "np.arange(10,0,-1) # starting_num, ending_num, step_size. , ending_num is not printed."
      ],
      "metadata": {
        "colab": {
          "base_uri": "https://localhost:8080/"
        },
        "id": "5m3B9dVbXzvU",
        "outputId": "f4004e0a-0dea-4f51-b4bb-59f2050af221"
      },
      "execution_count": null,
      "outputs": [
        {
          "output_type": "execute_result",
          "data": {
            "text/plain": [
              "array([10,  9,  8,  7,  6,  5,  4,  3,  2,  1])"
            ]
          },
          "metadata": {},
          "execution_count": 125
        }
      ]
    },
    {
      "cell_type": "code",
      "source": [
        "np.eye(3) # Creates an identity matrix."
      ],
      "metadata": {
        "colab": {
          "base_uri": "https://localhost:8080/"
        },
        "id": "1bJWCQCJYPPN",
        "outputId": "25163793-5c40-41d0-9694-7d76b32631ba"
      },
      "execution_count": null,
      "outputs": [
        {
          "output_type": "execute_result",
          "data": {
            "text/plain": [
              "array([[1., 0., 0.],\n",
              "       [0., 1., 0.],\n",
              "       [0., 0., 1.]])"
            ]
          },
          "metadata": {},
          "execution_count": 137
        }
      ]
    },
    {
      "cell_type": "code",
      "source": [
        "#######Assignment####\n",
        "#1. Find the difference between np.random.rand() and np.random.randn()--> and also its application."
      ],
      "metadata": {
        "id": "A43yxrbEYr2j"
      },
      "execution_count": null,
      "outputs": []
    },
    {
      "cell_type": "code",
      "source": [
        "np.random.rand(10) # Uniform Distribution between 0 t0 1,"
      ],
      "metadata": {
        "colab": {
          "base_uri": "https://localhost:8080/"
        },
        "id": "BJR5kaxP5ozW",
        "outputId": "d2c125ef-9672-4765-c7b5-08c293709633"
      },
      "execution_count": null,
      "outputs": [
        {
          "output_type": "execute_result",
          "data": {
            "text/plain": [
              "array([0.20066823, 0.54604736, 0.34330969, 0.51891662, 0.94519304,\n",
              "       0.42277377, 0.82683124, 0.05124584, 0.31991402, 0.41459829])"
            ]
          },
          "metadata": {},
          "execution_count": 126
        }
      ]
    },
    {
      "cell_type": "code",
      "source": [
        "np.random.randn(1000) # Normal Distribution between -1 to +1 with mean as 0 and standard deviation as 1."
      ],
      "metadata": {
        "colab": {
          "base_uri": "https://localhost:8080/"
        },
        "id": "fPh01Sdp5xAk",
        "outputId": "156dd4ce-1a81-43d9-8e66-0670d9a04e1e"
      },
      "execution_count": null,
      "outputs": [
        {
          "output_type": "execute_result",
          "data": {
            "text/plain": [
              "array([-4.24592818e-01,  1.29293492e+00,  1.58126539e+00, -1.17196757e+00,\n",
              "        1.58533309e-01,  1.49784139e+00,  3.56801592e+00, -1.33461632e+00,\n",
              "       -6.13207820e-01, -1.69365312e+00, -1.14134379e+00,  9.72510153e-03,\n",
              "       -4.78551093e-01, -1.82369085e+00,  1.47202806e+00, -1.60720380e+00,\n",
              "        1.27080540e+00, -1.41168549e+00, -2.93645645e-01, -6.97004224e-01,\n",
              "        1.50137995e+00,  3.74947052e-01, -3.54108655e-01, -3.62469390e-01,\n",
              "        9.10937144e-01,  9.34580906e-01, -1.00108379e+00, -2.52722353e-01,\n",
              "        7.75240786e-02, -1.17362598e+00,  4.26879449e-01,  1.01763666e+00,\n",
              "       -1.81313243e+00,  2.14891714e-01, -6.54251661e-01, -9.10438205e-01,\n",
              "        9.43958562e-01,  5.94668922e-01, -1.04575355e+00, -9.32192050e-02,\n",
              "        6.39636674e-01, -2.29248397e+00, -1.18427408e+00, -4.60747984e-02,\n",
              "        2.51809951e-01, -5.70350137e-01,  1.58259015e+00,  1.00998268e+00,\n",
              "       -1.28822877e+00, -6.99827566e-01, -1.26213936e+00, -6.00776581e-01,\n",
              "        2.20992771e+00,  9.78350911e-01,  9.72656060e-01,  6.78099096e-01,\n",
              "        5.35162085e-01, -1.05812182e+00, -7.64405157e-01,  1.35511302e-02,\n",
              "       -4.71161347e-01,  5.99624344e-01,  2.11072028e+00,  3.93587147e-01,\n",
              "        5.26248408e-01, -1.19072456e-01,  1.47803429e+00,  3.42129648e-01,\n",
              "       -2.21410376e-01, -2.87253472e-01,  2.17815078e+00, -1.31976758e+00,\n",
              "        7.87112777e-01, -1.56042540e+00, -2.09264819e-01, -3.71317335e-01,\n",
              "       -6.74082096e-01, -1.71100330e+00, -1.39764729e+00,  5.77669457e-01,\n",
              "       -1.11678685e+00, -1.34060619e+00, -1.10167518e+00, -6.43205935e-01,\n",
              "       -4.97826496e-01,  3.07076676e-01,  5.64665926e-01, -1.02494294e+00,\n",
              "       -9.68150106e-01, -2.19205744e+00,  1.35069403e+00,  1.28988641e+00,\n",
              "        1.20668891e+00,  2.14136976e+00,  7.21226449e-01, -1.26959039e+00,\n",
              "        1.09569477e+00,  1.22674505e+00,  6.08693752e-03, -2.91427030e-01,\n",
              "        1.91159825e-01, -1.18940529e-01,  1.74072601e-01, -5.69776440e-01,\n",
              "       -7.83595377e-01, -3.24710548e-02,  1.08789744e+00,  8.98547046e-01,\n",
              "        3.33128142e-01,  8.65205963e-01,  2.93118513e-02, -1.51145515e+00,\n",
              "       -1.05276957e-01,  8.54148696e-01, -8.64676952e-01, -1.08194904e+00,\n",
              "       -1.66816969e+00, -4.39553324e-01, -6.99869722e-02, -1.33451990e-01,\n",
              "        7.69744026e-01,  1.55071542e+00,  1.28529610e+00, -5.58755225e-01,\n",
              "        6.26737914e-01, -1.62184206e+00,  2.44702639e+00,  6.85735209e-01,\n",
              "        5.81381371e-01, -1.06889994e+00, -1.37297339e+00,  1.15430375e-01,\n",
              "       -5.12682834e-01,  6.43816879e-01,  9.68758600e-01, -1.15970538e+00,\n",
              "        3.10639718e-01,  2.96630084e+00, -1.95773128e+00, -3.42464030e-01,\n",
              "        4.33256143e-01,  1.06087927e+00, -1.16533589e+00, -3.95024134e-01,\n",
              "       -1.34215524e+00, -1.21755408e+00, -5.08565837e-01,  6.46034706e-01,\n",
              "        8.91213635e-01, -2.54207251e-01, -1.09909583e-01, -8.30662835e-01,\n",
              "        1.10419342e-01,  1.37480304e+00,  2.44301425e+00,  2.37115354e-01,\n",
              "        5.87142628e-01,  6.11120007e-01, -1.41098197e+00, -8.17760965e-01,\n",
              "       -9.78499666e-02, -1.41492230e-01,  3.35338623e-01,  3.46369549e-01,\n",
              "       -9.35133894e-02, -7.79008041e-01,  7.41135712e-01, -8.68960022e-01,\n",
              "       -7.93379637e-02,  1.99002021e+00, -3.20473279e-01, -9.62090022e-01,\n",
              "       -1.57723763e-01,  3.88639023e-01, -1.61758886e+00,  5.05514965e-01,\n",
              "       -1.10775264e+00,  2.29211657e+00,  1.52926928e+00, -6.08824044e-02,\n",
              "        1.96665995e-01,  6.27924531e-01,  1.15934164e+00,  9.22781808e-01,\n",
              "       -1.96121722e+00, -6.49765086e-04, -5.20619870e-01,  2.52785473e-01,\n",
              "       -9.73916798e-01, -1.09201946e+00,  7.21821771e-01, -1.54758202e+00,\n",
              "       -3.14786389e+00, -1.90404724e+00, -1.42150648e+00, -2.89915883e-01,\n",
              "        1.62623808e+00, -1.07942876e+00, -6.87829216e-01, -1.40629262e+00,\n",
              "        9.80622861e-01,  8.07300148e-01, -8.63558995e-03, -2.24862258e+00,\n",
              "       -3.62014538e-01, -6.31641043e-01, -6.09903331e-01, -8.35082906e-01,\n",
              "        1.37478090e+00,  7.77738644e-01,  2.46498437e-01, -1.15760156e+00,\n",
              "       -5.13901515e-01,  2.16848098e-01, -2.38242154e-01, -1.14593359e+00,\n",
              "       -1.75462890e+00, -7.16559437e-01,  1.57222495e-01, -4.60827149e-02,\n",
              "        1.75541317e+00,  1.30652925e-01,  1.05512435e+00,  1.01148062e+00,\n",
              "        1.27277325e+00, -2.44194579e-01, -1.59063416e+00, -4.34618638e-01,\n",
              "        1.00054142e-01,  9.58572306e-01, -1.18749268e+00,  4.37543075e-01,\n",
              "        2.02760383e-01, -3.49105457e-01,  3.70537442e-01,  7.49925449e-01,\n",
              "       -2.81687477e+00, -7.96335276e-01, -9.76461888e-01, -6.77032281e-01,\n",
              "       -1.53143845e+00,  3.66886250e-01,  4.80373449e-03,  1.44807679e+00,\n",
              "       -9.60492428e-01, -6.23142286e-01, -4.93417149e-01, -1.01533747e+00,\n",
              "       -2.85660024e-01, -1.60325148e-01, -5.74009095e-01, -1.76922395e+00,\n",
              "       -2.29588757e+00, -8.32055655e-01,  3.04040514e-01,  1.28531053e+00,\n",
              "        2.58017245e+00, -2.37282968e+00, -6.00090846e-01, -2.41292617e-01,\n",
              "        2.66002337e-01,  5.25569339e-01,  4.95863178e-01,  1.64678110e+00,\n",
              "       -2.52286876e-01,  6.62501459e-01, -4.63682517e-02,  4.12514720e-01,\n",
              "        3.57835216e-01,  4.46091649e-01, -1.03552808e-01,  7.67371734e-01,\n",
              "       -2.82283395e-01,  4.24155804e-01,  8.61542337e-01,  1.93017893e-01,\n",
              "       -6.49070873e-02,  7.34504306e-01, -2.32987471e-01, -6.62803137e-01,\n",
              "        2.30138824e-01,  3.92205571e-01,  1.29698112e+00,  1.12528256e+00,\n",
              "       -1.35119400e-01, -2.36175723e+00, -1.47358806e+00, -3.49086860e-02,\n",
              "        3.16910174e-01,  5.35740363e-01, -1.76803429e+00, -1.04348241e+00,\n",
              "        9.97415118e-01, -4.19901379e-01, -1.61719574e+00,  1.43933991e+00,\n",
              "       -8.31715024e-01,  4.73531074e-01,  6.26802517e-01, -5.59970592e-01,\n",
              "       -3.04374563e-01, -1.40610979e-01, -5.28194701e-01,  1.32236536e-01,\n",
              "        1.16459269e+00, -5.42558377e-01, -1.46715569e+00, -1.49620582e+00,\n",
              "        3.89924405e-01, -7.00666214e-02,  1.55210806e+00, -5.15325481e-01,\n",
              "        1.17154322e+00,  9.18317434e-01,  5.57201031e-01,  1.51824738e+00,\n",
              "       -4.12585208e-01,  5.14597708e-01,  5.76702505e-01, -1.32581002e+00,\n",
              "        9.50015803e-02,  1.21363060e+00, -1.76844247e-01,  6.82506216e-01,\n",
              "        1.28741276e+00, -1.68024931e+00, -9.20435070e-01, -1.72580161e+00,\n",
              "       -4.90758227e-01,  1.69445038e+00, -3.57827884e-02,  4.88211302e-02,\n",
              "        1.37725784e+00, -4.95332942e-01, -1.00527308e-01,  3.30252128e-01,\n",
              "       -2.13798433e-01,  6.33321425e-01, -3.22444178e-01,  4.15952993e-01,\n",
              "        3.36927023e-01,  1.54440629e+00,  1.70085791e+00, -5.73499240e-01,\n",
              "       -2.38972532e-01,  1.22473774e+00, -1.95205893e-02, -1.28286844e-01,\n",
              "       -3.63775021e-01, -1.32666620e+00,  2.17847833e+00,  8.31416199e-02,\n",
              "       -3.15963825e-01,  5.93811604e-01, -5.51508336e-01,  2.24433765e-01,\n",
              "       -6.87133143e-01, -2.27922766e-01, -1.30898422e+00,  1.04227767e+00,\n",
              "        1.88130530e+00, -4.21254413e-01, -8.36964335e-01,  2.43553288e-02,\n",
              "       -1.61589121e+00,  5.90481094e-03, -7.39176990e-02,  1.09458138e+00,\n",
              "        1.27473537e+00,  1.79805095e-01,  8.10930602e-01, -2.90558238e-01,\n",
              "       -3.91221726e-01, -1.49313321e+00, -2.02632259e+00,  4.42190907e-02,\n",
              "        1.95620009e-02, -9.45936446e-01,  1.55673693e+00,  1.12245422e+00,\n",
              "        7.15217668e-01, -1.57656107e-01, -2.19658976e+00,  2.67742002e-01,\n",
              "        2.32534497e-01,  2.22325109e-01, -5.32423886e-01, -2.03014523e+00,\n",
              "       -2.25877808e-01, -1.86582735e-01, -2.43871430e-01, -1.63482264e+00,\n",
              "        2.47958568e+00, -2.87117962e+00,  6.45912540e-01, -3.68888136e-01,\n",
              "        7.12378064e-01,  2.32895184e-01, -1.89162176e+00,  1.69534613e+00,\n",
              "        7.30249514e-01,  8.96592494e-01, -1.86472980e+00,  2.99436863e-01,\n",
              "       -3.96506853e-01, -4.80143763e-01,  1.49454964e+00,  1.27379039e+00,\n",
              "        3.96832795e-01,  1.00992983e+00,  9.64741129e-01, -6.75394670e-01,\n",
              "        1.16749278e-01,  1.94368005e+00,  8.71627379e-01, -3.66898237e-02,\n",
              "       -7.50026405e-01,  7.32983576e-01,  2.85423521e-01, -4.53210593e-02,\n",
              "       -1.99156503e+00, -3.99801558e-01,  1.52493098e-01, -8.25141321e-01,\n",
              "       -1.34084604e+00,  3.32486167e-01,  5.10394563e-01,  4.97746760e-01,\n",
              "        7.64393866e-01,  1.12132931e+00, -5.85878679e-01, -1.62674234e+00,\n",
              "       -1.28900110e+00,  4.61802615e-02, -6.71403789e-01,  2.11137258e-01,\n",
              "       -2.51736110e-01, -8.14157968e-02,  2.45850055e-01,  7.05924566e-02,\n",
              "       -1.20756091e-02, -8.42451215e-01, -8.71787439e-01, -2.53583062e+00,\n",
              "       -3.11598067e-02, -6.30344350e-01, -1.32888750e+00, -3.83737235e-01,\n",
              "       -2.17099852e+00,  6.66839966e-01, -4.09765483e-01,  1.64085813e+00,\n",
              "        1.30043470e-01,  6.23175633e-01, -1.23476517e+00,  9.84759694e-02,\n",
              "        1.15075900e+00,  2.64775285e+00, -7.58167875e-01,  1.29937913e+00,\n",
              "        1.58213444e+00,  2.44277749e+00,  1.43279910e+00, -2.86305897e-01,\n",
              "       -4.04499947e-01,  5.05886517e-01,  1.19473821e-01, -1.77034375e+00,\n",
              "        3.43061238e-01, -2.06775558e+00,  1.21071851e+00, -1.47859131e+00,\n",
              "       -8.08626680e-02, -1.44765694e+00,  1.93339322e+00,  5.68022005e-01,\n",
              "        6.66057109e-01,  1.49590867e+00, -5.54990658e-01, -1.49386099e+00,\n",
              "       -1.23959985e-01,  5.28404768e-01,  4.54728525e-01, -6.28535545e-01,\n",
              "       -1.58466160e+00, -1.73914102e+00, -1.24008599e+00,  9.46429062e-01,\n",
              "       -5.42701268e-01, -4.21413732e-01,  6.72168323e-01, -1.81193821e+00,\n",
              "       -1.64900116e+00, -9.68783313e-01,  3.23016236e-01, -1.13777253e+00,\n",
              "       -6.01449062e-01, -9.28020960e-01, -1.32625820e-01, -3.63178986e-02,\n",
              "       -1.25470310e+00,  9.10158464e-01, -6.95694126e-01,  2.11320467e+00,\n",
              "        2.79935731e-01, -4.96951218e-01,  1.31498731e-01,  2.93956874e-01,\n",
              "       -3.30214947e-01, -1.72029117e+00, -1.12616699e+00,  3.60922741e-01,\n",
              "       -1.17227795e+00,  8.27689049e-01, -1.03988381e+00,  7.22795117e-01,\n",
              "        1.66793993e+00, -1.29789351e+00,  1.46927565e+00,  1.58252357e+00,\n",
              "        7.50034787e-01,  2.34378262e-03,  5.00093705e-01,  2.10917296e-01,\n",
              "        4.12112313e-01, -9.48549839e-01,  4.68218341e-01,  1.29241603e+00,\n",
              "       -1.32684223e-01,  8.01655243e-01, -2.01799878e-01,  1.17130675e-01,\n",
              "       -9.01943231e-01, -1.83823697e+00, -1.22119210e+00, -4.34920914e-01,\n",
              "       -4.95301949e-01,  1.15116859e+00,  5.35951247e-01, -3.26646303e-01,\n",
              "       -5.57019315e-01, -1.15880154e+00, -1.74518304e+00,  1.94464022e+00,\n",
              "        2.48389462e+00, -3.61070926e-01, -3.57705976e-01, -5.84388173e-01,\n",
              "       -1.73243996e+00, -2.35561764e-01, -3.86371945e-01, -4.15298885e-01,\n",
              "        1.42394037e-02, -8.32787182e-01,  2.10443805e+00,  3.64381551e-01,\n",
              "       -1.66464474e+00, -1.22104544e+00, -2.57521596e+00, -4.21216373e-01,\n",
              "       -1.01553826e+00,  9.44871796e-01,  1.31987257e+00, -5.77855414e-02,\n",
              "       -6.40286736e-01,  2.43746099e+00,  2.45643189e-01, -2.01036478e+00,\n",
              "        2.48419601e-01,  1.00883902e+00, -3.46404506e-01,  3.91338418e-01,\n",
              "       -3.10891895e-01,  6.77614105e-03,  1.07365334e+00,  4.42917245e-01,\n",
              "        4.05148194e-01, -3.71266817e-01,  1.23874622e+00, -6.39399756e-01,\n",
              "       -1.18622535e+00,  3.38811385e-02, -1.74259285e-01, -9.55343405e-01,\n",
              "        5.31146876e-01,  9.60150427e-02, -5.61913211e-01, -3.88674282e-01,\n",
              "       -1.39180704e+00,  1.00363881e+00, -1.15717411e+00,  1.84063089e+00,\n",
              "        5.87943322e-01,  7.19160366e-01, -2.03502558e-01,  4.76470792e-01,\n",
              "       -1.21555574e+00, -2.00810247e+00,  1.16056756e+00,  1.65996297e+00,\n",
              "        1.23343577e+00, -2.59354089e-01, -1.19037331e+00,  4.62596495e-01,\n",
              "       -6.59817674e-01,  9.10682323e-01,  1.84042470e-01, -4.50104959e-01,\n",
              "       -5.99262018e-01,  1.02017111e+00, -2.66174654e+00,  1.40737691e+00,\n",
              "       -8.01556899e-01, -1.87116578e+00,  2.26849206e-02,  2.21820658e-01,\n",
              "        3.80113865e-01, -2.60087128e+00, -2.24469409e+00, -5.80507137e-01,\n",
              "        1.29324201e-01,  1.82730298e-01, -1.06884750e+00,  2.50702291e-01,\n",
              "        2.89507265e+00, -1.50595339e+00, -5.80475581e-01, -1.03794271e+00,\n",
              "        1.31506517e+00,  3.24285756e-02,  1.56503971e-01,  7.01346361e-01,\n",
              "        6.00921349e-01, -1.00372018e+00,  7.78825762e-01,  5.62397240e-01,\n",
              "        1.17817538e-02,  4.95093291e-01, -2.88190839e-01, -1.28556626e+00,\n",
              "       -9.90051173e-01,  4.81290696e-01,  3.75209741e-01,  1.29008317e+00,\n",
              "        9.33030239e-01,  2.32948697e-01, -7.15716621e-01, -1.49112790e+00,\n",
              "       -7.15632344e-01,  2.53662468e+00, -5.35327542e-01, -9.39722701e-01,\n",
              "       -1.16452297e-01, -1.83030049e+00, -1.25666430e+00, -2.05660512e+00,\n",
              "        2.22955526e+00, -4.83121466e-01, -1.76840842e-01, -1.34658822e+00,\n",
              "       -5.78895849e-01, -4.25296146e-02, -3.32356016e-01, -4.17158660e-01,\n",
              "       -3.44723049e-01, -1.06296449e-01, -2.14846191e-01, -1.05698532e+00,\n",
              "       -1.23106928e+00, -9.81694073e-01,  1.06867708e+00, -7.62467507e-01,\n",
              "        6.37709318e-01,  1.49124597e+00, -5.90377843e-01, -6.40508353e-01,\n",
              "        7.78198779e-01,  2.67992311e+00, -2.98929469e-01,  4.46216076e-01,\n",
              "       -5.77425307e-02, -7.86989322e-01, -3.33781140e-01,  7.60293644e-01,\n",
              "        1.26854559e+00,  9.39868460e-01,  2.46664837e-01, -5.42837463e-01,\n",
              "       -9.77608998e-02, -2.33365248e-03,  4.94450724e-01,  4.97049921e-01,\n",
              "       -7.36123452e-01, -6.78118272e-01, -1.59458801e-02,  3.25151015e-03,\n",
              "        6.46340965e-01,  2.32985900e-01, -6.40298195e-01,  1.69842449e+00,\n",
              "        1.46202021e+00,  6.34502154e-01,  1.93732567e+00,  3.27853882e-01,\n",
              "       -3.13792383e-01,  3.47297931e-01, -1.55502163e+00, -9.90591107e-01,\n",
              "        5.68944706e-01,  1.51930852e+00, -1.08616995e+00,  1.00448372e+00,\n",
              "       -2.51164403e-01,  3.15118779e-01, -3.87578551e-01, -9.05906773e-01,\n",
              "        1.39498297e+00, -3.06331063e-01, -1.01031088e-01, -3.49468649e-03,\n",
              "       -4.61817822e-02,  5.28160427e-01, -1.10914929e+00,  5.50367106e-02,\n",
              "       -9.95457718e-01, -1.03593764e+00, -7.37301739e-01, -2.18536800e-01,\n",
              "       -1.26814410e+00,  2.37608854e+00,  1.95691032e-01,  3.75335172e-01,\n",
              "       -2.10890986e-02, -1.19844860e+00,  1.12211837e+00, -5.73856638e-01,\n",
              "        3.31889988e-01,  7.03119112e-01,  1.18675182e+00, -3.43672755e-02,\n",
              "       -1.18939508e+00, -4.00997238e-01, -2.29245147e-01,  2.64913188e-02,\n",
              "        2.12944270e-01,  2.20716559e-01, -5.88175207e-01, -6.61528888e-01,\n",
              "        1.66595417e+00,  1.38654556e+00,  7.83448844e-01, -5.56171981e-02,\n",
              "        8.09987520e-01, -2.74065699e-01,  1.51970336e-01, -8.91076282e-01,\n",
              "        9.06735330e-01, -6.50656993e-01,  1.14947521e+00, -2.73746015e-01,\n",
              "       -2.04179370e-01, -1.68369742e-01,  2.06158740e-01, -1.16457607e+00,\n",
              "        1.00697053e+00,  1.92691542e+00, -2.22728188e-01,  4.08541473e-01,\n",
              "       -1.04954446e+00, -7.85383191e-01,  1.23858502e+00,  4.70188485e-02,\n",
              "       -1.80325762e+00, -1.43356167e+00,  3.93455729e-01, -1.45533625e+00,\n",
              "       -3.97568017e-01,  4.14742137e-01,  1.30526181e-01, -1.06269880e+00,\n",
              "       -4.95459149e-01,  4.65818163e-01,  3.25383641e-01,  2.55337694e-01,\n",
              "        1.14900066e+00,  1.83196256e-02,  7.99380575e-02,  5.51341378e-02,\n",
              "        7.44556018e-02,  1.74558523e+00, -9.89766801e-01, -3.42245965e-02,\n",
              "        1.76570495e+00, -3.72737854e-01, -2.02564019e-01, -1.67860221e+00,\n",
              "        1.84639694e+00,  4.67361353e-01, -1.33819918e+00, -3.76198364e-01,\n",
              "       -1.48124655e-01,  1.91615220e+00, -2.40630683e-01,  9.25342886e-01,\n",
              "        4.84847357e-01,  7.96964473e-01, -1.00688594e+00, -6.84809157e-01,\n",
              "       -1.12351426e-01,  7.47477691e-01,  5.03630338e-01,  2.63162994e-01,\n",
              "       -2.01776324e-01,  4.18817759e-01, -2.03870593e-01,  1.70478347e+00,\n",
              "        1.20059736e+00, -1.61740768e-01, -1.78110120e-01,  1.03720529e+00,\n",
              "       -4.20264518e-01,  6.62652299e-01,  1.61738762e+00,  3.02456881e-01,\n",
              "        3.65763968e-03, -7.32380409e-02, -1.43081773e+00,  1.29335701e+00,\n",
              "        1.23571149e-01, -1.19550937e+00,  1.52938822e-01, -5.56993741e-01,\n",
              "       -1.93938728e-01, -1.74251443e+00,  8.13051104e-01,  6.31073553e-01,\n",
              "        4.12351758e-01, -9.80144930e-01, -2.99627962e-01,  3.05971317e-01,\n",
              "        1.72002690e-01,  7.05757265e-01, -1.49377921e-01, -1.21040502e+00,\n",
              "        2.72238705e-01, -1.39386985e+00,  4.95783204e-02, -1.06039968e-01,\n",
              "        7.01959744e-01, -3.84519060e-02,  5.68294281e-01, -1.16152354e+00,\n",
              "        1.33460935e+00,  1.55930922e+00, -1.79166950e-01,  8.97933758e-02,\n",
              "       -7.53866772e-01,  4.59596150e-01, -5.27357880e-01,  8.32833601e-01,\n",
              "        1.54715997e-01, -2.67082906e-01, -1.48573723e+00, -1.87513026e+00,\n",
              "       -7.06725092e-01, -1.73929573e+00, -1.00311281e+00, -6.65240840e-01,\n",
              "        3.37894657e-01,  5.53169244e-01,  1.85387740e+00,  1.02110121e+00,\n",
              "       -1.25272482e+00, -4.92651766e-01, -1.10294431e+00, -7.46265149e-01,\n",
              "       -4.80938978e-01,  9.94302340e-01,  2.04090200e+00,  7.41950851e-01,\n",
              "        1.16397143e-01, -5.00153711e-01,  9.61550659e-01, -2.59452634e+00,\n",
              "       -4.07381616e-01, -7.23267168e-01, -1.42574678e+00, -6.02794009e-01,\n",
              "       -1.82052914e+00, -6.73205577e-01,  1.39181252e+00,  6.02011084e-01,\n",
              "        2.09869763e+00, -4.97895939e-01,  1.95145882e+00, -2.46699031e-01,\n",
              "        4.18833069e-01,  2.08171241e-01,  2.02633938e-01,  5.35646987e-01,\n",
              "        4.65010210e-01, -3.83096873e-01, -4.84841472e-01,  1.25243124e+00,\n",
              "        1.08524315e-01, -2.41759032e-01, -1.34465422e+00,  5.73417660e-01,\n",
              "        1.89973451e-01, -1.31969712e+00,  4.45886931e-01, -2.67343842e-01,\n",
              "        1.61831818e-01, -4.05748149e-01,  2.03254084e-01, -3.10907623e-01,\n",
              "        3.78980643e-01,  3.49816764e-01,  4.10553570e-02,  1.19780244e+00,\n",
              "        7.46965384e-01,  5.61415936e-01,  2.07394737e-01, -2.27508434e+00,\n",
              "        1.38855627e+00, -4.44734555e-01,  2.88789481e-01, -1.65283124e+00,\n",
              "        5.62944535e-01, -5.15243478e-01, -1.99443714e+00,  1.55848941e+00,\n",
              "       -4.90735070e-01,  9.59358973e-01,  6.74184633e-01,  6.82820651e-01,\n",
              "        2.64300548e-01,  5.34366754e-01,  1.62690256e+00,  7.83104027e-01,\n",
              "       -7.08096526e-01,  1.01985819e+00, -8.96176349e-01,  1.74008836e-01,\n",
              "       -1.93474117e+00,  2.79541354e-02, -3.56005276e-01,  5.58038509e-01,\n",
              "        1.27845204e+00, -1.94374100e-01, -8.57628305e-01,  1.15817201e-01,\n",
              "       -1.49509802e-01,  6.52616449e-01,  1.99576987e+00, -7.90586002e-02,\n",
              "        1.12703482e+00,  3.89079780e-01,  1.03629276e-01,  1.73437897e+00,\n",
              "       -1.05017368e+00, -8.33798779e-02, -1.63166750e+00,  8.01539195e-02,\n",
              "       -1.33961545e+00, -2.07791205e+00,  4.20988866e-01, -4.17948906e-01,\n",
              "       -3.28221781e-01, -1.54725210e+00, -2.07784542e+00,  2.05096501e+00,\n",
              "       -1.33546424e+00,  9.81913390e-01,  9.84700519e-05,  8.88573591e-01,\n",
              "       -1.63642285e-02,  1.53820274e+00,  1.90540841e-01, -1.49512466e+00,\n",
              "        3.97012367e-01, -1.27969392e-01,  4.31282219e-01,  1.14498078e-01,\n",
              "       -1.22973771e+00,  8.72925832e-01, -8.47783405e-02,  3.51149371e-01,\n",
              "        1.01503042e+00, -1.96350053e-01, -1.66209089e+00, -8.63829222e-01,\n",
              "        7.20165853e-01,  4.69851821e-01, -8.92235651e-02, -1.33594858e-01,\n",
              "       -2.76927762e-01,  5.36276292e-01, -6.46959232e-02, -8.04711675e-01])"
            ]
          },
          "metadata": {},
          "execution_count": 129
        }
      ]
    },
    {
      "cell_type": "markdown",
      "source": [
        "Conditional Indexing in an Arrays\n"
      ],
      "metadata": {
        "id": "gI-J23LmZDEK"
      }
    },
    {
      "cell_type": "code",
      "source": [
        "arr1D = np.array([1,2,3,4,5,6,7,8,10])\n",
        "print(arr1D)"
      ],
      "metadata": {
        "colab": {
          "base_uri": "https://localhost:8080/"
        },
        "id": "a4usWK5SZHm9",
        "outputId": "b5632c0e-cf6e-4fe3-f901-8a38b21158a7"
      },
      "execution_count": null,
      "outputs": [
        {
          "output_type": "stream",
          "name": "stdout",
          "text": [
            "[ 1  2  3  4  5  6  7  8 10]\n"
          ]
        }
      ]
    },
    {
      "cell_type": "code",
      "source": [
        "np.greater(arr1D,5)"
      ],
      "metadata": {
        "colab": {
          "base_uri": "https://localhost:8080/"
        },
        "id": "6FHEM5tN7XTA",
        "outputId": "dc4b902d-e35c-4ec2-cf54-dc165e02b077"
      },
      "execution_count": null,
      "outputs": [
        {
          "output_type": "execute_result",
          "data": {
            "text/plain": [
              "array([False, False, False, False, False,  True,  True,  True,  True])"
            ]
          },
          "metadata": {},
          "execution_count": 131
        }
      ]
    },
    {
      "cell_type": "code",
      "source": [
        "arr1D>5"
      ],
      "metadata": {
        "colab": {
          "base_uri": "https://localhost:8080/"
        },
        "id": "BNtjOfus7lsi",
        "outputId": "ea5da42c-9ea8-48b1-fc48-36d3a0a3f7ce"
      },
      "execution_count": null,
      "outputs": [
        {
          "output_type": "execute_result",
          "data": {
            "text/plain": [
              "array([False, False, False, False, False,  True,  True,  True,  True])"
            ]
          },
          "metadata": {},
          "execution_count": 132
        }
      ]
    },
    {
      "cell_type": "code",
      "source": [
        "print(arr1D>5)"
      ],
      "metadata": {
        "colab": {
          "base_uri": "https://localhost:8080/"
        },
        "id": "MD3360MSZCIg",
        "outputId": "820d4fad-e5d8-42af-8d4c-9b1076a9d000"
      },
      "execution_count": null,
      "outputs": [
        {
          "output_type": "stream",
          "name": "stdout",
          "text": [
            "[False False False False False  True  True  True  True]\n"
          ]
        }
      ]
    },
    {
      "cell_type": "code",
      "source": [
        "arr1D[arr1D>5]"
      ],
      "metadata": {
        "colab": {
          "base_uri": "https://localhost:8080/"
        },
        "id": "Sd5b-eLGZaee",
        "outputId": "5d20d1bd-896a-433f-a66e-6efc182c61ae"
      },
      "execution_count": null,
      "outputs": [
        {
          "output_type": "execute_result",
          "data": {
            "text/plain": [
              "array([ 6,  7,  8, 10])"
            ]
          },
          "metadata": {},
          "execution_count": 142
        }
      ]
    },
    {
      "cell_type": "markdown",
      "source": [
        "Array BroadCasting"
      ],
      "metadata": {
        "id": "6o_I6nfjZ4DS"
      }
    },
    {
      "cell_type": "code",
      "source": [
        "arr2d = np.arange(1,13).reshape(4,3)\n",
        "arr2d"
      ],
      "metadata": {
        "colab": {
          "base_uri": "https://localhost:8080/"
        },
        "id": "LBMZZ4W9Z5sv",
        "outputId": "086125e7-9bfe-466c-9c0e-5f66a3f6f192"
      },
      "execution_count": null,
      "outputs": [
        {
          "output_type": "execute_result",
          "data": {
            "text/plain": [
              "array([[ 1,  2,  3],\n",
              "       [ 4,  5,  6],\n",
              "       [ 7,  8,  9],\n",
              "       [10, 11, 12]])"
            ]
          },
          "metadata": {},
          "execution_count": 136
        }
      ]
    },
    {
      "cell_type": "code",
      "source": [
        "num=5\n",
        "arr0d = np.array(num)\n",
        "arr0d"
      ],
      "metadata": {
        "colab": {
          "base_uri": "https://localhost:8080/"
        },
        "id": "9mnceMrzaJ5I",
        "outputId": "253089d3-ca46-42c8-8428-f00f6f1442ff"
      },
      "execution_count": null,
      "outputs": [
        {
          "output_type": "execute_result",
          "data": {
            "text/plain": [
              "array(5)"
            ]
          },
          "metadata": {},
          "execution_count": 137
        }
      ]
    },
    {
      "cell_type": "code",
      "source": [
        "arr2d +arr0d"
      ],
      "metadata": {
        "colab": {
          "base_uri": "https://localhost:8080/"
        },
        "id": "i1yB43yvaL3Z",
        "outputId": "f2cd145a-aab1-4de1-c144-22db9e89ae87"
      },
      "execution_count": null,
      "outputs": [
        {
          "output_type": "execute_result",
          "data": {
            "text/plain": [
              "array([[ 6,  7,  8],\n",
              "       [ 9, 10, 11],\n",
              "       [12, 13, 14],\n",
              "       [15, 16, 17]])"
            ]
          },
          "metadata": {},
          "execution_count": 138
        }
      ]
    },
    {
      "cell_type": "code",
      "source": [
        "arr1d = np.array([1,2,3]) # Default shape is (3,) --> means single row 3 cols.\n",
        "arr1d1 = np.array([1,2,3,4])"
      ],
      "metadata": {
        "id": "cjgZjm3naTZV"
      },
      "execution_count": null,
      "outputs": []
    },
    {
      "cell_type": "code",
      "source": [
        "arr2d + arr1d"
      ],
      "metadata": {
        "colab": {
          "base_uri": "https://localhost:8080/"
        },
        "id": "B-TdTIBSaiiF",
        "outputId": "5d24a36c-7094-4aee-daad-7a4af3955ea1"
      },
      "execution_count": null,
      "outputs": [
        {
          "output_type": "execute_result",
          "data": {
            "text/plain": [
              "array([[ 2,  4,  6],\n",
              "       [ 5,  7,  9],\n",
              "       [ 8, 10, 12],\n",
              "       [11, 13, 15]])"
            ]
          },
          "metadata": {},
          "execution_count": 139
        }
      ]
    },
    {
      "cell_type": "code",
      "source": [
        "#arr2d + arr1d1\n",
        "#no. of columns of 1d array shall be equal\n",
        "#to that of the main array for broadcasting."
      ],
      "metadata": {
        "colab": {
          "base_uri": "https://localhost:8080/",
          "height": 176
        },
        "id": "E6rCm885ak-l",
        "outputId": "7951eef7-c8cf-4165-849e-6072138bb806"
      },
      "execution_count": null,
      "outputs": [
        {
          "output_type": "error",
          "ename": "ValueError",
          "evalue": "operands could not be broadcast together with shapes (4,3) (4,) ",
          "traceback": [
            "\u001b[0;31m---------------------------------------------------------------------------\u001b[0m",
            "\u001b[0;31mValueError\u001b[0m                                Traceback (most recent call last)",
            "\u001b[0;32m/tmp/ipython-input-2851614615.py\u001b[0m in \u001b[0;36m<cell line: 0>\u001b[0;34m()\u001b[0m\n\u001b[0;32m----> 1\u001b[0;31m \u001b[0marr2d\u001b[0m \u001b[0;34m+\u001b[0m \u001b[0marr1d1\u001b[0m\u001b[0;34m\u001b[0m\u001b[0;34m\u001b[0m\u001b[0m\n\u001b[0m\u001b[1;32m      2\u001b[0m \u001b[0;31m#no. of columns of 1d array shall be equal\u001b[0m\u001b[0;34m\u001b[0m\u001b[0;34m\u001b[0m\u001b[0m\n\u001b[1;32m      3\u001b[0m \u001b[0;31m#to that of the main array for broadcasting.\u001b[0m\u001b[0;34m\u001b[0m\u001b[0;34m\u001b[0m\u001b[0m\n",
            "\u001b[0;31mValueError\u001b[0m: operands could not be broadcast together with shapes (4,3) (4,) "
          ]
        }
      ]
    },
    {
      "cell_type": "code",
      "source": [
        "arr = np.array([1,2,3,4,5,6,7,8,9,10])\n",
        "max(arr) # Similarly we can get min"
      ],
      "metadata": {
        "colab": {
          "base_uri": "https://localhost:8080/"
        },
        "id": "b60LAYulcUme",
        "outputId": "586eb0fb-1ada-404d-f34f-a8392caa882d"
      },
      "execution_count": null,
      "outputs": [
        {
          "output_type": "execute_result",
          "data": {
            "text/plain": [
              "np.int64(10)"
            ]
          },
          "metadata": {},
          "execution_count": 158
        }
      ]
    },
    {
      "cell_type": "code",
      "source": [
        "#argmax()\n",
        "arr.argmax() # RETURNS THE INDEX OF THE LARGEST NUMBER IN THE ARRAY."
      ],
      "metadata": {
        "colab": {
          "base_uri": "https://localhost:8080/"
        },
        "id": "K2j459jycnl5",
        "outputId": "c867769d-693f-4a94-9904-1d97d23939e2"
      },
      "execution_count": null,
      "outputs": [
        {
          "output_type": "execute_result",
          "data": {
            "text/plain": [
              "np.int64(9)"
            ]
          },
          "metadata": {},
          "execution_count": 159
        }
      ]
    },
    {
      "cell_type": "code",
      "source": [
        "# Try out other functions like , np.sqrt(), np.exp(),"
      ],
      "metadata": {
        "id": "vsSEATIScvvi"
      },
      "execution_count": null,
      "outputs": []
    },
    {
      "cell_type": "code",
      "source": [
        "\n",
        "arr_x = np.array([[1,2,3,4], [5,6,7,8]])\n",
        "arr_y = np.array([[21,22,23,24], [25,26,27,28]])\n"
      ],
      "metadata": {
        "id": "LG8q0SNldH1F"
      },
      "execution_count": null,
      "outputs": []
    },
    {
      "cell_type": "code",
      "source": [
        "np.add(arr_x, arr_y)"
      ],
      "metadata": {
        "colab": {
          "base_uri": "https://localhost:8080/"
        },
        "id": "LqzKCmjpdeXK",
        "outputId": "2e3ba989-22e4-453a-f90f-a20fbf1f9a09"
      },
      "execution_count": null,
      "outputs": [
        {
          "output_type": "execute_result",
          "data": {
            "text/plain": [
              "array([[22, 24, 26, 28],\n",
              "       [30, 32, 34, 36]])"
            ]
          },
          "metadata": {},
          "execution_count": 161
        }
      ]
    },
    {
      "cell_type": "code",
      "source": [
        "#Concetanation\n",
        "arr_z = np.concatenate((arr_x, arr_y), axis=1) # No of columns will increase //column wise concetanation"
      ],
      "metadata": {
        "id": "wOLvdT8GdlGT"
      },
      "execution_count": null,
      "outputs": []
    },
    {
      "cell_type": "code",
      "source": [
        "arr_z"
      ],
      "metadata": {
        "colab": {
          "base_uri": "https://localhost:8080/"
        },
        "id": "HGiv6Kw2d2fk",
        "outputId": "f10d183f-b362-49dc-df9f-47d3812839bd"
      },
      "execution_count": null,
      "outputs": [
        {
          "output_type": "execute_result",
          "data": {
            "text/plain": [
              "array([[ 1,  2,  3,  4, 21, 22, 23, 24],\n",
              "       [ 5,  6,  7,  8, 25, 26, 27, 28]])"
            ]
          },
          "metadata": {},
          "execution_count": 165
        }
      ]
    },
    {
      "cell_type": "code",
      "source": [
        "arr_a = np.concatenate((arr_x, arr_y), axis=0) # no of rows will increase. # row wise concetanation\n",
        "arr_a"
      ],
      "metadata": {
        "colab": {
          "base_uri": "https://localhost:8080/"
        },
        "id": "ScIltzg7eAad",
        "outputId": "ad70010c-dbbc-4f73-9733-943c4985847e"
      },
      "execution_count": null,
      "outputs": [
        {
          "output_type": "execute_result",
          "data": {
            "text/plain": [
              "array([[ 1,  2,  3,  4],\n",
              "       [ 5,  6,  7,  8],\n",
              "       [21, 22, 23, 24],\n",
              "       [25, 26, 27, 28]])"
            ]
          },
          "metadata": {},
          "execution_count": 166
        }
      ]
    },
    {
      "cell_type": "code",
      "source": [
        "######Horizontal Split and Vertical Split######"
      ],
      "metadata": {
        "id": "h4Fa0T2Tf2OD"
      },
      "execution_count": null,
      "outputs": []
    },
    {
      "cell_type": "code",
      "source": [
        "arr_z"
      ],
      "metadata": {
        "colab": {
          "base_uri": "https://localhost:8080/"
        },
        "id": "IAi7L9vfgDg2",
        "outputId": "6ca54637-dbf3-43c1-cd49-2b07ceafa52c"
      },
      "execution_count": null,
      "outputs": [
        {
          "output_type": "execute_result",
          "data": {
            "text/plain": [
              "array([[ 1,  2,  3,  4, 21, 22, 23, 24],\n",
              "       [ 5,  6,  7,  8, 25, 26, 27, 28]])"
            ]
          },
          "metadata": {},
          "execution_count": 143
        }
      ]
    },
    {
      "cell_type": "code",
      "source": [
        "arr_h_split = np.hsplit(arr_z, 2)\n",
        "arr_h_split\n"
      ],
      "metadata": {
        "colab": {
          "base_uri": "https://localhost:8080/"
        },
        "id": "H9tYJgVYgIne",
        "outputId": "5a9723b7-bc82-4970-e05b-138ee03c52ef"
      },
      "execution_count": null,
      "outputs": [
        {
          "output_type": "execute_result",
          "data": {
            "text/plain": [
              "[array([[1, 2, 3, 4],\n",
              "        [5, 6, 7, 8]]),\n",
              " array([[21, 22, 23, 24],\n",
              "        [25, 26, 27, 28]])]"
            ]
          },
          "metadata": {},
          "execution_count": 144
        }
      ]
    },
    {
      "cell_type": "code",
      "source": [
        "arr_h_split[1]"
      ],
      "metadata": {
        "colab": {
          "base_uri": "https://localhost:8080/"
        },
        "id": "e_wQ_cNY-VQ1",
        "outputId": "d6f472bf-4058-45de-ec20-9b71fd85b4ab"
      },
      "execution_count": null,
      "outputs": [
        {
          "output_type": "execute_result",
          "data": {
            "text/plain": [
              "array([[21, 22, 23, 24],\n",
              "       [25, 26, 27, 28]])"
            ]
          },
          "metadata": {},
          "execution_count": 147
        }
      ]
    },
    {
      "cell_type": "code",
      "source": [
        "arr_h_split[1]"
      ],
      "metadata": {
        "colab": {
          "base_uri": "https://localhost:8080/"
        },
        "id": "vdXFwzKYg5WO",
        "outputId": "0c57d433-c00e-4aff-ff0b-0399411b6faf"
      },
      "execution_count": null,
      "outputs": [
        {
          "output_type": "execute_result",
          "data": {
            "text/plain": [
              "array([[21, 22, 23, 24],\n",
              "       [25, 26, 27, 28]])"
            ]
          },
          "metadata": {},
          "execution_count": 175
        }
      ]
    },
    {
      "cell_type": "code",
      "source": [
        "arr_v_split = np.vsplit(arr_z,2)\n",
        "arr_v_split"
      ],
      "metadata": {
        "colab": {
          "base_uri": "https://localhost:8080/"
        },
        "id": "mdo596N2hCbt",
        "outputId": "ccdd9549-1967-438a-d4e0-08c4206489f2"
      },
      "execution_count": null,
      "outputs": [
        {
          "output_type": "execute_result",
          "data": {
            "text/plain": [
              "[array([[ 1,  2,  3,  4, 21, 22, 23, 24]]),\n",
              " array([[ 5,  6,  7,  8, 25, 26, 27, 28]])]"
            ]
          },
          "metadata": {},
          "execution_count": 148
        }
      ]
    },
    {
      "cell_type": "code",
      "source": [
        "arr_v_split[0]"
      ],
      "metadata": {
        "colab": {
          "base_uri": "https://localhost:8080/"
        },
        "id": "-xsY9TGfhVvb",
        "outputId": "5f37dff4-13c4-408e-da45-d8ef07eac9b1"
      },
      "execution_count": null,
      "outputs": [
        {
          "output_type": "execute_result",
          "data": {
            "text/plain": [
              "array([[ 1,  2,  3,  4, 21, 22, 23, 24]])"
            ]
          },
          "metadata": {},
          "execution_count": 178
        }
      ]
    },
    {
      "cell_type": "markdown",
      "source": [
        "**Conclusion:**\n",
        "Numpy is open source add on module to Python.\n",
        "\n",
        "By using NumPy you can speed up your workflow and interface with other packages in the Python ecosystem that use NumPy under the hood.\n",
        "\n",
        "A growing plethora of scientific and mathematical Python-based packages are using NumPy arrays; though these typically support Python-sequence input, they convert such input to NumPy arrays prior to processing, and they often output NumPy arrays.\n",
        "\n",
        "It provide common mathematical and numerical routines in pre-compiled, fast functions.\n",
        "\n",
        "It provides basic routines for manipulating large arrays and matrices of numeric data.\n",
        "\n",
        "**Key Features**\n",
        "NumPy arrays have a fixed size decided at the time of creation. Changing the size of an ndarray will create a new array and delete the original.\n",
        "\n",
        "The elements in a NumPy array are all required to be of the same data type, and thus will be the same size in memory.\n",
        "\n",
        "NumPy arrays facilitate advanced mathematical and other types of operations on large numbers of data."
      ],
      "metadata": {
        "id": "ZfTrNAhyhj2P"
      }
    }
  ]
}