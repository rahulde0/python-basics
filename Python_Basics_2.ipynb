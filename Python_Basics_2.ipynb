{
  "nbformat": 4,
  "nbformat_minor": 0,
  "metadata": {
    "colab": {
      "provenance": [],
      "authorship_tag": "ABX9TyN3kPwfzNCDBlc/N6TwpfQ4",
      "include_colab_link": true
    },
    "kernelspec": {
      "name": "python3",
      "display_name": "Python 3"
    },
    "language_info": {
      "name": "python"
    }
  },
  "cells": [
    {
      "cell_type": "markdown",
      "metadata": {
        "id": "view-in-github",
        "colab_type": "text"
      },
      "source": [
        "<a href=\"https://colab.research.google.com/github/rahulde0/python-basics/blob/main/Python_Basics_2.ipynb\" target=\"_parent\"><img src=\"https://colab.research.google.com/assets/colab-badge.svg\" alt=\"Open In Colab\"/></a>"
      ]
    },
    {
      "cell_type": "markdown",
      "source": [
        "# Python Statement - Singleline and Multiline Statement"
      ],
      "metadata": {
        "id": "T9An2B37U7S6"
      }
    },
    {
      "cell_type": "code",
      "source": [
        "number=10 # Single Line Statement\n",
        "print(number)"
      ],
      "metadata": {
        "colab": {
          "base_uri": "https://localhost:8080/"
        },
        "id": "ddiyC6o8VLj2",
        "outputId": "53c43932-39c1-4e0d-c1da-ea39769ff1a4"
      },
      "execution_count": 1,
      "outputs": [
        {
          "output_type": "stream",
          "name": "stdout",
          "text": [
            "10\n"
          ]
        }
      ]
    },
    {
      "cell_type": "code",
      "source": [
        "# Multiline Statement - use a continuation character \\\n",
        "\n",
        "number=10+20+30+ \\\n",
        "40+50+60+ \\\n",
        "70+80+90\n",
        "print(number)"
      ],
      "metadata": {
        "colab": {
          "base_uri": "https://localhost:8080/"
        },
        "id": "WLlxqDU1VfLz",
        "outputId": "1f3594c0-1815-4525-9f70-4ed3297e9029"
      },
      "execution_count": 2,
      "outputs": [
        {
          "output_type": "stream",
          "name": "stdout",
          "text": [
            "450\n"
          ]
        }
      ]
    },
    {
      "cell_type": "code",
      "source": [
        "# Use of Brackets to implement multiline statement\n",
        "number=(10+20+30+\n",
        "       40+50+60+\n",
        "       70+80+90)\n",
        "print(number)"
      ],
      "metadata": {
        "colab": {
          "base_uri": "https://localhost:8080/"
        },
        "id": "8evK9z6VVrGU",
        "outputId": "fa984c47-43cc-44f8-c21d-c6ef93e76e7b"
      },
      "execution_count": 3,
      "outputs": [
        {
          "output_type": "stream",
          "name": "stdout",
          "text": [
            "450\n"
          ]
        }
      ]
    },
    {
      "cell_type": "markdown",
      "source": [
        "# Python Strings\n",
        "String is a sequence of Unicode character. We represent String using '' or \"\".\n",
        "Multiline strings are denoted using\"\"."
      ],
      "metadata": {
        "id": "Fi0N_tfdV3jk"
      }
    },
    {
      "cell_type": "code",
      "source": [
        "stringVariable = \"Welcome to Python Programming\"\n",
        "print(stringVariable)"
      ],
      "metadata": {
        "colab": {
          "base_uri": "https://localhost:8080/"
        },
        "id": "qmdDiiaWV72s",
        "outputId": "32cfa09a-5f05-47c5-84d4-5572c378d08e"
      },
      "execution_count": 4,
      "outputs": [
        {
          "output_type": "stream",
          "name": "stdout",
          "text": [
            "Welcome to Python Programming\n"
          ]
        }
      ]
    },
    {
      "cell_type": "code",
      "source": [
        "stringVariable[0]"
      ],
      "metadata": {
        "colab": {
          "base_uri": "https://localhost:8080/",
          "height": 35
        },
        "id": "e1Y8OC1hY-qN",
        "outputId": "d51c179d-45ac-4d20-b8b9-db742a85299e"
      },
      "execution_count": 5,
      "outputs": [
        {
          "output_type": "execute_result",
          "data": {
            "text/plain": [
              "'W'"
            ],
            "application/vnd.google.colaboratory.intrinsic+json": {
              "type": "string"
            }
          },
          "metadata": {},
          "execution_count": 5
        }
      ]
    },
    {
      "cell_type": "code",
      "source": [
        "print(stringVariable[-1])\n",
        "print(stringVariable[len(stringVariable)-1])"
      ],
      "metadata": {
        "colab": {
          "base_uri": "https://localhost:8080/"
        },
        "id": "gLvAmv6tZWx2",
        "outputId": "d2cfe4cf-2afe-4f3a-ca5e-39bdf1771b9c"
      },
      "execution_count": 6,
      "outputs": [
        {
          "output_type": "stream",
          "name": "stdout",
          "text": [
            "g\n",
            "g\n"
          ]
        }
      ]
    },
    {
      "cell_type": "code",
      "source": [
        "# Slicing Operations.\n",
        "# Print the substring from 1st to 13 character.\n",
        "print(stringVariable[0:13]) # string[ start_idx : end_idx+1]"
      ],
      "metadata": {
        "colab": {
          "base_uri": "https://localhost:8080/"
        },
        "id": "TRGTyzIwZkPX",
        "outputId": "1fdf02c5-a362-4f9d-a474-a2b6b5a6987f"
      },
      "execution_count": 8,
      "outputs": [
        {
          "output_type": "stream",
          "name": "stdout",
          "text": [
            "Welcome to Py\n"
          ]
        }
      ]
    },
    {
      "cell_type": "code",
      "source": [
        "# Print the substring with 15th character till last character\n",
        "print(stringVariable[14:])  # if end index is not mentioned, it by default takes the ending index"
      ],
      "metadata": {
        "colab": {
          "base_uri": "https://localhost:8080/"
        },
        "id": "_9dqQNy3aSty",
        "outputId": "3789c4f2-46fe-4345-8ccd-d3b2eb448281"
      },
      "execution_count": 9,
      "outputs": [
        {
          "output_type": "stream",
          "name": "stdout",
          "text": [
            "hon Programming\n"
          ]
        }
      ]
    },
    {
      "cell_type": "code",
      "source": [
        "print(stringVariable[::]) # string[start_idx : end_idx+1 : step_size]\n",
        "print(stringVariable[6:15:]) # default step_size is 1\n",
        "print(stringVariable[6:15:2]) # step_size 2 means it will print every 2nd item from the selected substring"
      ],
      "metadata": {
        "colab": {
          "base_uri": "https://localhost:8080/"
        },
        "id": "Vm8mrztrarXn",
        "outputId": "675f3fc9-448e-4e36-bb55-e4e1dc4aadb4"
      },
      "execution_count": 13,
      "outputs": [
        {
          "output_type": "stream",
          "name": "stdout",
          "text": [
            "Welcome to Python Programming\n",
            "e to Pyth\n",
            "et yh\n"
          ]
        }
      ]
    },
    {
      "cell_type": "code",
      "source": [
        "# cursor moves from left to right when stepsize is +ve\n",
        "# cursor moves from right to left when stepsize is -ve\n",
        "print(stringVariable[::-1]) # reverse the string\n",
        "print(stringVariable[::-2]) # reverse the string and print every 2nd item"
      ],
      "metadata": {
        "colab": {
          "base_uri": "https://localhost:8080/"
        },
        "id": "DrxO5BDodp6f",
        "outputId": "70e24509-06f8-4740-b11b-365e1dcd239f"
      },
      "execution_count": 14,
      "outputs": [
        {
          "output_type": "stream",
          "name": "stdout",
          "text": [
            "gnimmargorP nohtyP ot emocleW\n",
            "gimroPnhy teolW\n"
          ]
        }
      ]
    },
    {
      "cell_type": "code",
      "source": [
        "string='123456789'\n",
        "print(string[8:6:-1])\n",
        "print(string[8:6])"
      ],
      "metadata": {
        "colab": {
          "base_uri": "https://localhost:8080/"
        },
        "id": "XtM9Frb3eM4h",
        "outputId": "6f94add2-df13-4562-c30b-966e371da0e7"
      },
      "execution_count": 19,
      "outputs": [
        {
          "output_type": "stream",
          "name": "stdout",
          "text": [
            "98\n",
            "\n"
          ]
        }
      ]
    },
    {
      "cell_type": "code",
      "source": [
        "print(string[-1:-3:]) # won't print anything because step size is +ve"
      ],
      "metadata": {
        "colab": {
          "base_uri": "https://localhost:8080/"
        },
        "id": "sn0xXcAffNGm",
        "outputId": "53a02c3d-4f53-48bf-c605-ab65af6e0e57"
      },
      "execution_count": 20,
      "outputs": [
        {
          "output_type": "stream",
          "name": "stdout",
          "text": [
            "\n"
          ]
        }
      ]
    },
    {
      "cell_type": "code",
      "source": [
        "print(string[-1:-3:-1])"
      ],
      "metadata": {
        "colab": {
          "base_uri": "https://localhost:8080/"
        },
        "id": "MiVxKXqyfPW1",
        "outputId": "6ca2470d-dca4-497f-a9de-de451fef14e7"
      },
      "execution_count": 21,
      "outputs": [
        {
          "output_type": "stream",
          "name": "stdout",
          "text": [
            "98\n"
          ]
        }
      ]
    },
    {
      "cell_type": "code",
      "source": [
        "print(string[0:-3:-1]) # won't print anything because left side of 0, there is nothing"
      ],
      "metadata": {
        "colab": {
          "base_uri": "https://localhost:8080/"
        },
        "id": "BgCCLmkvgGOM",
        "outputId": "566fc73b-0341-4e1e-8425-4bb34afcd4d9"
      },
      "execution_count": 22,
      "outputs": [
        {
          "output_type": "stream",
          "name": "stdout",
          "text": [
            "\n"
          ]
        }
      ]
    },
    {
      "cell_type": "code",
      "source": [
        "strVal = 'Lets have a new string'\n",
        "print(strVal[:-3:-1])   # if step size is -ve then default start index would be -1\n",
        "print(strVal[-1:-3:-1])"
      ],
      "metadata": {
        "colab": {
          "base_uri": "https://localhost:8080/"
        },
        "id": "C7M42kK5gkXC",
        "outputId": "d94efa4e-128c-427c-9057-18543fd493f1"
      },
      "execution_count": 25,
      "outputs": [
        {
          "output_type": "stream",
          "name": "stdout",
          "text": [
            "gn\n",
            "gn\n"
          ]
        }
      ]
    },
    {
      "cell_type": "code",
      "source": [
        "strVal = 'Lets have a new string'\n",
        "print(strVal[:-3:1])   # if step size is +ve then default start index would be 1\n",
        "print(strVal[:-3:2])"
      ],
      "metadata": {
        "colab": {
          "base_uri": "https://localhost:8080/"
        },
        "id": "6aFZIxyuhPxD",
        "outputId": "04d0412a-3d4c-48c7-bb4e-bae2de165649"
      },
      "execution_count": 29,
      "outputs": [
        {
          "output_type": "stream",
          "name": "stdout",
          "text": [
            "Lets have a new str\n",
            "Lt aeanwsr\n"
          ]
        }
      ]
    },
    {
      "cell_type": "code",
      "source": [
        "strVal = 'Lets have a new string'\n",
        "print(strVal[:-3:])   # default step size is +ve. Default start index is 0 and the cursor moves from left to right\n",
        "print(strVal[3::-1])"
      ],
      "metadata": {
        "colab": {
          "base_uri": "https://localhost:8080/"
        },
        "id": "Rrn2leLMhd0A",
        "outputId": "1c727bd4-6608-4b2d-af53-4ddfed0c7c7f"
      },
      "execution_count": 30,
      "outputs": [
        {
          "output_type": "stream",
          "name": "stdout",
          "text": [
            "Lets have a new str\n",
            "steL\n"
          ]
        }
      ]
    },
    {
      "cell_type": "code",
      "source": [
        "str_var='5'\n",
        "print(type(str_var))"
      ],
      "metadata": {
        "colab": {
          "base_uri": "https://localhost:8080/"
        },
        "id": "fMmS3nt6i-l-",
        "outputId": "a99b6704-c284-429d-a5fe-51908427f8a5"
      },
      "execution_count": 31,
      "outputs": [
        {
          "output_type": "stream",
          "name": "stdout",
          "text": [
            "<class 'str'>\n"
          ]
        }
      ]
    },
    {
      "cell_type": "code",
      "source": [
        "str_int = int(str_var)\n",
        "print(type(str_int))"
      ],
      "metadata": {
        "colab": {
          "base_uri": "https://localhost:8080/"
        },
        "id": "NVOf4CBmjIfe",
        "outputId": "72a49f80-aa21-4fcb-8942-e7d085868391"
      },
      "execution_count": 32,
      "outputs": [
        {
          "output_type": "stream",
          "name": "stdout",
          "text": [
            "<class 'int'>\n"
          ]
        }
      ]
    },
    {
      "cell_type": "code",
      "source": [
        "str_var1='5.5'\n",
        "print(type(str_var1))"
      ],
      "metadata": {
        "colab": {
          "base_uri": "https://localhost:8080/"
        },
        "id": "AAFAyg0ZjT64",
        "outputId": "a8717c8e-437a-49da-a201-b1cfbe8912b4"
      },
      "execution_count": 33,
      "outputs": [
        {
          "output_type": "stream",
          "name": "stdout",
          "text": [
            "<class 'str'>\n"
          ]
        }
      ]
    },
    {
      "cell_type": "code",
      "source": [
        "str_int1=int(float(str_var1)) # We cannot directly convert a string to int, we need to convert string to float and then float into int\n",
        "print(type(str_int1))"
      ],
      "metadata": {
        "colab": {
          "base_uri": "https://localhost:8080/"
        },
        "id": "PRlRfI09jc2q",
        "outputId": "24a3e986-c559-43a6-9695-f1137f93412c"
      },
      "execution_count": 35,
      "outputs": [
        {
          "output_type": "stream",
          "name": "stdout",
          "text": [
            "<class 'int'>\n"
          ]
        }
      ]
    },
    {
      "cell_type": "markdown",
      "source": [
        "# Output Formatting"
      ],
      "metadata": {
        "id": "UNyjg7NOsEHz"
      }
    },
    {
      "cell_type": "code",
      "source": [
        "myInt1=10\n",
        "myInt2=20\n",
        "myInt3=30\n",
        "print(' Entered values are MyInt1 : ', myInt1, ' and MyInt2 : ', myInt2)"
      ],
      "metadata": {
        "colab": {
          "base_uri": "https://localhost:8080/"
        },
        "id": "aLDNErBhsC6L",
        "outputId": "6a65dab3-b0ea-41a9-97d7-15267d924694"
      },
      "execution_count": 42,
      "outputs": [
        {
          "output_type": "stream",
          "name": "stdout",
          "text": [
            " Entered values are MyInt1 :  10  and MyInt2 :  20\n"
          ]
        }
      ]
    },
    {
      "cell_type": "code",
      "source": [
        "# We will use str.format to beautify the outputs.\n",
        "print('Entered values are MyInt1 : {} and MyInt2 : {}'.format(myInt1, myInt2))"
      ],
      "metadata": {
        "colab": {
          "base_uri": "https://localhost:8080/"
        },
        "id": "Ve9W9UA6sdhu",
        "outputId": "2104960e-cbd1-4ccf-adbe-7cb2213c1919"
      },
      "execution_count": 37,
      "outputs": [
        {
          "output_type": "stream",
          "name": "stdout",
          "text": [
            "Entered values are MyInt1 : 10 and MyInt2 : 20\n"
          ]
        }
      ]
    },
    {
      "cell_type": "code",
      "source": [
        "# We will use str.format to beautify the outputs.\n",
        "print('Entered values are MyInt1 : {0} and MyInt2 : {1}'.format(myInt1, myInt2))"
      ],
      "metadata": {
        "colab": {
          "base_uri": "https://localhost:8080/"
        },
        "id": "17dmsZ_9s3XM",
        "outputId": "f8e44c56-3a19-4525-bb6a-d411d14ee45b"
      },
      "execution_count": 38,
      "outputs": [
        {
          "output_type": "stream",
          "name": "stdout",
          "text": [
            "Entered values are MyInt1 : 10 and MyInt2 : 20\n"
          ]
        }
      ]
    },
    {
      "cell_type": "code",
      "source": [
        "# We will use str.format to beautify the outputs.\n",
        "print('Entered values are MyInt2 : {1} and MyInt1 : {0}'.format(myInt1, myInt2))"
      ],
      "metadata": {
        "colab": {
          "base_uri": "https://localhost:8080/"
        },
        "id": "r4KWwMrPs7Lr",
        "outputId": "9769878e-955d-4bdd-e3d2-342d24cf1950"
      },
      "execution_count": 39,
      "outputs": [
        {
          "output_type": "stream",
          "name": "stdout",
          "text": [
            "Entered values are MyInt2 : 20 and MyInt1 : 10\n"
          ]
        }
      ]
    },
    {
      "cell_type": "code",
      "source": [
        "# We will use str.format to beautify the outputs.\n",
        "print('Entered values are MyInt1 : {num1} and MyInt2 : {num2}'.format(num1=myInt1, num2=myInt2))"
      ],
      "metadata": {
        "colab": {
          "base_uri": "https://localhost:8080/"
        },
        "id": "uL9EWQnftCrp",
        "outputId": "906cd67e-4f48-4f24-9e3f-e9fe42803d69"
      },
      "execution_count": 40,
      "outputs": [
        {
          "output_type": "stream",
          "name": "stdout",
          "text": [
            "Entered values are MyInt1 : 10 and MyInt2 : 20\n"
          ]
        }
      ]
    },
    {
      "cell_type": "code",
      "source": [
        "# We will use str.format to beautify the outputs. positional argument will be followed by keyword argument\n",
        "print('Entered values are MyInt1 : {} , MyInt2 : {} and MyInt3 : {num3}'.format(myInt1, myInt2, num3=myInt3))"
      ],
      "metadata": {
        "colab": {
          "base_uri": "https://localhost:8080/"
        },
        "id": "oUZfN-G6wbq8",
        "outputId": "8253a751-a7a0-4ac6-c210-287142190a7f"
      },
      "execution_count": 43,
      "outputs": [
        {
          "output_type": "stream",
          "name": "stdout",
          "text": [
            "Entered values are MyInt1 : 10 , MyInt2 : 20 and MyInt3 : 30\n"
          ]
        }
      ]
    },
    {
      "cell_type": "code",
      "source": [
        "var = 3.123456\n",
        "print(var)\n",
        "# Round it to 2 places of decimal\n",
        "print('Rounded to 2 decimal places : {:.2f}'.format(var))\n",
        "print('Rounded to 2 decimal places : {:+.2f}'.format(var))\n"
      ],
      "metadata": {
        "colab": {
          "base_uri": "https://localhost:8080/"
        },
        "id": "F7gRr1xNw_1l",
        "outputId": "c97334a1-1b8f-4224-a7ec-a06017faa37c"
      },
      "execution_count": 49,
      "outputs": [
        {
          "output_type": "stream",
          "name": "stdout",
          "text": [
            "3.123456\n",
            "Rounded to 2 decimal places : 3.12\n",
            "Rounded to 2 decimal places : +3.12\n"
          ]
        }
      ]
    },
    {
      "cell_type": "code",
      "source": [
        "var = -3.123456\n",
        "print(var)\n",
        "# Round it to 2 places of decimal\n",
        "print('Rounded to 2 decimal places : {:.2f}'.format(var))"
      ],
      "metadata": {
        "colab": {
          "base_uri": "https://localhost:8080/"
        },
        "id": "aM2WJOERxrTT",
        "outputId": "5f47f732-7412-4b64-b498-aa24272c42a3"
      },
      "execution_count": 48,
      "outputs": [
        {
          "output_type": "stream",
          "name": "stdout",
          "text": [
            "-3.123456\n",
            "Rounded to 2 decimal places : -3.12\n"
          ]
        }
      ]
    },
    {
      "cell_type": "markdown",
      "source": [
        "# Operators\n",
        "1. Arithematic Operator\n",
        "2. Comparison Operator\n",
        "3. Logical (Boolean) Operator\n",
        "4. Bitwise Operator\n",
        "5. Assignment Operator\n",
        "6. Special Operator"
      ],
      "metadata": {
        "id": "dW_VchxUx4Ow"
      }
    },
    {
      "cell_type": "markdown",
      "source": [
        "## Arithematic Operators\n",
        "+, -, \\*, /, %, //, ** are arithematic operators"
      ],
      "metadata": {
        "id": "iv84dQnPyMT5"
      }
    },
    {
      "cell_type": "code",
      "source": [
        "variable1, variable2 = 5,2\n",
        "print(\" Addition: \", variable1+variable2)\n",
        "print(\" Substraction: \",variable1-variable2)\n",
        "print(\" Multiplication: \",variable1*variable2)\n",
        "print(\" Division: \",variable1/variable2)\n",
        "print(\" Modulo Division: \",variable1%variable2)\n",
        "print(\" Floor Division: \",variable1//variable2)\n",
        "print(\" Variable1 raised to power variable2: \",variable1**variable2)"
      ],
      "metadata": {
        "colab": {
          "base_uri": "https://localhost:8080/"
        },
        "id": "0DwUWN4aye6q",
        "outputId": "e3c4fff8-cbf3-4ff7-c0c7-4e4ff4ac4f58"
      },
      "execution_count": 50,
      "outputs": [
        {
          "output_type": "stream",
          "name": "stdout",
          "text": [
            " Addition:  7\n",
            " Substraction:  3\n",
            " Multiplication:  10\n",
            " Division:  2.5\n",
            " Modulo Division:  1\n",
            " Floor Division:  2\n",
            " Variable1 raised to power variable2:  25\n"
          ]
        }
      ]
    },
    {
      "cell_type": "markdown",
      "source": [
        "##Comparison Operators\n",
        "\\>, <, ==, !=, >=, <="
      ],
      "metadata": {
        "id": "F1oM44yfzq1F"
      }
    },
    {
      "cell_type": "code",
      "source": [
        "variable1, variable2=5,2 #Implement all comparison Operators\n",
        "print(\" variable1 > variable2 : \", variable1>variable2)\n",
        "print(\" variable1 < variable2 : \", variable1<variable2)\n",
        "print(\" variable1 == variable2 : \", variable1==variable2)\n",
        "print(\" variable1 != variable2 : \", variable1!=variable2)\n",
        "print(\" variable1 >= variable2 : \", variable1>=variable2)\n",
        "print(\" variable1 <= variable2 : \", variable1<=variable2)"
      ],
      "metadata": {
        "colab": {
          "base_uri": "https://localhost:8080/"
        },
        "id": "GsTPCxt1yrXw",
        "outputId": "351132a2-4300-46f7-a8bd-2b399ba7aa64"
      },
      "execution_count": 52,
      "outputs": [
        {
          "output_type": "stream",
          "name": "stdout",
          "text": [
            " variable1 > variable2 :  True\n",
            " variable1 < variable2 :  False\n",
            " variable1 == variable2 :  False\n",
            " variable1 != variable2 :  True\n",
            " variable1 >= variable2 :  True\n",
            " variable1 <= variable2 :  False\n"
          ]
        }
      ]
    },
    {
      "cell_type": "markdown",
      "source": [
        "## Logical Operators -- operates on boolean data type\n",
        "and, or, not"
      ],
      "metadata": {
        "id": "wt15zEWV079T"
      }
    },
    {
      "cell_type": "code",
      "source": [
        "listVariable1=[True,False]\n",
        "listVariable2=[True,False]\n",
        "for i in listVariable1:\n",
        "    for j in listVariable2:\n",
        "        print(\" variable1 : {0} and variable2 : {1} . So {0} and {1} gives {2} \".format(i,j,i and j))\n",
        "        print(\" variable1 : {0} and variable2 : {1} . So {0} or {1} gives {2} \".format(i,j,i or j))\n",
        "        print(\" variable1 : {0}, not of {0} gives {1}\".format(i, not i))\n",
        "        print('------------------------------------------------------------------')"
      ],
      "metadata": {
        "colab": {
          "base_uri": "https://localhost:8080/"
        },
        "id": "IzIZsPqE168P",
        "outputId": "1b9d7895-ecc7-4807-ade3-ebda37d4f512"
      },
      "execution_count": 55,
      "outputs": [
        {
          "output_type": "stream",
          "name": "stdout",
          "text": [
            " variable1 : True and variable2 : True . So True and True gives True \n",
            " variable1 : True and variable2 : True . So True or True gives True \n",
            " variable1 : True, not of True gives False\n",
            "------------------------------------------------------------------\n",
            " variable1 : True and variable2 : False . So True and False gives False \n",
            " variable1 : True and variable2 : False . So True or False gives True \n",
            " variable1 : True, not of True gives False\n",
            "------------------------------------------------------------------\n",
            " variable1 : False and variable2 : True . So False and True gives False \n",
            " variable1 : False and variable2 : True . So False or True gives True \n",
            " variable1 : False, not of False gives True\n",
            "------------------------------------------------------------------\n",
            " variable1 : False and variable2 : False . So False and False gives False \n",
            " variable1 : False and variable2 : False . So False or False gives False \n",
            " variable1 : False, not of False gives True\n",
            "------------------------------------------------------------------\n"
          ]
        }
      ]
    },
    {
      "cell_type": "markdown",
      "source": [
        "## Bitwise Operator\n",
        "Converts Decimal to Binary then performs the operations in binary, the result is also a binary output and that is conveted to decimal before display.\n",
        "\n",
        "* &          (Bitwise AND)\n",
        "* |          (Bitwise OR)\n",
        "* ~          (Bitwise NOT)\n",
        "* ^          (Bitwise XOR)\n",
        "* \\>>        (Bitwise Right Shift)\n",
        "* <<         (Bitwise Left Shift)"
      ],
      "metadata": {
        "id": "Ey5odQv933uW"
      }
    },
    {
      "cell_type": "code",
      "source": [
        "var1=3 # 0000 0011\n",
        "var2=7 # 0000 0111\n",
        "print (var1 & var2)  # output: 3\n",
        "print (var1 | var2)  # output: 7\n",
        "print (~var1)        # output: -4 (in 2's complement representation)\n",
        "print (var1 ^ var2)  # outout: 4\n",
        "print (var1 >> 1)    # output: 1\n",
        "print (var1 >> 2)    # output: 0\n",
        "print (var1 << 1)    # output: 6\n",
        "print (var1 << 2)    # output: 12"
      ],
      "metadata": {
        "colab": {
          "base_uri": "https://localhost:8080/"
        },
        "id": "GT3Xn3l35ytB",
        "outputId": "9cf1709b-1b85-4ff6-d411-a1175649779e"
      },
      "execution_count": 59,
      "outputs": [
        {
          "output_type": "stream",
          "name": "stdout",
          "text": [
            "3\n",
            "7\n",
            "-4\n",
            "4\n",
            "1\n",
            "0\n",
            "6\n",
            "12\n"
          ]
        }
      ]
    }
  ]
}