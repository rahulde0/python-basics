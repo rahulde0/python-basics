{
  "nbformat": 4,
  "nbformat_minor": 0,
  "metadata": {
    "colab": {
      "provenance": [],
      "authorship_tag": "ABX9TyN4LdqOutn2tJkiV2xGHqf8",
      "include_colab_link": true
    },
    "kernelspec": {
      "name": "python3",
      "display_name": "Python 3"
    },
    "language_info": {
      "name": "python"
    }
  },
  "cells": [
    {
      "cell_type": "markdown",
      "metadata": {
        "id": "view-in-github",
        "colab_type": "text"
      },
      "source": [
        "<a href=\"https://colab.research.google.com/github/rahulde0/python-basics/blob/main/Python_Basics_4.ipynb\" target=\"_parent\"><img src=\"https://colab.research.google.com/assets/colab-badge.svg\" alt=\"Open In Colab\"/></a>"
      ]
    },
    {
      "cell_type": "markdown",
      "source": [
        "## Data Structures in Python\n",
        "### List\n",
        "* Each element in the list is assigned a number called index. It starts from 0\n",
        "* Lists are collectionsof items (Strings, Integers, Floats and even other sequences like list, set, tuple, dictionary)\n",
        "* List is enclosed in []\n",
        "* Each element is separated by comma `,`\n",
        "* List is mutable, they can be changed."
      ],
      "metadata": {
        "id": "LIgkK89JwamE"
      }
    },
    {
      "cell_type": "code",
      "source": [
        "myList =[]\n",
        "print(type(myList))"
      ],
      "metadata": {
        "colab": {
          "base_uri": "https://localhost:8080/"
        },
        "id": "10l76f0UzIDb",
        "outputId": "37abf18e-6cec-41a8-88f1-ff42842b03a4"
      },
      "execution_count": 1,
      "outputs": [
        {
          "output_type": "stream",
          "name": "stdout",
          "text": [
            "<class 'list'>\n"
          ]
        }
      ]
    },
    {
      "cell_type": "code",
      "source": [
        "myList1=[1,2,3,4,\"rahul\",7.0,True]\n",
        "print(myList1)"
      ],
      "metadata": {
        "colab": {
          "base_uri": "https://localhost:8080/"
        },
        "id": "f7ylj77RzhPD",
        "outputId": "32151690-175f-4190-d6b1-77605d1b884c"
      },
      "execution_count": 4,
      "outputs": [
        {
          "output_type": "stream",
          "name": "stdout",
          "text": [
            "[1, 2, 3, 4, 'rahul', 7.0, True]\n"
          ]
        }
      ]
    },
    {
      "cell_type": "code",
      "source": [
        "for element in myList1:\n",
        "  print(element)"
      ],
      "metadata": {
        "colab": {
          "base_uri": "https://localhost:8080/"
        },
        "id": "CnIQuIT1zVuS",
        "outputId": "3984f979-826a-4da1-dd61-7f6debe72f04"
      },
      "execution_count": 5,
      "outputs": [
        {
          "output_type": "stream",
          "name": "stdout",
          "text": [
            "1\n",
            "2\n",
            "3\n",
            "4\n",
            "rahul\n",
            "7.0\n",
            "True\n"
          ]
        }
      ]
    },
    {
      "cell_type": "code",
      "source": [
        "for index,value in enumerate(myList1):\n",
        "  print(index,value)"
      ],
      "metadata": {
        "colab": {
          "base_uri": "https://localhost:8080/"
        },
        "id": "Te1zHNzTzvLo",
        "outputId": "c753d5d4-0f76-4b3a-ecb5-379f02639421"
      },
      "execution_count": 6,
      "outputs": [
        {
          "output_type": "stream",
          "name": "stdout",
          "text": [
            "0 1\n",
            "1 2\n",
            "2 3\n",
            "3 4\n",
            "4 rahul\n",
            "5 7.0\n",
            "6 True\n"
          ]
        }
      ]
    },
    {
      "cell_type": "code",
      "source": [
        "#Slicing of List\n",
        "myList2=[1,2,3,4,5,6,7,8,9,10]\n",
        "myList2[2:]"
      ],
      "metadata": {
        "colab": {
          "base_uri": "https://localhost:8080/"
        },
        "id": "gYtwalDy0DwC",
        "outputId": "083bd86c-c7e7-449a-f5c5-39ba796fd86f"
      },
      "execution_count": 9,
      "outputs": [
        {
          "output_type": "execute_result",
          "data": {
            "text/plain": [
              "[3, 4, 5, 6, 7, 8, 9, 10]"
            ]
          },
          "metadata": {},
          "execution_count": 9
        }
      ]
    },
    {
      "cell_type": "code",
      "source": [
        "myList2[::-1]"
      ],
      "metadata": {
        "colab": {
          "base_uri": "https://localhost:8080/"
        },
        "id": "pMFNBVCJ1Jfx",
        "outputId": "3bb28f90-a541-4713-d3cc-f3eb3b808a3a"
      },
      "execution_count": 10,
      "outputs": [
        {
          "output_type": "execute_result",
          "data": {
            "text/plain": [
              "[10, 9, 8, 7, 6, 5, 4, 3, 2, 1]"
            ]
          },
          "metadata": {},
          "execution_count": 10
        }
      ]
    },
    {
      "cell_type": "markdown",
      "source": [
        "Python - list - methods:\n",
        "\n",
        "| Method                                   | Description                                                              |\n",
        "| ---------------------------------------- | ------------------------------------------------------------------------ |\n",
        "| **`list.append(x)`**                     | Add item `x` to the end of the list                                      |\n",
        "| **`list.extend(iterable)`**              | Extend the list by appending all items from an iterable                  |\n",
        "| **`list.insert(i, x)`**                  | Insert item `x` at position `i`                                          |\n",
        "| **`list.remove(x)`**                     | Remove the first occurrence of item `x`                                  |\n",
        "| **`list.pop([i])`**                      | Remove and return item at index `i` (last item if `i` not provided)      |\n",
        "| **`list.clear()`**                       | Remove all items from the list                                           |\n",
        "| **`list.index(x[, start[, end]])`**      | Return the index of first occurrence of item `x` (within optional range) |\n",
        "| **`list.count(x)`**                      | Return the number of occurrences of `x`                                  |\n",
        "| **`list.sort(key=None, reverse=False)`** | Sort the list in place (custom `key` and `reverse` supported)            |\n",
        "| **`list.reverse()`**                     | Reverse the list in place                                                |\n",
        "| **`list.copy()`**                        | Return a shallow copy of the list                                        |\n"
      ],
      "metadata": {
        "id": "Z-8C1Wt-0ovf"
      }
    },
    {
      "cell_type": "code",
      "source": [
        "myList1=[1,2,3,4,5]\n",
        "myList2=[6,7,8,9,10]\n",
        "myList1.append(myList2)\n",
        "print(myList1)\n",
        "print(len(myList1))"
      ],
      "metadata": {
        "colab": {
          "base_uri": "https://localhost:8080/"
        },
        "id": "KKsg8kTy0C20",
        "outputId": "81e8d775-b622-46c4-e36a-b7ba0ef592e3"
      },
      "execution_count": 12,
      "outputs": [
        {
          "output_type": "stream",
          "name": "stdout",
          "text": [
            "[1, 2, 3, 4, 5, [6, 7, 8, 9, 10]]\n",
            "6\n"
          ]
        }
      ]
    },
    {
      "cell_type": "code",
      "source": [
        "myList2.clear()\n",
        "print(myList2)"
      ],
      "metadata": {
        "colab": {
          "base_uri": "https://localhost:8080/"
        },
        "id": "bK55oRgl2Qnj",
        "outputId": "6f106899-8094-4c3c-a287-d6fe08f38508"
      },
      "execution_count": 14,
      "outputs": [
        {
          "output_type": "stream",
          "name": "stdout",
          "text": [
            "[]\n"
          ]
        }
      ]
    },
    {
      "cell_type": "code",
      "source": [
        "print(myList1)"
      ],
      "metadata": {
        "colab": {
          "base_uri": "https://localhost:8080/"
        },
        "id": "gLaLs6mM2hBP",
        "outputId": "e32db319-6d75-4565-9b3d-dc237a1aa23e"
      },
      "execution_count": 15,
      "outputs": [
        {
          "output_type": "stream",
          "name": "stdout",
          "text": [
            "[1, 2, 3, 4, 5, []]\n"
          ]
        }
      ]
    },
    {
      "cell_type": "code",
      "source": [
        "myList1=[1,2,3,4,5]\n",
        "myList2=[6,7,8,9,10]\n",
        "myList1.extend(myList2)\n",
        "print(myList1)"
      ],
      "metadata": {
        "colab": {
          "base_uri": "https://localhost:8080/"
        },
        "id": "8qxzFeG92pqK",
        "outputId": "0f9a0101-9923-47ce-aee8-7fdfc31461a3"
      },
      "execution_count": 16,
      "outputs": [
        {
          "output_type": "stream",
          "name": "stdout",
          "text": [
            "[1, 2, 3, 4, 5, 6, 7, 8, 9, 10]\n"
          ]
        }
      ]
    },
    {
      "cell_type": "code",
      "source": [
        "myList2.clear()\n",
        "print(myList2)"
      ],
      "metadata": {
        "colab": {
          "base_uri": "https://localhost:8080/"
        },
        "id": "oRg3ASCj21sx",
        "outputId": "6d33fdf2-ae92-4a0c-f86a-64fd609d2052"
      },
      "execution_count": 17,
      "outputs": [
        {
          "output_type": "stream",
          "name": "stdout",
          "text": [
            "[]\n"
          ]
        }
      ]
    },
    {
      "cell_type": "code",
      "source": [
        "print(myList1)"
      ],
      "metadata": {
        "colab": {
          "base_uri": "https://localhost:8080/"
        },
        "id": "jfVF3ACq26hH",
        "outputId": "9e61598c-6beb-4679-c7ed-f1d3b31ebd52"
      },
      "execution_count": 18,
      "outputs": [
        {
          "output_type": "stream",
          "name": "stdout",
          "text": [
            "[1, 2, 3, 4, 5, 6, 7, 8, 9, 10]\n"
          ]
        }
      ]
    },
    {
      "cell_type": "code",
      "source": [
        "myList1.pop(3) # it works on index basis"
      ],
      "metadata": {
        "colab": {
          "base_uri": "https://localhost:8080/"
        },
        "id": "FmhDKnt74R_Z",
        "outputId": "47104efb-ea64-4816-fd96-50731511f391"
      },
      "execution_count": 19,
      "outputs": [
        {
          "output_type": "execute_result",
          "data": {
            "text/plain": [
              "4"
            ]
          },
          "metadata": {},
          "execution_count": 19
        }
      ]
    },
    {
      "cell_type": "code",
      "source": [
        "print(myList1)"
      ],
      "metadata": {
        "colab": {
          "base_uri": "https://localhost:8080/"
        },
        "id": "9z0kJ4014R7z",
        "outputId": "984f270e-7316-4724-d8c9-e368fb152ac8"
      },
      "execution_count": 20,
      "outputs": [
        {
          "output_type": "stream",
          "name": "stdout",
          "text": [
            "[1, 2, 3, 5, 6, 7, 8, 9, 10]\n"
          ]
        }
      ]
    },
    {
      "cell_type": "code",
      "source": [
        "myList1.remove(6) # remove works on value"
      ],
      "metadata": {
        "id": "AETMrHhE4R2t"
      },
      "execution_count": 21,
      "outputs": []
    },
    {
      "cell_type": "code",
      "source": [
        "print(myList1)"
      ],
      "metadata": {
        "colab": {
          "base_uri": "https://localhost:8080/"
        },
        "id": "JxzCNRTB40Kn",
        "outputId": "8d880d8a-ed6c-40e7-c5cc-78b13cce2d84"
      },
      "execution_count": 22,
      "outputs": [
        {
          "output_type": "stream",
          "name": "stdout",
          "text": [
            "[1, 2, 3, 5, 7, 8, 9, 10]\n"
          ]
        }
      ]
    },
    {
      "cell_type": "code",
      "source": [
        "# Insert an element at a specified index\n",
        "myList1=[1,2,3,4,5,6,7,8,9,10]\n",
        "myList1.insert(4,\"Inserted Finally\")\n",
        "print(myList1)"
      ],
      "metadata": {
        "colab": {
          "base_uri": "https://localhost:8080/"
        },
        "id": "9cs3B9lh5swE",
        "outputId": "70fd8570-9db4-4a56-a3f6-810d00ed6351"
      },
      "execution_count": 24,
      "outputs": [
        {
          "output_type": "stream",
          "name": "stdout",
          "text": [
            "[1, 2, 3, 4, 'Inserted Finally', 5, 6, 7, 8, 9, 10]\n"
          ]
        }
      ]
    },
    {
      "cell_type": "code",
      "source": [
        "# sort\n",
        "myList1=[1,2,0,3,4,7,5,6,7,8,9,10]\n",
        "myList1.sort()\n",
        "print(myList1)"
      ],
      "metadata": {
        "colab": {
          "base_uri": "https://localhost:8080/"
        },
        "id": "HTIcOmaB8POT",
        "outputId": "94e937c6-0199-41c8-8f38-155630581e99"
      },
      "execution_count": 25,
      "outputs": [
        {
          "output_type": "stream",
          "name": "stdout",
          "text": [
            "[0, 1, 2, 3, 4, 5, 6, 7, 7, 8, 9, 10]\n"
          ]
        }
      ]
    },
    {
      "cell_type": "code",
      "source": [
        "# sort in descending order\n",
        "myList1=[1,2,0,3,4,7,5,6,7,8,9,10]\n",
        "myList1.sort(reverse=True)\n",
        "print(myList1)"
      ],
      "metadata": {
        "colab": {
          "base_uri": "https://localhost:8080/"
        },
        "id": "4LUgkIgz8rEw",
        "outputId": "797ca242-aec0-4038-f95e-c44c1af901ab"
      },
      "execution_count": 26,
      "outputs": [
        {
          "output_type": "stream",
          "name": "stdout",
          "text": [
            "[10, 9, 8, 7, 7, 6, 5, 4, 3, 2, 1, 0]\n"
          ]
        }
      ]
    },
    {
      "cell_type": "code",
      "source": [
        "# reversing the list\n",
        "myList1.reverse()\n",
        "print(myList1)"
      ],
      "metadata": {
        "colab": {
          "base_uri": "https://localhost:8080/"
        },
        "id": "urcjpCrW9B5l",
        "outputId": "f2c988fc-9630-474b-97a7-b34fea0ccffe"
      },
      "execution_count": 27,
      "outputs": [
        {
          "output_type": "stream",
          "name": "stdout",
          "text": [
            "[0, 1, 2, 3, 4, 5, 6, 7, 7, 8, 9, 10]\n"
          ]
        }
      ]
    },
    {
      "cell_type": "code",
      "source": [
        "myList2=myList1.copy()\n",
        "print(myList2)"
      ],
      "metadata": {
        "colab": {
          "base_uri": "https://localhost:8080/"
        },
        "id": "870cvkgu9N_R",
        "outputId": "610e6a0b-d83f-43ec-b7fc-0c81373690ba"
      },
      "execution_count": 28,
      "outputs": [
        {
          "output_type": "stream",
          "name": "stdout",
          "text": [
            "[0, 1, 2, 3, 4, 5, 6, 7, 7, 8, 9, 10]\n"
          ]
        }
      ]
    }
  ]
}