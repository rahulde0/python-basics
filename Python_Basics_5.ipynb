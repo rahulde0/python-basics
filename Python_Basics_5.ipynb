{
  "nbformat": 4,
  "nbformat_minor": 0,
  "metadata": {
    "colab": {
      "provenance": [],
      "authorship_tag": "ABX9TyOAozqvMRQJ9X3o9D+Ei5gp",
      "include_colab_link": true
    },
    "kernelspec": {
      "name": "python3",
      "display_name": "Python 3"
    },
    "language_info": {
      "name": "python"
    }
  },
  "cells": [
    {
      "cell_type": "markdown",
      "metadata": {
        "id": "view-in-github",
        "colab_type": "text"
      },
      "source": [
        "<a href=\"https://colab.research.google.com/github/rahulde0/python-basics/blob/main/Python_Basics_5.ipynb\" target=\"_parent\"><img src=\"https://colab.research.google.com/assets/colab-badge.svg\" alt=\"Open In Colab\"/></a>"
      ]
    },
    {
      "cell_type": "code",
      "execution_count": 1,
      "metadata": {
        "colab": {
          "base_uri": "https://localhost:8080/"
        },
        "id": "HG0d0x9gUpBs",
        "outputId": "70d5b4a3-9226-4c44-b0a4-5dd56fd97b38"
      },
      "outputs": [
        {
          "output_type": "stream",
          "name": "stdout",
          "text": [
            "None\n"
          ]
        }
      ],
      "source": [
        "mylist2=[5,6,7,8,9]\n",
        "mylist1=[1,2,3,4]\n",
        "mylist2=mylist1.append(mylist2)\n",
        "print(mylist2)"
      ]
    },
    {
      "cell_type": "markdown",
      "source": [
        "## Tuples\n",
        "*Similar to list, but it is immutable\n",
        "\n",
        "*Can have mixed data type"
      ],
      "metadata": {
        "id": "03k-UETuVDFQ"
      }
    },
    {
      "cell_type": "code",
      "source": [
        "emptyTuple=() # creates empty tuple\n",
        "print(type(emptyTuple))\n",
        "print(isinstance(emptyTuple,tuple))\n",
        "print(emptyTuple)"
      ],
      "metadata": {
        "colab": {
          "base_uri": "https://localhost:8080/"
        },
        "id": "1ctp4_e8Y-Fe",
        "outputId": "c6760c99-b68f-4e33-b85c-3c557342d5c1"
      },
      "execution_count": 2,
      "outputs": [
        {
          "output_type": "stream",
          "name": "stdout",
          "text": [
            "<class 'tuple'>\n",
            "True\n",
            "()\n"
          ]
        }
      ]
    },
    {
      "cell_type": "code",
      "source": [
        "myTuple=(1,2.0,'a',True,None,(1,2,3))\n",
        "print(myTuple)"
      ],
      "metadata": {
        "colab": {
          "base_uri": "https://localhost:8080/"
        },
        "id": "dNp9QWbqZZor",
        "outputId": "3d669751-c1b9-4749-9e2f-a2a0ff96e0c1"
      },
      "execution_count": 3,
      "outputs": [
        {
          "output_type": "stream",
          "name": "stdout",
          "text": [
            "(1, 2.0, 'a', True, None, (1, 2, 3))\n"
          ]
        }
      ]
    },
    {
      "cell_type": "code",
      "source": [
        "# Can have other sequences like list, set, dictionary, tuple\n",
        "mixedTuple=([1,2,3,4,5],{1,2,3,4,5},{1:'a',2:'b'},(1,2,3,4,5))\n",
        "print(mixedTuple)"
      ],
      "metadata": {
        "colab": {
          "base_uri": "https://localhost:8080/"
        },
        "id": "15CAv-5yZxXl",
        "outputId": "8f8ecc70-eb8f-4219-9392-8f481414f8b3"
      },
      "execution_count": 4,
      "outputs": [
        {
          "output_type": "stream",
          "name": "stdout",
          "text": [
            "([1, 2, 3, 4, 5], {1, 2, 3, 4, 5}, {1: 'a', 2: 'b'}, (1, 2, 3, 4, 5))\n"
          ]
        }
      ]
    },
    {
      "cell_type": "code",
      "source": [
        "tupleStr=('Amit')\n",
        "tupleStr1=('Amit',)\n",
        "print(tupleStr)\n",
        "print(type(tupleStr))  # If we have a single item in a tuple, it will consider it string.\n",
        "print(tupleStr1)\n",
        "print(type(tupleStr1)) # Best practice is to provide , after string then it will be tuple"
      ],
      "metadata": {
        "colab": {
          "base_uri": "https://localhost:8080/"
        },
        "id": "hF4yI6W2aPks",
        "outputId": "3ca32410-933b-4751-f0d6-1ab8bc1d43e2"
      },
      "execution_count": 7,
      "outputs": [
        {
          "output_type": "stream",
          "name": "stdout",
          "text": [
            "Amit\n",
            "<class 'str'>\n",
            "('Amit',)\n",
            "<class 'tuple'>\n"
          ]
        }
      ]
    },
    {
      "cell_type": "code",
      "source": [
        "tupleStr=(10)\n",
        "print(tupleStr)\n",
        "print(type(tupleStr))\n",
        "tupleStr1=(10,)\n",
        "print(tupleStr1)\n",
        "print(type(tupleStr1))"
      ],
      "metadata": {
        "colab": {
          "base_uri": "https://localhost:8080/"
        },
        "id": "JGM1Gr9Ca89G",
        "outputId": "d8945a3d-12a4-499d-8b16-e4cb87409407"
      },
      "execution_count": 10,
      "outputs": [
        {
          "output_type": "stream",
          "name": "stdout",
          "text": [
            "10\n",
            "<class 'int'>\n",
            "(10,)\n",
            "<class 'tuple'>\n"
          ]
        }
      ]
    },
    {
      "cell_type": "code",
      "source": [
        "# Accessing elements of tuple\n",
        "myTuple=('Amit','Ajit','Sujit','Rachit','Sanchit')\n",
        "print(myTuple[0])\n",
        "print(myTuple[1])\n",
        "print(myTuple[2])\n",
        "print(myTuple[3])\n",
        "print(myTuple[4])"
      ],
      "metadata": {
        "colab": {
          "base_uri": "https://localhost:8080/"
        },
        "id": "SWYHYd6BbN3e",
        "outputId": "8c40d236-5361-4e88-b70c-41df75cfd10e"
      },
      "execution_count": 11,
      "outputs": [
        {
          "output_type": "stream",
          "name": "stdout",
          "text": [
            "Amit\n",
            "Ajit\n",
            "Sujit\n",
            "Rachit\n",
            "Sanchit\n"
          ]
        }
      ]
    },
    {
      "cell_type": "code",
      "source": [
        "myTuple[1]='Manjeet'"
      ],
      "metadata": {
        "colab": {
          "base_uri": "https://localhost:8080/",
          "height": 141
        },
        "id": "GI3Lqcs3b4tr",
        "outputId": "1905ebba-5b9a-4579-e0bb-0cc6b7bfb1cf"
      },
      "execution_count": 12,
      "outputs": [
        {
          "output_type": "error",
          "ename": "TypeError",
          "evalue": "'tuple' object does not support item assignment",
          "traceback": [
            "\u001b[0;31m---------------------------------------------------------------------------\u001b[0m",
            "\u001b[0;31mTypeError\u001b[0m                                 Traceback (most recent call last)",
            "\u001b[0;32m/tmp/ipython-input-2918829554.py\u001b[0m in \u001b[0;36m<cell line: 0>\u001b[0;34m()\u001b[0m\n\u001b[0;32m----> 1\u001b[0;31m \u001b[0mmyTuple\u001b[0m\u001b[0;34m[\u001b[0m\u001b[0;36m1\u001b[0m\u001b[0;34m]\u001b[0m\u001b[0;34m=\u001b[0m\u001b[0;34m'Manjeet'\u001b[0m\u001b[0;34m\u001b[0m\u001b[0;34m\u001b[0m\u001b[0m\n\u001b[0m",
            "\u001b[0;31mTypeError\u001b[0m: 'tuple' object does not support item assignment"
          ]
        }
      ]
    },
    {
      "cell_type": "code",
      "source": [
        "tuple1=(1,2,3,4,5,[1,2,3,4,5])\n",
        "print(tuple1)\n",
        "tuple1[5][0]=10\n",
        "print(tuple1)\n",
        "tuple1[5].insert(2,100)\n",
        "print(tuple1)"
      ],
      "metadata": {
        "colab": {
          "base_uri": "https://localhost:8080/"
        },
        "id": "8hDgKGamcu3a",
        "outputId": "024f2b86-f6f4-48ea-d265-741bd14bce8c"
      },
      "execution_count": 17,
      "outputs": [
        {
          "output_type": "stream",
          "name": "stdout",
          "text": [
            "(1, 2, 3, 4, 5, [1, 2, 3, 4, 5])\n",
            "(1, 2, 3, 4, 5, [10, 2, 3, 4, 5])\n",
            "(1, 2, 3, 4, 5, [10, 2, 100, 3, 4, 5])\n"
          ]
        }
      ]
    },
    {
      "cell_type": "code",
      "source": [
        "# Slicing in tuple is same as list and string\n",
        "myTupleList=(1,2,3,4,5,6,7,8,9,10)\n",
        "print(myTupleList[2:5])\n",
        "print(myTupleList[::-1])\n",
        "print(myTupleList[5:])"
      ],
      "metadata": {
        "colab": {
          "base_uri": "https://localhost:8080/"
        },
        "id": "9EysuRaAb-eG",
        "outputId": "666fd4f8-2cb3-4990-f687-fb2c5bcdd2c9"
      },
      "execution_count": 13,
      "outputs": [
        {
          "output_type": "stream",
          "name": "stdout",
          "text": [
            "(3, 4, 5)\n",
            "(10, 9, 8, 7, 6, 5, 4, 3, 2, 1)\n",
            "(6, 7, 8, 9, 10)\n"
          ]
        }
      ]
    },
    {
      "cell_type": "code",
      "source": [
        "#Accessing data in Nested tuples\n",
        "myTuplenested=(((1,2,3),4,5,6),7,8,9,10)\n",
        "print(myTuplenested)"
      ],
      "metadata": {
        "colab": {
          "base_uri": "https://localhost:8080/"
        },
        "id": "MMKE28OMb-ai",
        "outputId": "8f56448e-dfd8-4ab7-c013-75847deaac3a"
      },
      "execution_count": 14,
      "outputs": [
        {
          "output_type": "stream",
          "name": "stdout",
          "text": [
            "(((1, 2, 3), 4, 5, 6), 7, 8, 9, 10)\n"
          ]
        }
      ]
    },
    {
      "cell_type": "code",
      "source": [
        "myTuplenested[0][0][2]"
      ],
      "metadata": {
        "colab": {
          "base_uri": "https://localhost:8080/"
        },
        "id": "FCxk_PkCb-W0",
        "outputId": "5e890a52-19ef-4258-ae8d-1fe858835a31"
      },
      "execution_count": 18,
      "outputs": [
        {
          "output_type": "execute_result",
          "data": {
            "text/plain": [
              "3"
            ]
          },
          "metadata": {},
          "execution_count": 18
        }
      ]
    },
    {
      "cell_type": "code",
      "source": [
        "# concatenation of tuples\n",
        "myTuple1=(1,2,3,4,5)\n",
        "myTuple2=(6,7,8,9,10)\n",
        "print(myTuple1+myTuple2)\n",
        "myTuple3=myTuple1+myTuple2\n",
        "print(myTuple3)"
      ],
      "metadata": {
        "colab": {
          "base_uri": "https://localhost:8080/"
        },
        "id": "bXnJ26s6b9pu",
        "outputId": "3356bcbd-7b47-4937-c596-fc01528876ba"
      },
      "execution_count": 20,
      "outputs": [
        {
          "output_type": "stream",
          "name": "stdout",
          "text": [
            "(1, 2, 3, 4, 5, 6, 7, 8, 9, 10)\n",
            "(1, 2, 3, 4, 5, 6, 7, 8, 9, 10)\n"
          ]
        }
      ]
    },
    {
      "cell_type": "code",
      "source": [
        "# Repeat multiple times using * operator\n",
        "nameTuple=('Amit',)\n",
        "print(nameTuple*5) # creates a new tuple with 5 entries"
      ],
      "metadata": {
        "colab": {
          "base_uri": "https://localhost:8080/"
        },
        "id": "1ZTSpLfteDvT",
        "outputId": "5f19871f-eed2-4b87-d6a5-530c12688426"
      },
      "execution_count": 21,
      "outputs": [
        {
          "output_type": "stream",
          "name": "stdout",
          "text": [
            "('Amit', 'Amit', 'Amit', 'Amit', 'Amit')\n"
          ]
        }
      ]
    },
    {
      "cell_type": "code",
      "source": [
        "#Deleting from tuple\n",
        "#Since tuple is immutable, elements cannot be deleted one by one, we use del key to delete entire tuple\n",
        "myTuple=('Amit','Ajit','Sujit','Rachit','Sanchit')\n",
        "del myTuple\n",
        "print(myTuple)"
      ],
      "metadata": {
        "colab": {
          "base_uri": "https://localhost:8080/",
          "height": 176
        },
        "id": "I_pWcA7keUdD",
        "outputId": "2389459e-e8a2-4a07-aecb-20c557bf8cbe"
      },
      "execution_count": 22,
      "outputs": [
        {
          "output_type": "error",
          "ename": "NameError",
          "evalue": "name 'myTuple' is not defined",
          "traceback": [
            "\u001b[0;31m---------------------------------------------------------------------------\u001b[0m",
            "\u001b[0;31mNameError\u001b[0m                                 Traceback (most recent call last)",
            "\u001b[0;32m/tmp/ipython-input-2256466667.py\u001b[0m in \u001b[0;36m<cell line: 0>\u001b[0;34m()\u001b[0m\n\u001b[1;32m      3\u001b[0m \u001b[0mmyTuple\u001b[0m\u001b[0;34m=\u001b[0m\u001b[0;34m(\u001b[0m\u001b[0;34m'Amit'\u001b[0m\u001b[0;34m,\u001b[0m\u001b[0;34m'Ajit'\u001b[0m\u001b[0;34m,\u001b[0m\u001b[0;34m'Sujit'\u001b[0m\u001b[0;34m,\u001b[0m\u001b[0;34m'Rachit'\u001b[0m\u001b[0;34m,\u001b[0m\u001b[0;34m'Sanchit'\u001b[0m\u001b[0;34m)\u001b[0m\u001b[0;34m\u001b[0m\u001b[0;34m\u001b[0m\u001b[0m\n\u001b[1;32m      4\u001b[0m \u001b[0;32mdel\u001b[0m \u001b[0mmyTuple\u001b[0m\u001b[0;34m\u001b[0m\u001b[0;34m\u001b[0m\u001b[0m\n\u001b[0;32m----> 5\u001b[0;31m \u001b[0mprint\u001b[0m\u001b[0;34m(\u001b[0m\u001b[0mmyTuple\u001b[0m\u001b[0;34m)\u001b[0m\u001b[0;34m\u001b[0m\u001b[0;34m\u001b[0m\u001b[0m\n\u001b[0m",
            "\u001b[0;31mNameError\u001b[0m: name 'myTuple' is not defined"
          ]
        }
      ]
    },
    {
      "cell_type": "markdown",
      "source": [
        "###Tuple Functions\n",
        "\n",
        "* Count and index method for searching an item."
      ],
      "metadata": {
        "id": "LSdQZlVqeq84"
      }
    },
    {
      "cell_type": "code",
      "source": [
        "myTuple=('Amit',132,'Amit',100,'Amit',323)\n",
        "myTuple.count('Amit')"
      ],
      "metadata": {
        "colab": {
          "base_uri": "https://localhost:8080/"
        },
        "id": "x0NhtV6BezQL",
        "outputId": "144094eb-64b9-4beb-dfa0-b8ab33aad21a"
      },
      "execution_count": 23,
      "outputs": [
        {
          "output_type": "execute_result",
          "data": {
            "text/plain": [
              "3"
            ]
          },
          "metadata": {},
          "execution_count": 23
        }
      ]
    },
    {
      "cell_type": "code",
      "source": [
        "#index -> Get the index of position of an item\n",
        "myTuple.index('Amit') # returns first item int the tuple"
      ],
      "metadata": {
        "colab": {
          "base_uri": "https://localhost:8080/"
        },
        "id": "7nbQPlXce--J",
        "outputId": "8e4de4df-f17c-4578-9730-31130e9cf72c"
      },
      "execution_count": 24,
      "outputs": [
        {
          "output_type": "execute_result",
          "data": {
            "text/plain": [
              "0"
            ]
          },
          "metadata": {},
          "execution_count": 24
        }
      ]
    },
    {
      "cell_type": "code",
      "source": [
        "myTuple.index('Amit',2,4) # between Starting index 2 and ending index 4"
      ],
      "metadata": {
        "colab": {
          "base_uri": "https://localhost:8080/"
        },
        "id": "RRjOnw4vfPO1",
        "outputId": "01943e44-a81b-4db3-a37c-fa5496f847e6"
      },
      "execution_count": 25,
      "outputs": [
        {
          "output_type": "execute_result",
          "data": {
            "text/plain": [
              "2"
            ]
          },
          "metadata": {},
          "execution_count": 25
        }
      ]
    },
    {
      "cell_type": "markdown",
      "source": [
        "## Set\n",
        "* Set is an unordered collection of items\n",
        "* Every element is unique\n",
        "* Set can be used to perform operations like union, intersection, symmetric difference etc"
      ],
      "metadata": {
        "id": "c9nOHifIfqDg"
      }
    },
    {
      "cell_type": "code",
      "source": [
        "mySet={}  # It will return empty dictionary\n",
        "print(type(mySet))"
      ],
      "metadata": {
        "colab": {
          "base_uri": "https://localhost:8080/"
        },
        "id": "tUHuH413fpLf",
        "outputId": "938f1c2a-170d-4470-a5b4-9cc1aac96450"
      },
      "execution_count": 26,
      "outputs": [
        {
          "output_type": "stream",
          "name": "stdout",
          "text": [
            "<class 'dict'>\n"
          ]
        }
      ]
    },
    {
      "cell_type": "code",
      "source": [
        "mySet=set()  # this is the way to define empty set\n",
        "print(type(mySet))"
      ],
      "metadata": {
        "colab": {
          "base_uri": "https://localhost:8080/"
        },
        "id": "GMlDpvh0hQgy",
        "outputId": "d258cc28-ccc3-4066-9414-f78d0d902c98"
      },
      "execution_count": 27,
      "outputs": [
        {
          "output_type": "stream",
          "name": "stdout",
          "text": [
            "<class 'set'>\n"
          ]
        }
      ]
    },
    {
      "cell_type": "code",
      "source": [
        "mySet={1,2,3,4,5,6,7,8,9,10}\n",
        "print(mySet)"
      ],
      "metadata": {
        "colab": {
          "base_uri": "https://localhost:8080/"
        },
        "id": "Li4qHme1heAR",
        "outputId": "23863a84-f6c2-41e1-c380-edd0e1a36872"
      },
      "execution_count": 28,
      "outputs": [
        {
          "output_type": "stream",
          "name": "stdout",
          "text": [
            "{1, 2, 3, 4, 5, 6, 7, 8, 9, 10}\n"
          ]
        }
      ]
    },
    {
      "cell_type": "code",
      "source": [
        "# we can also convert list into set\n",
        "myList=[1,2,3,3,3,4,5,6,6,6,7,8,9,10]\n",
        "mySet=set(myList)\n",
        "print(mySet) # All the duplicates will be removed while converting list to set"
      ],
      "metadata": {
        "colab": {
          "base_uri": "https://localhost:8080/"
        },
        "id": "YqF4XgyPhjcN",
        "outputId": "f03ac58c-bf97-4ed2-8242-447c09db6ad4"
      },
      "execution_count": 29,
      "outputs": [
        {
          "output_type": "stream",
          "name": "stdout",
          "text": [
            "{1, 2, 3, 4, 5, 6, 7, 8, 9, 10}\n"
          ]
        }
      ]
    },
    {
      "cell_type": "code",
      "source": [
        "# Modification is possible in set as they are mutable\n",
        "mySet.add(11) # It will be added at end of the set\n",
        "print(mySet)"
      ],
      "metadata": {
        "colab": {
          "base_uri": "https://localhost:8080/"
        },
        "id": "ymrtbpGkh51M",
        "outputId": "23f1377f-58d6-4e5b-dcaa-87be4edd4e9e"
      },
      "execution_count": 30,
      "outputs": [
        {
          "output_type": "stream",
          "name": "stdout",
          "text": [
            "{1, 2, 3, 4, 5, 6, 7, 8, 9, 10, 11}\n"
          ]
        }
      ]
    },
    {
      "cell_type": "code",
      "source": [
        "#We can add multiple elements using update method\n",
        "mySet.update([11,12,13,14,15])\n",
        "print(mySet)"
      ],
      "metadata": {
        "colab": {
          "base_uri": "https://localhost:8080/"
        },
        "id": "QnFsx99GiU6m",
        "outputId": "470ee292-4e04-4dc4-95ea-5f931860ed05"
      },
      "execution_count": 32,
      "outputs": [
        {
          "output_type": "stream",
          "name": "stdout",
          "text": [
            "{1, 2, 3, 4, 5, 6, 7, 8, 9, 10, 11, 12, 13, 14, 15}\n"
          ]
        }
      ]
    },
    {
      "cell_type": "code",
      "source": [
        "# Adding a list and a set to the original set\n",
        "mySet.update([16,17,18],{19,20,21})\n",
        "print(mySet)"
      ],
      "metadata": {
        "colab": {
          "base_uri": "https://localhost:8080/"
        },
        "id": "KuLgICp9iUo2",
        "outputId": "296ed7c1-6f5f-48a4-a12f-60264fc768f5"
      },
      "execution_count": 38,
      "outputs": [
        {
          "output_type": "stream",
          "name": "stdout",
          "text": [
            "{1, 2, 3, 4, (1, 2, 3, 4), 16, 17, 18, 19, 20, 21, 111}\n"
          ]
        }
      ]
    },
    {
      "cell_type": "code",
      "source": [
        "mySet.update(1) # int is not iterable element, so unable to update\n",
        "print(mySet)"
      ],
      "metadata": {
        "colab": {
          "base_uri": "https://localhost:8080/",
          "height": 158
        },
        "id": "Wvoiq-b_jGC7",
        "outputId": "cd1ee81d-2615-4275-87c1-9d030b934ae8"
      },
      "execution_count": 34,
      "outputs": [
        {
          "output_type": "error",
          "ename": "TypeError",
          "evalue": "'int' object is not iterable",
          "traceback": [
            "\u001b[0;31m---------------------------------------------------------------------------\u001b[0m",
            "\u001b[0;31mTypeError\u001b[0m                                 Traceback (most recent call last)",
            "\u001b[0;32m/tmp/ipython-input-2520225313.py\u001b[0m in \u001b[0;36m<cell line: 0>\u001b[0;34m()\u001b[0m\n\u001b[0;32m----> 1\u001b[0;31m \u001b[0mmySet\u001b[0m\u001b[0;34m.\u001b[0m\u001b[0mupdate\u001b[0m\u001b[0;34m(\u001b[0m\u001b[0;36m1\u001b[0m\u001b[0;34m)\u001b[0m\u001b[0;34m\u001b[0m\u001b[0;34m\u001b[0m\u001b[0m\n\u001b[0m\u001b[1;32m      2\u001b[0m \u001b[0mprint\u001b[0m\u001b[0;34m(\u001b[0m\u001b[0mmySet\u001b[0m\u001b[0;34m)\u001b[0m\u001b[0;34m\u001b[0m\u001b[0;34m\u001b[0m\u001b[0m\n",
            "\u001b[0;31mTypeError\u001b[0m: 'int' object is not iterable"
          ]
        }
      ]
    },
    {
      "cell_type": "code",
      "source": [
        "mySet.update([111]) # int is not iterable element, so unable to update\n",
        "print(mySet)"
      ],
      "metadata": {
        "colab": {
          "base_uri": "https://localhost:8080/"
        },
        "id": "q842OWfGki99",
        "outputId": "faa11e97-35d8-4b60-ac6b-865402a6c8de"
      },
      "execution_count": 37,
      "outputs": [
        {
          "output_type": "stream",
          "name": "stdout",
          "text": [
            "{(1, 2, 3, 4), 1, 2, 3, 4, 111}\n"
          ]
        }
      ]
    },
    {
      "cell_type": "code",
      "source": [
        "mySet={1,2,3,4,[1,2,3,4],{1,2,3,4}} # list cannot be an element in a set,as it is not hashable\n",
        "print(mySet)"
      ],
      "metadata": {
        "colab": {
          "base_uri": "https://localhost:8080/",
          "height": 158
        },
        "id": "aALrKZUWjFoS",
        "outputId": "eaccd31f-3afa-4d53-8d7b-731d91611f1e"
      },
      "execution_count": 35,
      "outputs": [
        {
          "output_type": "error",
          "ename": "TypeError",
          "evalue": "unhashable type: 'list'",
          "traceback": [
            "\u001b[0;31m---------------------------------------------------------------------------\u001b[0m",
            "\u001b[0;31mTypeError\u001b[0m                                 Traceback (most recent call last)",
            "\u001b[0;32m/tmp/ipython-input-2357412487.py\u001b[0m in \u001b[0;36m<cell line: 0>\u001b[0;34m()\u001b[0m\n\u001b[0;32m----> 1\u001b[0;31m \u001b[0mmySet\u001b[0m\u001b[0;34m=\u001b[0m\u001b[0;34m{\u001b[0m\u001b[0;36m1\u001b[0m\u001b[0;34m,\u001b[0m\u001b[0;36m2\u001b[0m\u001b[0;34m,\u001b[0m\u001b[0;36m3\u001b[0m\u001b[0;34m,\u001b[0m\u001b[0;36m4\u001b[0m\u001b[0;34m,\u001b[0m\u001b[0;34m[\u001b[0m\u001b[0;36m1\u001b[0m\u001b[0;34m,\u001b[0m\u001b[0;36m2\u001b[0m\u001b[0;34m,\u001b[0m\u001b[0;36m3\u001b[0m\u001b[0;34m,\u001b[0m\u001b[0;36m4\u001b[0m\u001b[0;34m]\u001b[0m\u001b[0;34m,\u001b[0m\u001b[0;34m{\u001b[0m\u001b[0;36m1\u001b[0m\u001b[0;34m,\u001b[0m\u001b[0;36m2\u001b[0m\u001b[0;34m,\u001b[0m\u001b[0;36m3\u001b[0m\u001b[0;34m,\u001b[0m\u001b[0;36m4\u001b[0m\u001b[0;34m}\u001b[0m\u001b[0;34m}\u001b[0m\u001b[0;34m\u001b[0m\u001b[0;34m\u001b[0m\u001b[0m\n\u001b[0m\u001b[1;32m      2\u001b[0m \u001b[0mprint\u001b[0m\u001b[0;34m(\u001b[0m\u001b[0mmySet\u001b[0m\u001b[0;34m)\u001b[0m\u001b[0;34m\u001b[0m\u001b[0;34m\u001b[0m\u001b[0m\n",
            "\u001b[0;31mTypeError\u001b[0m: unhashable type: 'list'"
          ]
        }
      ]
    },
    {
      "cell_type": "code",
      "source": [
        "mySet={1,2,3,4,(1,2,3,4)}  # we can have tuples as an element in a set, because it is hashable and iterable\n",
        "print(mySet)"
      ],
      "metadata": {
        "colab": {
          "base_uri": "https://localhost:8080/"
        },
        "id": "IEAXsVLTj7FU",
        "outputId": "0162343d-94d3-4c1b-c5d7-58f05a45d487"
      },
      "execution_count": 36,
      "outputs": [
        {
          "output_type": "stream",
          "name": "stdout",
          "text": [
            "{(1, 2, 3, 4), 1, 2, 3, 4}\n"
          ]
        }
      ]
    },
    {
      "cell_type": "code",
      "source": [
        "mySet={1,2,3,4,5}\n",
        "mySet.update('Sanchit')\n",
        "print(mySet)"
      ],
      "metadata": {
        "colab": {
          "base_uri": "https://localhost:8080/"
        },
        "id": "hkTNw349lLkT",
        "outputId": "2c3d9a12-484c-4763-caf6-8d4968c74fa9"
      },
      "execution_count": 39,
      "outputs": [
        {
          "output_type": "stream",
          "name": "stdout",
          "text": [
            "{1, 2, 3, 4, 5, 'i', 'n', 't', 'S', 'h', 'a', 'c'}\n"
          ]
        }
      ]
    },
    {
      "cell_type": "code",
      "source": [
        "mySet={1,2,3,4,5}\n",
        "mySet.update(['Sanchit'])\n",
        "print(mySet)"
      ],
      "metadata": {
        "colab": {
          "base_uri": "https://localhost:8080/"
        },
        "id": "7lX4J2O-lhgp",
        "outputId": "aa74c41c-e4d3-4cd0-acf5-e16f6646d5c0"
      },
      "execution_count": 40,
      "outputs": [
        {
          "output_type": "stream",
          "name": "stdout",
          "text": [
            "{1, 2, 3, 4, 5, 'Sanchit'}\n"
          ]
        }
      ]
    },
    {
      "cell_type": "code",
      "source": [
        "# Removing elements from Set\n",
        "# remove()  -\n",
        "# discard() - removes said element, but does not raise the KeyError\n",
        "# pop() - remove a random item\n",
        "# clear() - clear the entire set"
      ],
      "metadata": {
        "id": "-mbdqaYulmih"
      },
      "execution_count": null,
      "outputs": []
    },
    {
      "cell_type": "code",
      "source": [
        "mySet={11,12,13,14,15,16,17}\n",
        "print(mySet)"
      ],
      "metadata": {
        "colab": {
          "base_uri": "https://localhost:8080/"
        },
        "id": "LxScqcgpmDG1",
        "outputId": "d7304b7b-c124-42fb-93fc-2ffb1b6827e9"
      },
      "execution_count": 41,
      "outputs": [
        {
          "output_type": "stream",
          "name": "stdout",
          "text": [
            "{16, 17, 11, 12, 13, 14, 15}\n"
          ]
        }
      ]
    },
    {
      "cell_type": "code",
      "source": [
        "mySet.discard(20) # Does not throw any error if element not found\n",
        "print(mySet)"
      ],
      "metadata": {
        "colab": {
          "base_uri": "https://localhost:8080/"
        },
        "id": "_XH19bGnmM6D",
        "outputId": "26a0ada7-ec6a-4651-a964-87e7473333d2"
      },
      "execution_count": 42,
      "outputs": [
        {
          "output_type": "stream",
          "name": "stdout",
          "text": [
            "{16, 17, 11, 12, 13, 14, 15}\n"
          ]
        }
      ]
    },
    {
      "cell_type": "code",
      "source": [
        "mySet.pop() # Removes random value\n"
      ],
      "metadata": {
        "colab": {
          "base_uri": "https://localhost:8080/"
        },
        "id": "dS8JMWLDmZTs",
        "outputId": "cc6d1330-3f85-4b8d-fe73-33112d77b1cd"
      },
      "execution_count": 44,
      "outputs": [
        {
          "output_type": "execute_result",
          "data": {
            "text/plain": [
              "17"
            ]
          },
          "metadata": {},
          "execution_count": 44
        }
      ]
    },
    {
      "cell_type": "code",
      "source": [
        "print(mySet)"
      ],
      "metadata": {
        "colab": {
          "base_uri": "https://localhost:8080/"
        },
        "id": "Kxgb3X6imksg",
        "outputId": "b46d663b-f684-452d-8262-b4007ba7a0a2"
      },
      "execution_count": 45,
      "outputs": [
        {
          "output_type": "stream",
          "name": "stdout",
          "text": [
            "{11, 12, 13, 14, 15}\n"
          ]
        }
      ]
    },
    {
      "cell_type": "code",
      "source": [
        "mySet.clear()\n",
        "print(mySet)"
      ],
      "metadata": {
        "colab": {
          "base_uri": "https://localhost:8080/"
        },
        "id": "GwMNq_4umoKj",
        "outputId": "2943ea9b-0c4b-40ae-ee8a-e38a3654dc8b"
      },
      "execution_count": 46,
      "outputs": [
        {
          "output_type": "stream",
          "name": "stdout",
          "text": [
            "set()\n"
          ]
        }
      ]
    },
    {
      "cell_type": "code",
      "source": [
        "# Set Operations\n",
        "mySet1={1,2,3,4,5}\n",
        "mySet2={4,5,6,7,8,11,22,33}\n",
        "print(mySet1.union(mySet2)) # Returns all unique values after combining two sets"
      ],
      "metadata": {
        "colab": {
          "base_uri": "https://localhost:8080/"
        },
        "id": "KzaL_t2Bms-O",
        "outputId": "092098de-a181-4961-8048-bc21e6fb7eb6"
      },
      "execution_count": 47,
      "outputs": [
        {
          "output_type": "stream",
          "name": "stdout",
          "text": [
            "{1, 2, 3, 4, 5, 33, 6, 7, 8, 11, 22}\n"
          ]
        }
      ]
    },
    {
      "cell_type": "code",
      "source": [
        "print(mySet1.intersection(mySet2)) # Return common element of two sets"
      ],
      "metadata": {
        "colab": {
          "base_uri": "https://localhost:8080/"
        },
        "id": "dOb2cqkenH1I",
        "outputId": "7fc0871d-9fa7-45ed-9b36-43360059b2b9"
      },
      "execution_count": 48,
      "outputs": [
        {
          "output_type": "stream",
          "name": "stdout",
          "text": [
            "{4, 5}\n"
          ]
        }
      ]
    },
    {
      "cell_type": "code",
      "source": [
        "print(mySet1.symmetric_difference(mySet2)) # Return everything apart from common items among sets"
      ],
      "metadata": {
        "colab": {
          "base_uri": "https://localhost:8080/"
        },
        "id": "jRIOjHs3nUaH",
        "outputId": "b08d8b09-c2e5-4327-d9da-696ac0873495"
      },
      "execution_count": 49,
      "outputs": [
        {
          "output_type": "stream",
          "name": "stdout",
          "text": [
            "{33, 1, 2, 6, 7, 8, 3, 11, 22}\n"
          ]
        }
      ]
    },
    {
      "cell_type": "markdown",
      "source": [
        "As tuples are immutable lists. Similarly, frozensets are immutable sets"
      ],
      "metadata": {
        "id": "7qbIaqF2nn4I"
      }
    },
    {
      "cell_type": "code",
      "source": [
        "# Frozensets support method like copy(), difference(), intersection(), issubset(), issuperset(), symmetric_difference() and union()\n",
        "myFSet1=frozenset([1,2,3,4,5,6,7,8,9])\n",
        "myFSet2=frozenset([11,22,7,8,9,22,33])\n",
        "print(myFSet1.union(myFSet2))\n",
        "print(myFSet1.intersection(myFSet2))\n",
        "print(myFSet1.symmetric_difference(myFSet2))\n",
        "print(myFSet1.difference(myFSet2))\n",
        "print(myFSet1.isdisjoint(myFSet2))\n",
        "print(myFSet1.issubset(myFSet2))\n",
        "print(myFSet1.issuperset(myFSet2))"
      ],
      "metadata": {
        "colab": {
          "base_uri": "https://localhost:8080/"
        },
        "id": "Rgtm-kJvnxVj",
        "outputId": "882e3c97-da2b-4b79-99d3-595f3b3d9e00"
      },
      "execution_count": 52,
      "outputs": [
        {
          "output_type": "stream",
          "name": "stdout",
          "text": [
            "frozenset({1, 2, 3, 4, 5, 6, 7, 8, 9, 33, 11, 22})\n",
            "frozenset({8, 9, 7})\n",
            "frozenset({1, 2, 3, 4, 5, 6, 11, 22, 33})\n",
            "frozenset({1, 2, 3, 4, 5, 6})\n",
            "False\n",
            "False\n",
            "False\n"
          ]
        }
      ]
    },
    {
      "cell_type": "code",
      "source": [
        "myFSet1.add(20)"
      ],
      "metadata": {
        "colab": {
          "base_uri": "https://localhost:8080/",
          "height": 141
        },
        "id": "7PBj2B4SpRqj",
        "outputId": "d01a581d-0473-4d03-b463-2d168ce3c8a3"
      },
      "execution_count": 53,
      "outputs": [
        {
          "output_type": "error",
          "ename": "AttributeError",
          "evalue": "'frozenset' object has no attribute 'add'",
          "traceback": [
            "\u001b[0;31m---------------------------------------------------------------------------\u001b[0m",
            "\u001b[0;31mAttributeError\u001b[0m                            Traceback (most recent call last)",
            "\u001b[0;32m/tmp/ipython-input-3774450023.py\u001b[0m in \u001b[0;36m<cell line: 0>\u001b[0;34m()\u001b[0m\n\u001b[0;32m----> 1\u001b[0;31m \u001b[0mmyFSet1\u001b[0m\u001b[0;34m.\u001b[0m\u001b[0madd\u001b[0m\u001b[0;34m(\u001b[0m\u001b[0;36m20\u001b[0m\u001b[0;34m)\u001b[0m\u001b[0;34m\u001b[0m\u001b[0;34m\u001b[0m\u001b[0m\n\u001b[0m",
            "\u001b[0;31mAttributeError\u001b[0m: 'frozenset' object has no attribute 'add'"
          ]
        }
      ]
    },
    {
      "cell_type": "markdown",
      "source": [
        "## Dictionary\n",
        "*It is an unordered collection of items\n",
        "*Dictionary has key and value"
      ],
      "metadata": {
        "id": "7nmAt0b1pVvQ"
      }
    },
    {
      "cell_type": "code",
      "source": [
        "myDict={}\n",
        "print(type(myDict))"
      ],
      "metadata": {
        "colab": {
          "base_uri": "https://localhost:8080/"
        },
        "id": "031s1pcVuP9z",
        "outputId": "20f1b86b-1a7e-4710-deaf-5a406e908c16"
      },
      "execution_count": 54,
      "outputs": [
        {
          "output_type": "stream",
          "name": "stdout",
          "text": [
            "<class 'dict'>\n"
          ]
        }
      ]
    },
    {
      "cell_type": "code",
      "source": [
        "myDict={'key1':\"value1\",'key2':\"value2\", 'key3':'value3'}\n",
        "print(myDict)"
      ],
      "metadata": {
        "colab": {
          "base_uri": "https://localhost:8080/"
        },
        "id": "2oDlElUDuV_k",
        "outputId": "aca026c3-4ef8-4e5d-82fc-da2be7c5f665"
      },
      "execution_count": 56,
      "outputs": [
        {
          "output_type": "stream",
          "name": "stdout",
          "text": [
            "{'key1': 'value1', 'key2': 'value2', 'key3': 'value3'}\n"
          ]
        }
      ]
    },
    {
      "cell_type": "code",
      "source": [
        "myDict= dict(key1='value1',key2='value2',key3='value3')\n",
        "print(myDict)"
      ],
      "metadata": {
        "colab": {
          "base_uri": "https://localhost:8080/"
        },
        "id": "_6x6W01vuw1R",
        "outputId": "11b11fe0-ebb3-4002-d826-b703259ebc2d"
      },
      "execution_count": 58,
      "outputs": [
        {
          "output_type": "stream",
          "name": "stdout",
          "text": [
            "{'key1': 'value1', 'key2': 'value2', 'key3': 'value3'}\n"
          ]
        }
      ]
    },
    {
      "cell_type": "code",
      "source": [
        "myDict={1:'value1',2:'value2',3:'value3'}\n",
        "print(myDict)"
      ],
      "metadata": {
        "colab": {
          "base_uri": "https://localhost:8080/"
        },
        "id": "IKFXvyi_vBln",
        "outputId": "a2abfa02-a618-49ed-9849-28a2583074f3"
      },
      "execution_count": 59,
      "outputs": [
        {
          "output_type": "stream",
          "name": "stdout",
          "text": [
            "{1: 'value1', 2: 'value2', 3: 'value3'}\n"
          ]
        }
      ]
    },
    {
      "cell_type": "code",
      "source": [
        "myDict=dict([(1,'Amit'),(2,'Ajit'),(3,'Sujit')])\n",
        "print(myDict)"
      ],
      "metadata": {
        "colab": {
          "base_uri": "https://localhost:8080/"
        },
        "id": "3ens8bzKuqTD",
        "outputId": "f83debda-bc03-4fcb-ee14-883749c5668b"
      },
      "execution_count": 57,
      "outputs": [
        {
          "output_type": "stream",
          "name": "stdout",
          "text": [
            "{1: 'Amit', 2: 'Ajit', 3: 'Sujit'}\n"
          ]
        }
      ]
    },
    {
      "cell_type": "code",
      "source": [
        "myDict['key4'] = 'value4'"
      ],
      "metadata": {
        "id": "5Hh6YJ_DvOzA"
      },
      "execution_count": 60,
      "outputs": []
    },
    {
      "cell_type": "code",
      "source": [
        "print(myDict)"
      ],
      "metadata": {
        "colab": {
          "base_uri": "https://localhost:8080/"
        },
        "id": "0tGTn1CVvXAo",
        "outputId": "2ec833f9-3241-4e78-b7a8-4a81dfff0108"
      },
      "execution_count": 61,
      "outputs": [
        {
          "output_type": "stream",
          "name": "stdout",
          "text": [
            "{1: 'value1', 2: 'value2', 3: 'value3', 'key4': 'value4'}\n"
          ]
        }
      ]
    },
    {
      "cell_type": "code",
      "source": [
        "myDict['key4'] = 4\n",
        "print(myDict)"
      ],
      "metadata": {
        "colab": {
          "base_uri": "https://localhost:8080/"
        },
        "id": "OrMjGo_KvgtC",
        "outputId": "6f6795cf-cd22-4c78-a586-365e9b950391"
      },
      "execution_count": 62,
      "outputs": [
        {
          "output_type": "stream",
          "name": "stdout",
          "text": [
            "{1: 'value1', 2: 'value2', 3: 'value3', 'key4': 4}\n"
          ]
        }
      ]
    },
    {
      "cell_type": "code",
      "source": [
        "print(myDict.pop('key4'))"
      ],
      "metadata": {
        "colab": {
          "base_uri": "https://localhost:8080/"
        },
        "id": "avH9V207v6Sf",
        "outputId": "6a3dca83-93cc-4929-ba93-fd1dd2f1e788"
      },
      "execution_count": 63,
      "outputs": [
        {
          "output_type": "stream",
          "name": "stdout",
          "text": [
            "4\n"
          ]
        }
      ]
    },
    {
      "cell_type": "code",
      "source": [
        "print(myDict)"
      ],
      "metadata": {
        "colab": {
          "base_uri": "https://localhost:8080/"
        },
        "id": "Nmt-G1hPwDuq",
        "outputId": "6d929f5f-8ae9-4444-8f75-f4c8583cbfb6"
      },
      "execution_count": 64,
      "outputs": [
        {
          "output_type": "stream",
          "name": "stdout",
          "text": [
            "{1: 'value1', 2: 'value2', 3: 'value3'}\n"
          ]
        }
      ]
    },
    {
      "cell_type": "code",
      "source": [
        "myDict.clear()\n",
        "print(myDict)"
      ],
      "metadata": {
        "colab": {
          "base_uri": "https://localhost:8080/"
        },
        "id": "0c9p3e_nwGhh",
        "outputId": "258039c0-8cb6-4718-8b44-7b0a6237e22b"
      },
      "execution_count": 65,
      "outputs": [
        {
          "output_type": "stream",
          "name": "stdout",
          "text": [
            "{}\n"
          ]
        }
      ]
    },
    {
      "cell_type": "code",
      "source": [
        "del myDict # deleted entire dictionary\n",
        "print(myDict)"
      ],
      "metadata": {
        "colab": {
          "base_uri": "https://localhost:8080/",
          "height": 158
        },
        "id": "Laoe5sS-wLfh",
        "outputId": "567fe84f-fd5f-489e-ae6d-daa7fc1f7d51"
      },
      "execution_count": 66,
      "outputs": [
        {
          "output_type": "error",
          "ename": "NameError",
          "evalue": "name 'myDict' is not defined",
          "traceback": [
            "\u001b[0;31m---------------------------------------------------------------------------\u001b[0m",
            "\u001b[0;31mNameError\u001b[0m                                 Traceback (most recent call last)",
            "\u001b[0;32m/tmp/ipython-input-3495660079.py\u001b[0m in \u001b[0;36m<cell line: 0>\u001b[0;34m()\u001b[0m\n\u001b[1;32m      1\u001b[0m \u001b[0;32mdel\u001b[0m \u001b[0mmyDict\u001b[0m\u001b[0;34m\u001b[0m\u001b[0;34m\u001b[0m\u001b[0m\n\u001b[0;32m----> 2\u001b[0;31m \u001b[0mprint\u001b[0m\u001b[0;34m(\u001b[0m\u001b[0mmyDict\u001b[0m\u001b[0;34m)\u001b[0m\u001b[0;34m\u001b[0m\u001b[0;34m\u001b[0m\u001b[0m\n\u001b[0m",
            "\u001b[0;31mNameError\u001b[0m: name 'myDict' is not defined"
          ]
        }
      ]
    },
    {
      "cell_type": "code",
      "source": [
        "#Dictionary Methods\n",
        "myDict={'key1':\"value1\",'key2':\"value2\", 'key3':'value3'}\n",
        "myDict1=myDict.copy()\n",
        "print(myDict1)"
      ],
      "metadata": {
        "colab": {
          "base_uri": "https://localhost:8080/"
        },
        "id": "anrbcgsfwcHK",
        "outputId": "5141c0ec-d3df-4b07-ad29-a4359adab024"
      },
      "execution_count": 67,
      "outputs": [
        {
          "output_type": "stream",
          "name": "stdout",
          "text": [
            "{'key1': 'value1', 'key2': 'value2', 'key3': 'value3'}\n"
          ]
        }
      ]
    },
    {
      "cell_type": "code",
      "source": [
        "myDict['key4']='value4'\n",
        "myDict"
      ],
      "metadata": {
        "colab": {
          "base_uri": "https://localhost:8080/"
        },
        "id": "V4UjjceGwbta",
        "outputId": "7bb30aad-f28e-4d8d-c5c1-a65eb289646e"
      },
      "execution_count": 68,
      "outputs": [
        {
          "output_type": "execute_result",
          "data": {
            "text/plain": [
              "{'key1': 'value1', 'key2': 'value2', 'key3': 'value3', 'key4': 'value4'}"
            ]
          },
          "metadata": {},
          "execution_count": 68
        }
      ]
    },
    {
      "cell_type": "code",
      "source": [
        "varDict = {2:4,3:9,4:16,5:25}\n",
        "print(varDict)\n",
        "print(varDict.items())"
      ],
      "metadata": {
        "colab": {
          "base_uri": "https://localhost:8080/"
        },
        "id": "55YPYV_QzfAl",
        "outputId": "0815cd4e-3971-4f52-8669-e94530332908"
      },
      "execution_count": 70,
      "outputs": [
        {
          "output_type": "stream",
          "name": "stdout",
          "text": [
            "{2: 4, 3: 9, 4: 16, 5: 25}\n",
            "dict_items([(2, 4), (3, 9), (4, 16), (5, 25)])\n"
          ]
        }
      ]
    },
    {
      "cell_type": "code",
      "source": [
        "for key,value in varDict.items():\n",
        "  print(key,value)"
      ],
      "metadata": {
        "colab": {
          "base_uri": "https://localhost:8080/"
        },
        "id": "jdUu1ofQzy86",
        "outputId": "aa7865cd-f748-44ef-822d-b39e153c9da7"
      },
      "execution_count": 71,
      "outputs": [
        {
          "output_type": "stream",
          "name": "stdout",
          "text": [
            "2 4\n",
            "3 9\n",
            "4 16\n",
            "5 25\n"
          ]
        }
      ]
    },
    {
      "cell_type": "code",
      "source": [
        "[(key,value) for key,value in varDict.items()][0]"
      ],
      "metadata": {
        "colab": {
          "base_uri": "https://localhost:8080/"
        },
        "id": "d9cTGlek0DJh",
        "outputId": "a33f8514-0626-4ce1-c250-d2f427bdb22b"
      },
      "execution_count": 72,
      "outputs": [
        {
          "output_type": "execute_result",
          "data": {
            "text/plain": [
              "(2, 4)"
            ]
          },
          "metadata": {},
          "execution_count": 72
        }
      ]
    },
    {
      "cell_type": "code",
      "source": [
        "varDict.keys()"
      ],
      "metadata": {
        "colab": {
          "base_uri": "https://localhost:8080/"
        },
        "id": "6a8Xpbmo0Ohd",
        "outputId": "cfb1934e-0af0-4118-9af4-5c41cce06d0f"
      },
      "execution_count": 74,
      "outputs": [
        {
          "output_type": "execute_result",
          "data": {
            "text/plain": [
              "dict_keys([2, 3, 4, 5])"
            ]
          },
          "metadata": {},
          "execution_count": 74
        }
      ]
    },
    {
      "cell_type": "code",
      "source": [
        "[ i for i in varDict.keys()]"
      ],
      "metadata": {
        "colab": {
          "base_uri": "https://localhost:8080/"
        },
        "id": "HRq8xd9n0OXB",
        "outputId": "91f5addd-13e9-4363-b0a4-95e14837bbbf"
      },
      "execution_count": 75,
      "outputs": [
        {
          "output_type": "execute_result",
          "data": {
            "text/plain": [
              "[2, 3, 4, 5]"
            ]
          },
          "metadata": {},
          "execution_count": 75
        }
      ]
    },
    {
      "cell_type": "code",
      "source": [
        "varDict.values()"
      ],
      "metadata": {
        "colab": {
          "base_uri": "https://localhost:8080/"
        },
        "id": "9kaB6Vx40c2E",
        "outputId": "4689f289-7f5d-4449-ae5b-18d5582f6171"
      },
      "execution_count": 76,
      "outputs": [
        {
          "output_type": "execute_result",
          "data": {
            "text/plain": [
              "dict_values([4, 9, 16, 25])"
            ]
          },
          "metadata": {},
          "execution_count": 76
        }
      ]
    },
    {
      "cell_type": "code",
      "source": [
        "fruits = {'apple':100, 'banana':200, 'grapes':300, 'pineapple':400}\n",
        "# using dictionary comprehension print dictionary items as list wehre the stock is greater then 200\n",
        "{key:value for key,value in fruits.items() if value>200}\n",
        "[(key,value) for key,value in fruits.items() if value>200]"
      ],
      "metadata": {
        "colab": {
          "base_uri": "https://localhost:8080/"
        },
        "id": "vXmq9gMf0hDH",
        "outputId": "229722ff-2f67-4d9b-da79-430fbd870532"
      },
      "execution_count": 79,
      "outputs": [
        {
          "output_type": "execute_result",
          "data": {
            "text/plain": [
              "[('grapes', 300), ('pineapple', 400)]"
            ]
          },
          "metadata": {},
          "execution_count": 79
        }
      ]
    }
  ]
}