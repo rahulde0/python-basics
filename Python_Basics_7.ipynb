{
  "nbformat": 4,
  "nbformat_minor": 0,
  "metadata": {
    "colab": {
      "provenance": [],
      "authorship_tag": "ABX9TyP+aIFlMECiFsWbRUopDdz0",
      "include_colab_link": true
    },
    "kernelspec": {
      "name": "python3",
      "display_name": "Python 3"
    },
    "language_info": {
      "name": "python"
    }
  },
  "cells": [
    {
      "cell_type": "markdown",
      "metadata": {
        "id": "view-in-github",
        "colab_type": "text"
      },
      "source": [
        "<a href=\"https://colab.research.google.com/github/rahulde0/python-basics/blob/main/Python_Basics_7.ipynb\" target=\"_parent\"><img src=\"https://colab.research.google.com/assets/colab-badge.svg\" alt=\"Open In Colab\"/></a>"
      ]
    },
    {
      "cell_type": "markdown",
      "source": [
        "1D Array, 2D Array, 3D Array"
      ],
      "metadata": {
        "id": "dyC-q9p_HMzr"
      }
    },
    {
      "cell_type": "code",
      "source": [
        "# Creating 1D, 2D, and 3D NumPy arrays\n",
        "import numpy as np\n",
        "print(\"1 D Array\")\n",
        "array_1d = np.array([5,4,3,6,7,8,6,8,9])\n",
        "print(array_1d[0])\n",
        "print(array_1d[4])\n",
        "print(array_1d[-1])\n",
        "print(array_1d[2:5])\n",
        "print(array_1d[:4])\n",
        "print(array_1d[1:-1])\n",
        "print(array_1d[-4:-1])\n",
        "len(array_1d)\n",
        "print(array_1d.sum())\n",
        "\n",
        "print(\"2 D Array\")\n",
        "array_2d = np.array([[1,2,3,4], [5,6,7,8], [2,3,1,10]])\n",
        "print(array_2d)\n",
        "print(array_2d.shape) # 3rows, 4columns\n",
        "print(array_2d[2][3])\n",
        "print(array_2d[2,3])\n",
        "print(array_2d[-2][-1])\n",
        "print(array_2d[-2,-1])\n",
        "print(array_2d[2][-1])\n",
        "print(array_2d[:,2])\n",
        "print(array_2d[1:-1,2])\n",
        "print(array_2d[1:-1][0][2])\n",
        "print(array_2d[1:-1,:-1])\n",
        "\n",
        "print(\"\\n3 D Array\")\n",
        "array_3d = np.array([[[1, 2, 3], [4, 5, 6]], [[40, 50, 60], [70, 80, 30]],  [[41, 51, 61], [71, 81, 31]],  [[19, 29, 39], [49, 59, 69]]])\n",
        "print(array_3d)\n",
        "print(array_3d.shape)\n",
        "print(array_3d[-1,-2,-2])\n",
        "print(array_3d[2,1,1])\n",
        "print(array_3d[1:,1:,1:])\n",
        "print(array_3d[:-1,1:,:-1].shape)"
      ],
      "metadata": {
        "colab": {
          "base_uri": "https://localhost:8080/"
        },
        "id": "2e2GRZpLHSfS",
        "outputId": "7e229462-8180-4e5c-e5f1-3be61c4d9e0b"
      },
      "execution_count": 1,
      "outputs": [
        {
          "output_type": "stream",
          "name": "stdout",
          "text": [
            "1 D Array\n",
            "5\n",
            "7\n",
            "9\n",
            "[3 6 7]\n",
            "[5 4 3 6]\n",
            "[4 3 6 7 8 6 8]\n",
            "[8 6 8]\n",
            "56\n",
            "2 D Array\n",
            "[[ 1  2  3  4]\n",
            " [ 5  6  7  8]\n",
            " [ 2  3  1 10]]\n",
            "(3, 4)\n",
            "10\n",
            "10\n",
            "8\n",
            "8\n",
            "10\n",
            "[3 7 1]\n",
            "[7]\n",
            "7\n",
            "[[5 6 7]]\n",
            "\n",
            "3 D Array\n",
            "[[[ 1  2  3]\n",
            "  [ 4  5  6]]\n",
            "\n",
            " [[40 50 60]\n",
            "  [70 80 30]]\n",
            "\n",
            " [[41 51 61]\n",
            "  [71 81 31]]\n",
            "\n",
            " [[19 29 39]\n",
            "  [49 59 69]]]\n",
            "(4, 2, 3)\n",
            "29\n",
            "81\n",
            "[[[80 30]]\n",
            "\n",
            " [[81 31]]\n",
            "\n",
            " [[59 69]]]\n",
            "(3, 1, 2)\n"
          ]
        }
      ]
    },
    {
      "cell_type": "code",
      "source": [],
      "metadata": {
        "id": "jIaAScovHUtv"
      },
      "execution_count": null,
      "outputs": []
    }
  ]
}