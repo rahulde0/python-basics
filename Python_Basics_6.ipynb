{
  "nbformat": 4,
  "nbformat_minor": 0,
  "metadata": {
    "colab": {
      "provenance": [],
      "authorship_tag": "ABX9TyOKMDjWY6ZV/SdpVRWwHznS",
      "include_colab_link": true
    },
    "kernelspec": {
      "name": "python3",
      "display_name": "Python 3"
    },
    "language_info": {
      "name": "python"
    }
  },
  "cells": [
    {
      "cell_type": "markdown",
      "metadata": {
        "id": "view-in-github",
        "colab_type": "text"
      },
      "source": [
        "<a href=\"https://colab.research.google.com/github/rahulde0/python-basics/blob/main/Python_Basics_6.ipynb\" target=\"_parent\"><img src=\"https://colab.research.google.com/assets/colab-badge.svg\" alt=\"Open In Colab\"/></a>"
      ]
    },
    {
      "cell_type": "code",
      "execution_count": null,
      "metadata": {
        "id": "i9-1HyAv1jJV"
      },
      "outputs": [],
      "source": []
    },
    {
      "cell_type": "markdown",
      "source": [
        "## Functions\n",
        "* A group of related statements that perform a specific task is called a Function.\n",
        "* Function helps in modularizing code, oraganized and easy to maintain, reusability"
      ],
      "metadata": {
        "id": "k1Z7SRK42-Tv"
      }
    },
    {
      "cell_type": "code",
      "source": [
        "def sumOfNumbers(numbers):\n",
        "  sum=0\n",
        "  for number in numbers:\n",
        "    sum+=number\n",
        "  return sum\n",
        "\n",
        "sumOfNumbers([1,2,3,4,5])"
      ],
      "metadata": {
        "colab": {
          "base_uri": "https://localhost:8080/"
        },
        "id": "UnrCZjK03Z3T",
        "outputId": "4aa7e49b-5876-45cd-a1ef-7e61fb18f47b"
      },
      "execution_count": 2,
      "outputs": [
        {
          "output_type": "execute_result",
          "data": {
            "text/plain": [
              "15"
            ]
          },
          "metadata": {},
          "execution_count": 2
        }
      ]
    },
    {
      "cell_type": "markdown",
      "source": [
        "Built-In Functions"
      ],
      "metadata": {
        "id": "Z4iVJF-Y38_E"
      }
    },
    {
      "cell_type": "code",
      "source": [
        "#abs()\n",
        "varInt=-100\n",
        "print(abs(varInt))"
      ],
      "metadata": {
        "colab": {
          "base_uri": "https://localhost:8080/"
        },
        "id": "vuL0NCng4Bd2",
        "outputId": "8b40fa61-da04-496a-dd12-7a395451a3a3"
      },
      "execution_count": 3,
      "outputs": [
        {
          "output_type": "stream",
          "name": "stdout",
          "text": [
            "100\n"
          ]
        }
      ]
    },
    {
      "cell_type": "code",
      "source": [
        "#all() - Returns true when all the values inside all() function are true\n",
        "varList = [1,2,3,4,5]\n",
        "print(all(varList))"
      ],
      "metadata": {
        "colab": {
          "base_uri": "https://localhost:8080/"
        },
        "id": "6bod9Y6x4MhH",
        "outputId": "8504d75d-d9e5-4e54-8d05-28b1858cdef3"
      },
      "execution_count": 4,
      "outputs": [
        {
          "output_type": "stream",
          "name": "stdout",
          "text": [
            "True\n"
          ]
        }
      ]
    },
    {
      "cell_type": "code",
      "source": [
        "varList = [1,2,3,4,5,0]\n",
        "print(all(varList))"
      ],
      "metadata": {
        "colab": {
          "base_uri": "https://localhost:8080/"
        },
        "id": "ngA0QLKV4dPZ",
        "outputId": "3d15c400-f829-4f07-c963-b8265b3a76e9"
      },
      "execution_count": 5,
      "outputs": [
        {
          "output_type": "stream",
          "name": "stdout",
          "text": [
            "False\n"
          ]
        }
      ]
    },
    {
      "cell_type": "code",
      "source": [
        "# dir()\n",
        "number =[1,2,3,4,5]\n",
        "print(dir(number))\n",
        "\n",
        "# use all functions returned by dir on number\n"
      ],
      "metadata": {
        "colab": {
          "base_uri": "https://localhost:8080/"
        },
        "id": "E0L25WFM4hAk",
        "outputId": "b4620f47-0fc0-4fb4-be4a-0871b371e51e"
      },
      "execution_count": 6,
      "outputs": [
        {
          "output_type": "stream",
          "name": "stdout",
          "text": [
            "['__add__', '__class__', '__class_getitem__', '__contains__', '__delattr__', '__delitem__', '__dir__', '__doc__', '__eq__', '__format__', '__ge__', '__getattribute__', '__getitem__', '__getstate__', '__gt__', '__hash__', '__iadd__', '__imul__', '__init__', '__init_subclass__', '__iter__', '__le__', '__len__', '__lt__', '__mul__', '__ne__', '__new__', '__reduce__', '__reduce_ex__', '__repr__', '__reversed__', '__rmul__', '__setattr__', '__setitem__', '__sizeof__', '__str__', '__subclasshook__', 'append', 'clear', 'copy', 'count', 'extend', 'index', 'insert', 'pop', 'remove', 'reverse', 'sort']\n"
          ]
        }
      ]
    },
    {
      "cell_type": "code",
      "source": [
        "# divmod() - returns both quotient and remainder\n",
        "print(divmod(9,2)) # type is tuple"
      ],
      "metadata": {
        "colab": {
          "base_uri": "https://localhost:8080/"
        },
        "id": "SfYBe85f40Ky",
        "outputId": "e4be8edf-00d2-43ac-e77d-480760a41022"
      },
      "execution_count": 7,
      "outputs": [
        {
          "output_type": "stream",
          "name": "stdout",
          "text": [
            "(4, 1)\n"
          ]
        }
      ]
    },
    {
      "cell_type": "code",
      "source": [
        "# Enumerate - returns index and it's value\n",
        "myList=[1,2,3,4,5,6,7,8,9,10]\n",
        "for value in enumerate(myList):\n",
        "  print(value)"
      ],
      "metadata": {
        "colab": {
          "base_uri": "https://localhost:8080/"
        },
        "id": "rm3xRX445Zjg",
        "outputId": "322a67d4-6c08-4141-dab6-fa44f14fa53b"
      },
      "execution_count": 8,
      "outputs": [
        {
          "output_type": "stream",
          "name": "stdout",
          "text": [
            "(0, 1)\n",
            "(1, 2)\n",
            "(2, 3)\n",
            "(3, 4)\n",
            "(4, 5)\n",
            "(5, 6)\n",
            "(6, 7)\n",
            "(7, 8)\n",
            "(8, 9)\n",
            "(9, 10)\n"
          ]
        }
      ]
    },
    {
      "cell_type": "code",
      "source": [
        "# filter - condition check\n",
        "# WAP to return even number from the list.\n",
        "def even_check(num):\n",
        "  if num%2==0:\n",
        "    return num"
      ],
      "metadata": {
        "id": "tLnavaJu5wAy"
      },
      "execution_count": 9,
      "outputs": []
    },
    {
      "cell_type": "code",
      "source": [
        "print(even_check(1)) # boolean of None is False"
      ],
      "metadata": {
        "colab": {
          "base_uri": "https://localhost:8080/"
        },
        "id": "4b_JDU3H64Ih",
        "outputId": "2a746ec8-9519-4fb4-9c76-b7dcf261f0a9"
      },
      "execution_count": 11,
      "outputs": [
        {
          "output_type": "stream",
          "name": "stdout",
          "text": [
            "None\n"
          ]
        }
      ]
    },
    {
      "cell_type": "code",
      "source": [
        "myList=[1,2,3,4,5,6,7,8,9,10]\n",
        "list(filter(even_check,myList))"
      ],
      "metadata": {
        "colab": {
          "base_uri": "https://localhost:8080/"
        },
        "id": "oPWGoQKn7FXQ",
        "outputId": "064c77fe-7e56-4ac2-d74f-cee2f6c6e1d4"
      },
      "execution_count": 12,
      "outputs": [
        {
          "output_type": "execute_result",
          "data": {
            "text/plain": [
              "[2, 4, 6, 8, 10]"
            ]
          },
          "metadata": {},
          "execution_count": 12
        }
      ]
    },
    {
      "cell_type": "code",
      "source": [
        "#map - It returns whatever it gets\n",
        "list(map(even_check,myList))"
      ],
      "metadata": {
        "colab": {
          "base_uri": "https://localhost:8080/"
        },
        "id": "KE3g-B7A7N8U",
        "outputId": "5751d67c-b461-4715-a2a2-f0d6eacb4728"
      },
      "execution_count": 13,
      "outputs": [
        {
          "output_type": "execute_result",
          "data": {
            "text/plain": [
              "[None, 2, None, 4, None, 6, None, 8, None, 10]"
            ]
          },
          "metadata": {},
          "execution_count": 13
        }
      ]
    },
    {
      "cell_type": "code",
      "source": [
        "# Reduce - reduces the iterable list to single aggregate value\n",
        "# How it works? -\n",
        "# 1st iteration - reduce function asks myList1 to give first 2 values, if present\n",
        "# Remaining iteration - it passes one value at a time - gets added to previous sum\n",
        "from functools import reduce\n",
        "\n",
        "def sum(x,y):\n",
        "  return x+y\n",
        "\n",
        "myList1 = list(range(1,101))\n",
        "reduce(sum,myList1)"
      ],
      "metadata": {
        "colab": {
          "base_uri": "https://localhost:8080/"
        },
        "id": "6vb1TIsR7oKU",
        "outputId": "b446f151-c87c-4d32-b0d0-bcfbcbdee541"
      },
      "execution_count": 16,
      "outputs": [
        {
          "output_type": "execute_result",
          "data": {
            "text/plain": [
              "5050"
            ]
          },
          "metadata": {},
          "execution_count": 16
        }
      ]
    },
    {
      "cell_type": "code",
      "source": [
        "# Till now we knew how many attributes we are passing to function\n",
        "# Arbitary Function --> *args --> *names\n",
        "def greet(*names):\n",
        "  print(names)\n",
        "  for name in names:\n",
        "    print('Welcome to the party {} !!'.format(name))\n",
        "\n",
        "greet('Amit','Ajit','Sujit','Sanjit')"
      ],
      "metadata": {
        "colab": {
          "base_uri": "https://localhost:8080/"
        },
        "id": "fljAhWMC-5rH",
        "outputId": "ed3a48b4-a1b9-4bf6-c3db-2f8fb934354c"
      },
      "execution_count": 17,
      "outputs": [
        {
          "output_type": "stream",
          "name": "stdout",
          "text": [
            "('Amit', 'Ajit', 'Sujit', 'Sanjit')\n",
            "Welcome to the party Amit !!\n",
            "Welcome to the party Ajit !!\n",
            "Welcome to the party Sujit !!\n",
            "Welcome to the party Sanjit !!\n"
          ]
        }
      ]
    },
    {
      "cell_type": "code",
      "source": [
        "# **kwargs\n",
        "def printMarks(name, **marks):\n",
        "  print(marks)\n",
        "  print(\"Student Name --> \", name)\n",
        "  for key, value in marks.items():\n",
        "    print('Subject: {} --->  Marks : {}'.format(key,value))\n",
        "\n",
        "printMarks(\"Amit\", Maths='100', Science='99', Literature='98')"
      ],
      "metadata": {
        "colab": {
          "base_uri": "https://localhost:8080/"
        },
        "id": "WC_iCbkHAWN6",
        "outputId": "95cffa2a-b289-4bda-b6ad-764c6b8bc277"
      },
      "execution_count": 21,
      "outputs": [
        {
          "output_type": "stream",
          "name": "stdout",
          "text": [
            "{'Maths': '100', 'Science': '99', 'Literature': '98'}\n",
            "Student Name -->  Amit\n",
            "Subject: Maths --->  Marks : 100\n",
            "Subject: Science --->  Marks : 99\n",
            "Subject: Literature --->  Marks : 98\n"
          ]
        }
      ]
    },
    {
      "cell_type": "code",
      "source": [
        "myDict={'Maths':'100','Science':'99','Literature':'98'}\n",
        "print(myDict)\n",
        "#"
      ],
      "metadata": {
        "colab": {
          "base_uri": "https://localhost:8080/"
        },
        "id": "3DamNQk_AWDS",
        "outputId": "51cbe090-d0bd-4b63-e7e3-823b79b57234"
      },
      "execution_count": 22,
      "outputs": [
        {
          "output_type": "stream",
          "name": "stdout",
          "text": [
            "{'Maths': '100', 'Science': '99', 'Literature': '98'}\n"
          ]
        }
      ]
    },
    {
      "cell_type": "code",
      "source": [
        "def printMarks(name, marksDict):\n",
        "  print(\"Student Name :\",name)\n",
        "  for sub, marks in marksDict.items():\n",
        "    print('Subject: {} --->  Marks : {}'.format(sub,marks))\n",
        "\n",
        "printMarks(\"Amit\", myDict)"
      ],
      "metadata": {
        "colab": {
          "base_uri": "https://localhost:8080/"
        },
        "id": "6yy0FE7tATr_",
        "outputId": "19364764-41e6-42e4-d6d5-645123d001d0"
      },
      "execution_count": 23,
      "outputs": [
        {
          "output_type": "stream",
          "name": "stdout",
          "text": [
            "Student Name : Amit\n",
            "Subject: Maths --->  Marks : 100\n",
            "Subject: Science --->  Marks : 99\n",
            "Subject: Literature --->  Marks : 98\n"
          ]
        }
      ]
    },
    {
      "cell_type": "code",
      "source": [
        "# Named Functions:\n",
        "def square(x):\n",
        "  return x**2\n",
        "\n",
        "square(5)"
      ],
      "metadata": {
        "colab": {
          "base_uri": "https://localhost:8080/"
        },
        "id": "79hgsvT5CiJW",
        "outputId": "2cab3fc5-0627-4639-eacc-49cba292a747"
      },
      "execution_count": 24,
      "outputs": [
        {
          "output_type": "execute_result",
          "data": {
            "text/plain": [
              "25"
            ]
          },
          "metadata": {},
          "execution_count": 24
        }
      ]
    },
    {
      "cell_type": "code",
      "source": [
        "# Lambda - anonymous functions:\n",
        "sqlambda = lambda x: x**2\n",
        "sqlambda(5)"
      ],
      "metadata": {
        "colab": {
          "base_uri": "https://localhost:8080/"
        },
        "id": "Eq6R2ju0C23O",
        "outputId": "b8ba3139-9c3f-4fce-b619-e45c3332f4f5"
      },
      "execution_count": 25,
      "outputs": [
        {
          "output_type": "execute_result",
          "data": {
            "text/plain": [
              "25"
            ]
          },
          "metadata": {},
          "execution_count": 25
        }
      ]
    },
    {
      "cell_type": "code",
      "source": [
        "# use filter with lambda\n",
        "myList=[1,2,3,4,5,6,7,8,9,10]\n",
        "list(filter(lambda x: x%2==0,myList))"
      ],
      "metadata": {
        "colab": {
          "base_uri": "https://localhost:8080/"
        },
        "id": "zxLSHm4gDB0P",
        "outputId": "1be0d279-814f-4d85-bc69-34e402aeb720"
      },
      "execution_count": 26,
      "outputs": [
        {
          "output_type": "execute_result",
          "data": {
            "text/plain": [
              "[2, 4, 6, 8, 10]"
            ]
          },
          "metadata": {},
          "execution_count": 26
        }
      ]
    },
    {
      "cell_type": "code",
      "source": [
        "# use map using lambda\n",
        "# we want to perform cube of each number using lambda function\n",
        "list(map(lambda x: x**3,myList))"
      ],
      "metadata": {
        "colab": {
          "base_uri": "https://localhost:8080/"
        },
        "id": "M2QpbUiGDadY",
        "outputId": "9e4ed032-5768-4ed0-9a46-4a17fefaf3f8"
      },
      "execution_count": 27,
      "outputs": [
        {
          "output_type": "execute_result",
          "data": {
            "text/plain": [
              "[1, 8, 27, 64, 125, 216, 343, 512, 729, 1000]"
            ]
          },
          "metadata": {},
          "execution_count": 27
        }
      ]
    },
    {
      "cell_type": "code",
      "source": [
        "# print the cube of odd numbers\n",
        "list(map(lambda x: x**3,filter(lambda x: x%2!=0,myList)))"
      ],
      "metadata": {
        "colab": {
          "base_uri": "https://localhost:8080/"
        },
        "id": "yDSQBr3oD2W2",
        "outputId": "0c316d23-7ef2-477d-9db8-1103dffab70c"
      },
      "execution_count": 28,
      "outputs": [
        {
          "output_type": "execute_result",
          "data": {
            "text/plain": [
              "[1, 27, 125, 343, 729]"
            ]
          },
          "metadata": {},
          "execution_count": 28
        }
      ]
    },
    {
      "cell_type": "code",
      "source": [
        "reduce(lambda x,y:x*y, myList)"
      ],
      "metadata": {
        "colab": {
          "base_uri": "https://localhost:8080/"
        },
        "id": "z9C87gk3F_Qi",
        "outputId": "55e08a34-4c46-4ab7-86f2-d0fedbc4c877"
      },
      "execution_count": 29,
      "outputs": [
        {
          "output_type": "execute_result",
          "data": {
            "text/plain": [
              "3628800"
            ]
          },
          "metadata": {},
          "execution_count": 29
        }
      ]
    }
  ]
}